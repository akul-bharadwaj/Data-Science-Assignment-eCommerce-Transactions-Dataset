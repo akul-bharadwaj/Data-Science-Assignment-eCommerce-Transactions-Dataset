{
 "cells": [
  {
   "cell_type": "markdown",
   "metadata": {},
   "source": [
    "# <b>Task 3</b>: Customer Segmentation / Clustering\n",
    "\n",
    "Perform <b>customer segmentation</b> using clustering techniques. Use both <b>profile information</b>\n",
    "(from <i>Customers.csv</i>) and transaction information (from <i>Transactions.csv</i>).\n",
    "- You have the flexibility to choose any clustering algorithm and any number of clusters in\n",
    "between(2 and 10)\n",
    "- Calculate clustering metrics, including the <b>DB Index(Evaluation will be done on this)</b>.\n",
    "- Visualise your clusters using relevant plots.\n"
   ]
  },
  {
   "cell_type": "code",
   "execution_count": 1,
   "metadata": {},
   "outputs": [],
   "source": [
    "import pandas as pd\n",
    "import numpy as np\n",
    "from sklearn.preprocessing import StandardScaler\n",
    "from sklearn.cluster import KMeans\n",
    "from sklearn.metrics import silhouette_score, davies_bouldin_score \n",
    "from sklearn.decomposition import PCA\n",
    "import matplotlib.pyplot as plt"
   ]
  },
  {
   "cell_type": "markdown",
   "metadata": {},
   "source": [
    "## Loading the Dataset"
   ]
  },
  {
   "cell_type": "code",
   "execution_count": 2,
   "metadata": {},
   "outputs": [],
   "source": [
    "customers = pd.read_csv(\"Customers.csv\")\n",
    "transactions = pd.read_csv(\"Transactions.csv\")"
   ]
  },
  {
   "cell_type": "code",
   "execution_count": 3,
   "metadata": {},
   "outputs": [
    {
     "data": {
      "text/html": [
       "<div>\n",
       "<style scoped>\n",
       "    .dataframe tbody tr th:only-of-type {\n",
       "        vertical-align: middle;\n",
       "    }\n",
       "\n",
       "    .dataframe tbody tr th {\n",
       "        vertical-align: top;\n",
       "    }\n",
       "\n",
       "    .dataframe thead th {\n",
       "        text-align: right;\n",
       "    }\n",
       "</style>\n",
       "<table border=\"1\" class=\"dataframe\">\n",
       "  <thead>\n",
       "    <tr style=\"text-align: right;\">\n",
       "      <th></th>\n",
       "      <th>CustomerID</th>\n",
       "      <th>CustomerName</th>\n",
       "      <th>Region</th>\n",
       "      <th>SignupDate</th>\n",
       "    </tr>\n",
       "  </thead>\n",
       "  <tbody>\n",
       "    <tr>\n",
       "      <th>0</th>\n",
       "      <td>C0001</td>\n",
       "      <td>Lawrence Carroll</td>\n",
       "      <td>South America</td>\n",
       "      <td>2022-07-10</td>\n",
       "    </tr>\n",
       "    <tr>\n",
       "      <th>1</th>\n",
       "      <td>C0002</td>\n",
       "      <td>Elizabeth Lutz</td>\n",
       "      <td>Asia</td>\n",
       "      <td>2022-02-13</td>\n",
       "    </tr>\n",
       "    <tr>\n",
       "      <th>2</th>\n",
       "      <td>C0003</td>\n",
       "      <td>Michael Rivera</td>\n",
       "      <td>South America</td>\n",
       "      <td>2024-03-07</td>\n",
       "    </tr>\n",
       "    <tr>\n",
       "      <th>3</th>\n",
       "      <td>C0004</td>\n",
       "      <td>Kathleen Rodriguez</td>\n",
       "      <td>South America</td>\n",
       "      <td>2022-10-09</td>\n",
       "    </tr>\n",
       "    <tr>\n",
       "      <th>4</th>\n",
       "      <td>C0005</td>\n",
       "      <td>Laura Weber</td>\n",
       "      <td>Asia</td>\n",
       "      <td>2022-08-15</td>\n",
       "    </tr>\n",
       "  </tbody>\n",
       "</table>\n",
       "</div>"
      ],
      "text/plain": [
       "  CustomerID        CustomerName         Region  SignupDate\n",
       "0      C0001    Lawrence Carroll  South America  2022-07-10\n",
       "1      C0002      Elizabeth Lutz           Asia  2022-02-13\n",
       "2      C0003      Michael Rivera  South America  2024-03-07\n",
       "3      C0004  Kathleen Rodriguez  South America  2022-10-09\n",
       "4      C0005         Laura Weber           Asia  2022-08-15"
      ]
     },
     "execution_count": 3,
     "metadata": {},
     "output_type": "execute_result"
    }
   ],
   "source": [
    "customers.head()"
   ]
  },
  {
   "cell_type": "code",
   "execution_count": 4,
   "metadata": {},
   "outputs": [
    {
     "data": {
      "text/html": [
       "<div>\n",
       "<style scoped>\n",
       "    .dataframe tbody tr th:only-of-type {\n",
       "        vertical-align: middle;\n",
       "    }\n",
       "\n",
       "    .dataframe tbody tr th {\n",
       "        vertical-align: top;\n",
       "    }\n",
       "\n",
       "    .dataframe thead th {\n",
       "        text-align: right;\n",
       "    }\n",
       "</style>\n",
       "<table border=\"1\" class=\"dataframe\">\n",
       "  <thead>\n",
       "    <tr style=\"text-align: right;\">\n",
       "      <th></th>\n",
       "      <th>TransactionID</th>\n",
       "      <th>CustomerID</th>\n",
       "      <th>ProductID</th>\n",
       "      <th>TransactionDate</th>\n",
       "      <th>Quantity</th>\n",
       "      <th>TotalValue</th>\n",
       "      <th>Price</th>\n",
       "    </tr>\n",
       "  </thead>\n",
       "  <tbody>\n",
       "    <tr>\n",
       "      <th>0</th>\n",
       "      <td>T00001</td>\n",
       "      <td>C0199</td>\n",
       "      <td>P067</td>\n",
       "      <td>2024-08-25 12:38:23</td>\n",
       "      <td>1</td>\n",
       "      <td>300.68</td>\n",
       "      <td>300.68</td>\n",
       "    </tr>\n",
       "    <tr>\n",
       "      <th>1</th>\n",
       "      <td>T00112</td>\n",
       "      <td>C0146</td>\n",
       "      <td>P067</td>\n",
       "      <td>2024-05-27 22:23:54</td>\n",
       "      <td>1</td>\n",
       "      <td>300.68</td>\n",
       "      <td>300.68</td>\n",
       "    </tr>\n",
       "    <tr>\n",
       "      <th>2</th>\n",
       "      <td>T00166</td>\n",
       "      <td>C0127</td>\n",
       "      <td>P067</td>\n",
       "      <td>2024-04-25 07:38:55</td>\n",
       "      <td>1</td>\n",
       "      <td>300.68</td>\n",
       "      <td>300.68</td>\n",
       "    </tr>\n",
       "    <tr>\n",
       "      <th>3</th>\n",
       "      <td>T00272</td>\n",
       "      <td>C0087</td>\n",
       "      <td>P067</td>\n",
       "      <td>2024-03-26 22:55:37</td>\n",
       "      <td>2</td>\n",
       "      <td>601.36</td>\n",
       "      <td>300.68</td>\n",
       "    </tr>\n",
       "    <tr>\n",
       "      <th>4</th>\n",
       "      <td>T00363</td>\n",
       "      <td>C0070</td>\n",
       "      <td>P067</td>\n",
       "      <td>2024-03-21 15:10:10</td>\n",
       "      <td>3</td>\n",
       "      <td>902.04</td>\n",
       "      <td>300.68</td>\n",
       "    </tr>\n",
       "  </tbody>\n",
       "</table>\n",
       "</div>"
      ],
      "text/plain": [
       "  TransactionID CustomerID ProductID      TransactionDate  Quantity  \\\n",
       "0        T00001      C0199      P067  2024-08-25 12:38:23         1   \n",
       "1        T00112      C0146      P067  2024-05-27 22:23:54         1   \n",
       "2        T00166      C0127      P067  2024-04-25 07:38:55         1   \n",
       "3        T00272      C0087      P067  2024-03-26 22:55:37         2   \n",
       "4        T00363      C0070      P067  2024-03-21 15:10:10         3   \n",
       "\n",
       "   TotalValue   Price  \n",
       "0      300.68  300.68  \n",
       "1      300.68  300.68  \n",
       "2      300.68  300.68  \n",
       "3      601.36  300.68  \n",
       "4      902.04  300.68  "
      ]
     },
     "execution_count": 4,
     "metadata": {},
     "output_type": "execute_result"
    }
   ],
   "source": [
    "transactions.head()"
   ]
  },
  {
   "cell_type": "markdown",
   "metadata": {},
   "source": [
    "## Data Preprocessing"
   ]
  },
  {
   "cell_type": "markdown",
   "metadata": {},
   "source": [
    "### Adding RFM features and Selecting the required features"
   ]
  },
  {
   "cell_type": "code",
   "execution_count": 5,
   "metadata": {},
   "outputs": [],
   "source": [
    "from sklearn.preprocessing import LabelEncoder\n",
    "\n",
    "# Convert SignupDate and TransactionDate to datetime\n",
    "customers['SignupDate'] = pd.to_datetime(customers['SignupDate'])\n",
    "transactions['TransactionDate'] = pd.to_datetime(transactions['TransactionDate'])\n",
    "\n",
    "# Add Recency, Frequency, and Monetary features\n",
    "transactions = transactions.groupby('CustomerID').agg({\n",
    "    'TransactionDate': lambda x: (pd.to_datetime('today') - pd.to_datetime(x.max())).days,\n",
    "    'TotalValue': 'sum', \n",
    "    'TransactionID': 'count' \n",
    "}).rename(columns={\n",
    "    'TotalValue': 'Monetary',\n",
    "    'TransactionID': 'Frequency',\n",
    "    'TransactionDate': 'Recency'\n",
    "}).reset_index()\n",
    "\n",
    "# Merge with the customer profile data\n",
    "customer_data = customers.merge(transactions, on=\"CustomerID\", how=\"left\")\n",
    "\n",
    "# Calculate customer tenure\n",
    "customer_data['Tenure'] = (pd.to_datetime('today') - customer_data['SignupDate']).dt.days\n",
    "\n",
    "# Select features for clustering\n",
    "features = ['Region', 'Tenure', 'Recency', 'Frequency', 'Monetary']\n",
    "\n",
    "# One-hot encode the Region feature\n",
    "customer_data = pd.get_dummies(customer_data[features], columns=['Region'])"
   ]
  },
  {
   "cell_type": "code",
   "execution_count": 6,
   "metadata": {},
   "outputs": [
    {
     "name": "stdout",
     "output_type": "stream",
     "text": [
      "   Tenure  Recency  Frequency  Monetary  Region_Asia  Region_Europe  \\\n",
      "0     933     87.0        5.0   3354.52        False          False   \n",
      "1    1080     56.0        4.0   1862.74         True          False   \n",
      "2     327    157.0        4.0   2725.38        False          False   \n",
      "3     842     36.0        8.0   5354.88        False          False   \n",
      "4     897     85.0        3.0   2034.24         True          False   \n",
      "\n",
      "   Region_North America  Region_South America  \n",
      "0                 False                  True  \n",
      "1                 False                 False  \n",
      "2                 False                  True  \n",
      "3                 False                  True  \n",
      "4                 False                 False  \n"
     ]
    }
   ],
   "source": [
    "print(customer_data.head())"
   ]
  },
  {
   "cell_type": "markdown",
   "metadata": {},
   "source": [
    "### Handling missing values"
   ]
  },
  {
   "cell_type": "code",
   "execution_count": 7,
   "metadata": {},
   "outputs": [
    {
     "data": {
      "text/plain": [
       "Tenure                  0\n",
       "Recency                 1\n",
       "Frequency               1\n",
       "Monetary                1\n",
       "Region_Asia             0\n",
       "Region_Europe           0\n",
       "Region_North America    0\n",
       "Region_South America    0\n",
       "dtype: int64"
      ]
     },
     "execution_count": 7,
     "metadata": {},
     "output_type": "execute_result"
    }
   ],
   "source": [
    "customer_data.isnull().sum()"
   ]
  },
  {
   "cell_type": "code",
   "execution_count": 8,
   "metadata": {},
   "outputs": [
    {
     "data": {
      "text/plain": [
       "Tenure                  0\n",
       "Recency                 0\n",
       "Frequency               0\n",
       "Monetary                0\n",
       "Region_Asia             0\n",
       "Region_Europe           0\n",
       "Region_North America    0\n",
       "Region_South America    0\n",
       "dtype: int64"
      ]
     },
     "execution_count": 8,
     "metadata": {},
     "output_type": "execute_result"
    }
   ],
   "source": [
    "customer_data = customer_data.fillna(0)\n",
    "customer_data.isnull().sum()"
   ]
  },
  {
   "cell_type": "markdown",
   "metadata": {},
   "source": [
    "### Standardizing the data"
   ]
  },
  {
   "cell_type": "code",
   "execution_count": 9,
   "metadata": {},
   "outputs": [],
   "source": [
    "scaler = StandardScaler()\n",
    "scaled_features = scaler.fit_transform(customer_data)"
   ]
  },
  {
   "cell_type": "code",
   "execution_count": 10,
   "metadata": {},
   "outputs": [
    {
     "name": "stdout",
     "output_type": "stream",
     "text": [
      "[[ 1.15288412 -0.25044626  0.         ... -0.57735027 -0.54653573\n",
      "   1.54590766]\n",
      " [ 1.60559336 -0.68735308 -0.45129368 ... -0.57735027 -0.54653573\n",
      "  -0.64686916]\n",
      " [-0.7133866   0.73611752 -0.45129368 ... -0.57735027 -0.54653573\n",
      "   1.54590766]\n",
      " ...\n",
      " [ 1.56247819  0.15827302 -1.35388105 ...  1.73205081 -0.54653573\n",
      "  -0.64686916]\n",
      " [ 0.70325454 -0.15178988 -0.45129368 ...  1.73205081 -0.54653573\n",
      "  -0.64686916]\n",
      " [ 0.11812015 -0.80010323  0.         ... -0.57735027 -0.54653573\n",
      "  -0.64686916]]\n"
     ]
    }
   ],
   "source": [
    "print(scaled_features)"
   ]
  },
  {
   "cell_type": "markdown",
   "metadata": {},
   "source": [
    "### Dimensionality Reduction"
   ]
  },
  {
   "cell_type": "code",
   "execution_count": 11,
   "metadata": {},
   "outputs": [],
   "source": [
    "# Reduce dimensions using PCA\n",
    "pca = PCA(n_components=2)\n",
    "reduced_features = pca.fit_transform(scaled_features)"
   ]
  },
  {
   "cell_type": "code",
   "execution_count": 12,
   "metadata": {},
   "outputs": [
    {
     "data": {
      "application/vnd.plotly.v1+json": {
       "config": {
        "plotlyServerURL": "https://plot.ly"
       },
       "data": [
        {
         "hovertemplate": "x=%{x}<br>y=%{y}<extra></extra>",
         "legendgroup": "",
         "marker": {
          "color": "blue",
          "size": 10,
          "symbol": "circle"
         },
         "mode": "markers",
         "name": "",
         "orientation": "v",
         "showlegend": false,
         "type": "scatter",
         "x": [
          0.6139971453631647,
          -0.4772873632226593,
          -0.48376539076773317,
          2.39147559906458,
          -0.9338730268410474,
          0.2925228044134082,
          -1.1655590566785208,
          1.8735337724443408,
          -1.6901136297082346,
          -0.8538203017945915,
          1.0146919961088612,
          1.8745348608675887,
          1.8376329453435671,
          -4.161755013064277,
          -1.9020244723178974,
          0.11878185603805314,
          1.250660062443354,
          -0.2627836440990308,
          -0.19560596515815803,
          -3.7414306345870547,
          1.3648127683923943,
          0.34161217000282434,
          0.8940014560600245,
          0.30564172791023886,
          -0.7259139049330228,
          -0.4994138014345199,
          -0.6452980588619989,
          2.133450110447616,
          -0.3738673547386453,
          -0.11239374070921547,
          -0.17534775502755695,
          -0.8704604637932041,
          -3.063500607202267,
          0.0590304102218005,
          -0.9156272646791628,
          -1.202826722131204,
          -0.04185034984861699,
          0.12098356393064202,
          0.8919129556632496,
          -0.9015892798452217,
          1.5047341014445816,
          -0.8338367548587129,
          -1.5613388228234155,
          -0.968145932379628,
          1.1267738273777985,
          0.88602907805578,
          -0.14958405742021433,
          0.7112675916917854,
          -0.064235015496057,
          -0.6830144495365744,
          1.3591083568793727,
          -0.5082801321544428,
          0.8524105440959852,
          2.0280787465241614,
          -0.5529670928790968,
          0.12967477400392097,
          0.6411588769914388,
          -3.8597454943528917,
          1.877306872625397,
          -2.605082594096918,
          -0.8772349512853477,
          -1.9384045194381612,
          -1.952082959053932,
          0.21186950800780757,
          2.911058215619751,
          -1.1473278370229376,
          0.38200343520541946,
          1.9982777329809605,
          -0.1634553703169276,
          -0.5484804510825294,
          -1.0134746628169222,
          -0.2731508190851181,
          -2.440289726870727,
          -1.2974952812935636,
          2.0123942206217342,
          0.2798183517126482,
          -0.9169644822394525,
          -1.8799129330832112,
          -0.4365093848626123,
          -3.4303302260153967,
          0.12203232225786423,
          2.7447357063922446,
          -0.5353919272005075,
          1.5559719927479887,
          -0.5724419092028845,
          0.03556986507678714,
          1.7454850550898644,
          -0.17607988880909836,
          -1.1795559562262763,
          0.4260989011787959,
          0.25766337466998046,
          -0.2808770999250674,
          1.3070867068193186,
          -1.0453767086713022,
          -1.1797016108595448,
          1.699184264339524,
          -3.633108904410257,
          0.8954912099167693,
          2.802481891225271,
          0.3216743009320119,
          1.8208117427976953,
          1.9774696814974566,
          -0.5399354278319286,
          2.571750462302596,
          0.05704646880431022,
          0.05139577473103796,
          0.5699836439307618,
          1.4593311178079782,
          2.502131421773199,
          -3.944655494434638,
          -0.5495919890878329,
          -1.0978301408613222,
          2.0921945503061257,
          0.2134194597709067,
          -0.537441463382124,
          -0.1105484919415184,
          -0.791718785992559,
          1.2512917126864789,
          -0.6013129904272116,
          -0.8146387468218728,
          -1.4613059751417041,
          1.4850140169169084,
          -1.5071458374630655,
          0.3891148158189889,
          -0.8093762324268703,
          1.2651551260109763,
          -0.2875148573169451,
          -2.6946753297929926,
          -0.6192287456205824,
          -2.5313715342491294,
          -0.6607966218565441,
          -0.9851385433557046,
          0.302368898181028,
          0.11148354820993775,
          -0.6133181096896514,
          0.5136524260862201,
          0.7219866952669961,
          0.8135017944375763,
          0.8994377322381146,
          -1.4827759746555913,
          3.8525261146634833,
          -0.44658623666568514,
          1.5666992900227217,
          -2.832736878696444,
          1.7806830888000074,
          -0.4451000795421451,
          1.9414556943589298,
          1.0289426266250188,
          -0.18080283930089355,
          -2.4101573870859245,
          -1.490523739428971,
          0.5773367874924584,
          1.0713660179452165,
          -0.06269579155015613,
          1.813370842411298,
          3.2897258251264923,
          -0.38133693361635324,
          0.05815685296812051,
          -0.6832270243360435,
          -0.5122892235253117,
          0.3925141798110049,
          1.4990486232581934,
          1.4577182824913768,
          -0.26076217923856615,
          3.1906695122867506,
          -0.6845600235709736,
          -1.3481567969528134,
          0.7809746826156255,
          1.3820445438149702,
          0.009308864466993274,
          1.0909173357855975,
          -0.30030410600922497,
          1.3045349742270367,
          0.6677824335616566,
          2.5347044075510436,
          -1.5005025587930485,
          -0.7010704860275077,
          -0.2916437282662542,
          0.13734380810898567,
          -2.0655584123899398,
          1.0709801758518922,
          -0.8877061688714799,
          0.12274110967937735,
          0.8745790536847143,
          -1.0610413870460298,
          -1.226751633292995,
          0.6650251413715803,
          3.0300625930583065,
          -0.04305970739270949,
          0.5430416477309233,
          0.5405850022792349,
          -0.6809164856768463,
          -1.3585574170925063,
          0.5262742785480766,
          1.0023471987586676,
          0.4502781922688647,
          -0.8479802194092388,
          -1.8420481743249915,
          -0.8910705902173641,
          0.6504569574832099
         ],
         "xaxis": "x",
         "y": [
          -1.6942239562676111,
          -0.6136867315148722,
          -1.0320064832261755,
          -1.2194327406931713,
          -0.4487060001968559,
          -1.028143685024967,
          -0.47291706575796166,
          2.2856854717202286,
          -0.5510876067516515,
          -0.7326598870967002,
          -1.4879718410362952,
          -0.4651339197004241,
          -0.508211788284254,
          -0.29436815131564575,
          1.3802591267579565,
          1.8387347343774385,
          0.23056297240183413,
          2.2480073978817643,
          -0.49962328967494385,
          1.5953941471961222,
          0.4890532485839532,
          0.5257970070629613,
          -0.7197007346541132,
          2.0442593891870042,
          -1.8728540723158256,
          1.896094724648463,
          -0.2189151500352256,
          1.1117467836368375,
          0.8248896002724762,
          1.7853355589825484,
          -1.0522716153196983,
          -1.2093253583852122,
          1.5796474392465893,
          1.7545750933363877,
          2.031764261846994,
          1.7875276468819965,
          -0.4212734081271836,
          0.9665969094795092,
          -0.5098381222880111,
          -0.5114145599745453,
          0.25507086864250883,
          1.2104902612350406,
          -0.27178745719701036,
          0.005735066770974087,
          -0.07457378644715994,
          2.4945657270871933,
          2.064595621572425,
          -0.5943772956112477,
          2.3414557545425585,
          1.6958826871802637,
          0.2204718695843175,
          -1.0683673049755606,
          -0.5736647315997915,
          1.319861996132054,
          2.183468384623788,
          0.5431863765434727,
          0.3437869199722308,
          1.3924071982137525,
          2.4062943468041817,
          -1.3651009445153461,
          -0.6942465465263273,
          -0.7923983458046783,
          -0.3811277406774083,
          -0.12036140362208474,
          2.7165118819334673,
          0.21454343243933702,
          1.7118860068579158,
          1.8572017670940544,
          -0.13750134790012752,
          -0.987188738802064,
          -1.9738969146212666,
          2.044988816383341,
          -0.8879935091699341,
          -0.9664760654373975,
          0.10187504831665968,
          -1.0266537354710195,
          -1.423916170455291,
          0.35298456188030203,
          0.9147556018851025,
          0.06239793887039037,
          0.09845364195961438,
          -1.3535764666500072,
          -2.1540031110093887,
          1.1563302239656308,
          -0.8828199493007314,
          -0.7074025209272233,
          -0.5084971678455582,
          0.0599247970119179,
          -0.25388168379662046,
          0.5671109527913896,
          -1.289215583856363,
          0.5112070013086282,
          1.1451321855711043,
          1.4556664599605813,
          -1.7619977850309987,
          -1.3743649488704073,
          -0.05692631971225491,
          2.407014547179547,
          -0.9959764486381397,
          -0.2359614207279473,
          0.6892257754604886,
          -1.1758683605091245,
          -0.8644814025685931,
          -1.4398256689372817,
          0.5202224575107399,
          -0.18402394086907609,
          -1.4070184249602395,
          -1.3286947181682862,
          1.674110219108751,
          0.36226438899417274,
          0.24567928730341546,
          -1.9225527061418966,
          -1.390309877627064,
          0.4989699320959901,
          0.6434976974926561,
          2.177343441307935,
          2.1968201139940273,
          -1.8303325469073324,
          -0.26819811868347054,
          -1.6580583195096954,
          -0.48719711709247493,
          1.3008699012180882,
          -0.006542905322724821,
          0.4660355418819267,
          1.2365490261165861,
          -0.7966200148009348,
          0.1419480358162317,
          -0.20697476674314091,
          -1.1017702076419598,
          -1.7963956288904734,
          0.8154989065632374,
          -0.7523208567753202,
          -1.5049022105965357,
          -0.474931754692425,
          -0.7819858289489111,
          0.6676795387019291,
          -0.8983772152034849,
          0.9477110462152187,
          1.2522222508179515,
          -0.13136246937127438,
          0.39182852502116455,
          0.32194241395776474,
          0.9412923223792153,
          1.8219992291815856,
          0.3806049299375781,
          0.6081575563299697,
          -1.4653060517894678,
          -1.2062628805317073,
          -0.42244011577626295,
          -2.0760711865439623,
          -1.1325828440146997,
          -1.7934011814631583,
          -1.6567719703400667,
          2.3018121659151998,
          -1.083131715933003,
          2.385475226894247,
          1.746801042614959,
          -1.3949179387576653,
          -0.4668913103680792,
          0.9939261460009925,
          -0.13938794429484352,
          -0.04268834067797782,
          -1.0386119138630525,
          -0.3506507612349242,
          -1.286921177983644,
          -1.0718620125822387,
          -0.2540990123431479,
          -1.4762326698636927,
          -1.1961188620596592,
          -0.09671043055804139,
          -1.383129297443248,
          0.2657766757012766,
          0.27744537423255394,
          -1.584365516502103,
          0.2314991152840519,
          0.7831876618984353,
          0.4944263800640396,
          0.24846480918549607,
          -0.5163420643900041,
          -0.2897570115869592,
          -0.9979937892796709,
          0.5335541295687104,
          1.861914360788152,
          -1.5849293328563783,
          1.5644104005907622,
          0.07218312633458486,
          -0.6589872685792038,
          -1.2984289710215997,
          1.7794167757276378,
          -0.8516218431818423,
          -0.918183033159809,
          -1.7479504353852955,
          -0.051114758971865334,
          2.1649800856307118,
          -0.5614765870974394,
          -0.7854720182666349,
          -0.6917768989389282,
          -1.3059439468563152,
          -0.7272734846016885,
          0.2536377812474566
         ],
         "yaxis": "y"
        }
       ],
       "layout": {
        "height": 600,
        "legend": {
         "tracegroupgap": 0
        },
        "margin": {
         "t": 60
        },
        "template": {
         "data": {
          "bar": [
           {
            "error_x": {
             "color": "#2a3f5f"
            },
            "error_y": {
             "color": "#2a3f5f"
            },
            "marker": {
             "line": {
              "color": "#E5ECF6",
              "width": 0.5
             },
             "pattern": {
              "fillmode": "overlay",
              "size": 10,
              "solidity": 0.2
             }
            },
            "type": "bar"
           }
          ],
          "barpolar": [
           {
            "marker": {
             "line": {
              "color": "#E5ECF6",
              "width": 0.5
             },
             "pattern": {
              "fillmode": "overlay",
              "size": 10,
              "solidity": 0.2
             }
            },
            "type": "barpolar"
           }
          ],
          "carpet": [
           {
            "aaxis": {
             "endlinecolor": "#2a3f5f",
             "gridcolor": "white",
             "linecolor": "white",
             "minorgridcolor": "white",
             "startlinecolor": "#2a3f5f"
            },
            "baxis": {
             "endlinecolor": "#2a3f5f",
             "gridcolor": "white",
             "linecolor": "white",
             "minorgridcolor": "white",
             "startlinecolor": "#2a3f5f"
            },
            "type": "carpet"
           }
          ],
          "choropleth": [
           {
            "colorbar": {
             "outlinewidth": 0,
             "ticks": ""
            },
            "type": "choropleth"
           }
          ],
          "contour": [
           {
            "colorbar": {
             "outlinewidth": 0,
             "ticks": ""
            },
            "colorscale": [
             [
              0,
              "#0d0887"
             ],
             [
              0.1111111111111111,
              "#46039f"
             ],
             [
              0.2222222222222222,
              "#7201a8"
             ],
             [
              0.3333333333333333,
              "#9c179e"
             ],
             [
              0.4444444444444444,
              "#bd3786"
             ],
             [
              0.5555555555555556,
              "#d8576b"
             ],
             [
              0.6666666666666666,
              "#ed7953"
             ],
             [
              0.7777777777777778,
              "#fb9f3a"
             ],
             [
              0.8888888888888888,
              "#fdca26"
             ],
             [
              1,
              "#f0f921"
             ]
            ],
            "type": "contour"
           }
          ],
          "contourcarpet": [
           {
            "colorbar": {
             "outlinewidth": 0,
             "ticks": ""
            },
            "type": "contourcarpet"
           }
          ],
          "heatmap": [
           {
            "colorbar": {
             "outlinewidth": 0,
             "ticks": ""
            },
            "colorscale": [
             [
              0,
              "#0d0887"
             ],
             [
              0.1111111111111111,
              "#46039f"
             ],
             [
              0.2222222222222222,
              "#7201a8"
             ],
             [
              0.3333333333333333,
              "#9c179e"
             ],
             [
              0.4444444444444444,
              "#bd3786"
             ],
             [
              0.5555555555555556,
              "#d8576b"
             ],
             [
              0.6666666666666666,
              "#ed7953"
             ],
             [
              0.7777777777777778,
              "#fb9f3a"
             ],
             [
              0.8888888888888888,
              "#fdca26"
             ],
             [
              1,
              "#f0f921"
             ]
            ],
            "type": "heatmap"
           }
          ],
          "heatmapgl": [
           {
            "colorbar": {
             "outlinewidth": 0,
             "ticks": ""
            },
            "colorscale": [
             [
              0,
              "#0d0887"
             ],
             [
              0.1111111111111111,
              "#46039f"
             ],
             [
              0.2222222222222222,
              "#7201a8"
             ],
             [
              0.3333333333333333,
              "#9c179e"
             ],
             [
              0.4444444444444444,
              "#bd3786"
             ],
             [
              0.5555555555555556,
              "#d8576b"
             ],
             [
              0.6666666666666666,
              "#ed7953"
             ],
             [
              0.7777777777777778,
              "#fb9f3a"
             ],
             [
              0.8888888888888888,
              "#fdca26"
             ],
             [
              1,
              "#f0f921"
             ]
            ],
            "type": "heatmapgl"
           }
          ],
          "histogram": [
           {
            "marker": {
             "pattern": {
              "fillmode": "overlay",
              "size": 10,
              "solidity": 0.2
             }
            },
            "type": "histogram"
           }
          ],
          "histogram2d": [
           {
            "colorbar": {
             "outlinewidth": 0,
             "ticks": ""
            },
            "colorscale": [
             [
              0,
              "#0d0887"
             ],
             [
              0.1111111111111111,
              "#46039f"
             ],
             [
              0.2222222222222222,
              "#7201a8"
             ],
             [
              0.3333333333333333,
              "#9c179e"
             ],
             [
              0.4444444444444444,
              "#bd3786"
             ],
             [
              0.5555555555555556,
              "#d8576b"
             ],
             [
              0.6666666666666666,
              "#ed7953"
             ],
             [
              0.7777777777777778,
              "#fb9f3a"
             ],
             [
              0.8888888888888888,
              "#fdca26"
             ],
             [
              1,
              "#f0f921"
             ]
            ],
            "type": "histogram2d"
           }
          ],
          "histogram2dcontour": [
           {
            "colorbar": {
             "outlinewidth": 0,
             "ticks": ""
            },
            "colorscale": [
             [
              0,
              "#0d0887"
             ],
             [
              0.1111111111111111,
              "#46039f"
             ],
             [
              0.2222222222222222,
              "#7201a8"
             ],
             [
              0.3333333333333333,
              "#9c179e"
             ],
             [
              0.4444444444444444,
              "#bd3786"
             ],
             [
              0.5555555555555556,
              "#d8576b"
             ],
             [
              0.6666666666666666,
              "#ed7953"
             ],
             [
              0.7777777777777778,
              "#fb9f3a"
             ],
             [
              0.8888888888888888,
              "#fdca26"
             ],
             [
              1,
              "#f0f921"
             ]
            ],
            "type": "histogram2dcontour"
           }
          ],
          "mesh3d": [
           {
            "colorbar": {
             "outlinewidth": 0,
             "ticks": ""
            },
            "type": "mesh3d"
           }
          ],
          "parcoords": [
           {
            "line": {
             "colorbar": {
              "outlinewidth": 0,
              "ticks": ""
             }
            },
            "type": "parcoords"
           }
          ],
          "pie": [
           {
            "automargin": true,
            "type": "pie"
           }
          ],
          "scatter": [
           {
            "fillpattern": {
             "fillmode": "overlay",
             "size": 10,
             "solidity": 0.2
            },
            "type": "scatter"
           }
          ],
          "scatter3d": [
           {
            "line": {
             "colorbar": {
              "outlinewidth": 0,
              "ticks": ""
             }
            },
            "marker": {
             "colorbar": {
              "outlinewidth": 0,
              "ticks": ""
             }
            },
            "type": "scatter3d"
           }
          ],
          "scattercarpet": [
           {
            "marker": {
             "colorbar": {
              "outlinewidth": 0,
              "ticks": ""
             }
            },
            "type": "scattercarpet"
           }
          ],
          "scattergeo": [
           {
            "marker": {
             "colorbar": {
              "outlinewidth": 0,
              "ticks": ""
             }
            },
            "type": "scattergeo"
           }
          ],
          "scattergl": [
           {
            "marker": {
             "colorbar": {
              "outlinewidth": 0,
              "ticks": ""
             }
            },
            "type": "scattergl"
           }
          ],
          "scattermapbox": [
           {
            "marker": {
             "colorbar": {
              "outlinewidth": 0,
              "ticks": ""
             }
            },
            "type": "scattermapbox"
           }
          ],
          "scatterpolar": [
           {
            "marker": {
             "colorbar": {
              "outlinewidth": 0,
              "ticks": ""
             }
            },
            "type": "scatterpolar"
           }
          ],
          "scatterpolargl": [
           {
            "marker": {
             "colorbar": {
              "outlinewidth": 0,
              "ticks": ""
             }
            },
            "type": "scatterpolargl"
           }
          ],
          "scatterternary": [
           {
            "marker": {
             "colorbar": {
              "outlinewidth": 0,
              "ticks": ""
             }
            },
            "type": "scatterternary"
           }
          ],
          "surface": [
           {
            "colorbar": {
             "outlinewidth": 0,
             "ticks": ""
            },
            "colorscale": [
             [
              0,
              "#0d0887"
             ],
             [
              0.1111111111111111,
              "#46039f"
             ],
             [
              0.2222222222222222,
              "#7201a8"
             ],
             [
              0.3333333333333333,
              "#9c179e"
             ],
             [
              0.4444444444444444,
              "#bd3786"
             ],
             [
              0.5555555555555556,
              "#d8576b"
             ],
             [
              0.6666666666666666,
              "#ed7953"
             ],
             [
              0.7777777777777778,
              "#fb9f3a"
             ],
             [
              0.8888888888888888,
              "#fdca26"
             ],
             [
              1,
              "#f0f921"
             ]
            ],
            "type": "surface"
           }
          ],
          "table": [
           {
            "cells": {
             "fill": {
              "color": "#EBF0F8"
             },
             "line": {
              "color": "white"
             }
            },
            "header": {
             "fill": {
              "color": "#C8D4E3"
             },
             "line": {
              "color": "white"
             }
            },
            "type": "table"
           }
          ]
         },
         "layout": {
          "annotationdefaults": {
           "arrowcolor": "#2a3f5f",
           "arrowhead": 0,
           "arrowwidth": 1
          },
          "autotypenumbers": "strict",
          "coloraxis": {
           "colorbar": {
            "outlinewidth": 0,
            "ticks": ""
           }
          },
          "colorscale": {
           "diverging": [
            [
             0,
             "#8e0152"
            ],
            [
             0.1,
             "#c51b7d"
            ],
            [
             0.2,
             "#de77ae"
            ],
            [
             0.3,
             "#f1b6da"
            ],
            [
             0.4,
             "#fde0ef"
            ],
            [
             0.5,
             "#f7f7f7"
            ],
            [
             0.6,
             "#e6f5d0"
            ],
            [
             0.7,
             "#b8e186"
            ],
            [
             0.8,
             "#7fbc41"
            ],
            [
             0.9,
             "#4d9221"
            ],
            [
             1,
             "#276419"
            ]
           ],
           "sequential": [
            [
             0,
             "#0d0887"
            ],
            [
             0.1111111111111111,
             "#46039f"
            ],
            [
             0.2222222222222222,
             "#7201a8"
            ],
            [
             0.3333333333333333,
             "#9c179e"
            ],
            [
             0.4444444444444444,
             "#bd3786"
            ],
            [
             0.5555555555555556,
             "#d8576b"
            ],
            [
             0.6666666666666666,
             "#ed7953"
            ],
            [
             0.7777777777777778,
             "#fb9f3a"
            ],
            [
             0.8888888888888888,
             "#fdca26"
            ],
            [
             1,
             "#f0f921"
            ]
           ],
           "sequentialminus": [
            [
             0,
             "#0d0887"
            ],
            [
             0.1111111111111111,
             "#46039f"
            ],
            [
             0.2222222222222222,
             "#7201a8"
            ],
            [
             0.3333333333333333,
             "#9c179e"
            ],
            [
             0.4444444444444444,
             "#bd3786"
            ],
            [
             0.5555555555555556,
             "#d8576b"
            ],
            [
             0.6666666666666666,
             "#ed7953"
            ],
            [
             0.7777777777777778,
             "#fb9f3a"
            ],
            [
             0.8888888888888888,
             "#fdca26"
            ],
            [
             1,
             "#f0f921"
            ]
           ]
          },
          "colorway": [
           "#636efa",
           "#EF553B",
           "#00cc96",
           "#ab63fa",
           "#FFA15A",
           "#19d3f3",
           "#FF6692",
           "#B6E880",
           "#FF97FF",
           "#FECB52"
          ],
          "font": {
           "color": "#2a3f5f"
          },
          "geo": {
           "bgcolor": "white",
           "lakecolor": "white",
           "landcolor": "#E5ECF6",
           "showlakes": true,
           "showland": true,
           "subunitcolor": "white"
          },
          "hoverlabel": {
           "align": "left"
          },
          "hovermode": "closest",
          "mapbox": {
           "style": "light"
          },
          "paper_bgcolor": "white",
          "plot_bgcolor": "#E5ECF6",
          "polar": {
           "angularaxis": {
            "gridcolor": "white",
            "linecolor": "white",
            "ticks": ""
           },
           "bgcolor": "#E5ECF6",
           "radialaxis": {
            "gridcolor": "white",
            "linecolor": "white",
            "ticks": ""
           }
          },
          "scene": {
           "xaxis": {
            "backgroundcolor": "#E5ECF6",
            "gridcolor": "white",
            "gridwidth": 2,
            "linecolor": "white",
            "showbackground": true,
            "ticks": "",
            "zerolinecolor": "white"
           },
           "yaxis": {
            "backgroundcolor": "#E5ECF6",
            "gridcolor": "white",
            "gridwidth": 2,
            "linecolor": "white",
            "showbackground": true,
            "ticks": "",
            "zerolinecolor": "white"
           },
           "zaxis": {
            "backgroundcolor": "#E5ECF6",
            "gridcolor": "white",
            "gridwidth": 2,
            "linecolor": "white",
            "showbackground": true,
            "ticks": "",
            "zerolinecolor": "white"
           }
          },
          "shapedefaults": {
           "line": {
            "color": "#2a3f5f"
           }
          },
          "ternary": {
           "aaxis": {
            "gridcolor": "white",
            "linecolor": "white",
            "ticks": ""
           },
           "baxis": {
            "gridcolor": "white",
            "linecolor": "white",
            "ticks": ""
           },
           "bgcolor": "#E5ECF6",
           "caxis": {
            "gridcolor": "white",
            "linecolor": "white",
            "ticks": ""
           }
          },
          "title": {
           "x": 0.05
          },
          "xaxis": {
           "automargin": true,
           "gridcolor": "white",
           "linecolor": "white",
           "ticks": "",
           "title": {
            "standoff": 15
           },
           "zerolinecolor": "white",
           "zerolinewidth": 2
          },
          "yaxis": {
           "automargin": true,
           "gridcolor": "white",
           "linecolor": "white",
           "ticks": "",
           "title": {
            "standoff": 15
           },
           "zerolinecolor": "white",
           "zerolinewidth": 2
          }
         }
        },
        "title": {
         "text": "PCA Reduced Features"
        },
        "width": 800,
        "xaxis": {
         "anchor": "y",
         "domain": [
          0,
          1
         ],
         "title": {
          "text": "PCA Component 1"
         }
        },
        "yaxis": {
         "anchor": "x",
         "domain": [
          0,
          1
         ],
         "title": {
          "text": "PCA Component 2"
         }
        }
       }
      }
     },
     "metadata": {},
     "output_type": "display_data"
    }
   ],
   "source": [
    "# Visualize PCA output\n",
    "import plotly.express as px\n",
    "\n",
    "fig = px.scatter(x=reduced_features[:, 0], y=reduced_features[:, 1])\n",
    "fig.update_traces(marker=dict(size=10, color='blue'))\n",
    "fig.update_layout(title='PCA Reduced Features', xaxis_title='PCA Component 1', yaxis_title='PCA Component 2', width=800, height=600)\n",
    "fig.show()"
   ]
  },
  {
   "cell_type": "markdown",
   "metadata": {},
   "source": [
    "## Performing Cluster Evaluation with <b>K-Means</b> using the following metrics:\n",
    "\n",
    "- Silhouette Scores\n",
    "- <b>Davies-Bouldin(DB) Index</b>\n",
    "- Elbow Method (Average Distortion)\n",
    "- Elbow Method (Inertia)"
   ]
  },
  {
   "cell_type": "code",
   "execution_count": 40,
   "metadata": {},
   "outputs": [],
   "source": [
    "from plotly.subplots import make_subplots\n",
    "import plotly.graph_objects as go\n",
    "from scipy.spatial.distance import cdist\n",
    "\n",
    "def comprehensive_cluster_validation(X, k_range=range(2, 11)):\n",
    "    \"\"\"\n",
    "    Perform comprehensive cluster validation using multiple methods.\n",
    "    \n",
    "    Parameters:\n",
    "    X : array-like\n",
    "        Input data\n",
    "    k_range : range\n",
    "        Range of k values to test\n",
    "    \"\"\"\n",
    "    # Store metrics\n",
    "    silhouette_scores = []\n",
    "    db_scores = []\n",
    "    distortions = []\n",
    "    inertias = []\n",
    "    \n",
    "    for k in k_range:\n",
    "        # Fit KMeans\n",
    "        kmeans = KMeans(n_clusters=k, random_state=42)\n",
    "        kmeans.fit(X)\n",
    "        \n",
    "        # Calculate metrics\n",
    "        silhouette_scores.append(silhouette_score(X, kmeans.labels_))\n",
    "        db_scores.append(davies_bouldin_score(X, kmeans.labels_))\n",
    "        distortions.append(sum(np.min(cdist(X, kmeans.cluster_centers_, 'euclidean'), axis=1)) / X.shape[0])\n",
    "        inertias.append(kmeans.inertia_)\n",
    "    \n",
    "    # Create subplots in plotly\n",
    "\n",
    "    fig = make_subplots(rows=2, cols=2, subplot_titles=('Silhouette Score', 'Davies-Bouldin(DB) Index', 'Elbow Method (Average Distortion)', 'Elbow Method (Inertia)'))\n",
    "\n",
    "    # Plot 1: Silhouette Score\n",
    "    fig.add_trace(go.Scatter(x=list(k_range), y=silhouette_scores, mode='lines+markers', name='Silhouette'), row=1, col=1)\n",
    "    fig.update_xaxes(title_text='Number of clusters', row=1, col=1)\n",
    "    fig.update_yaxes(title_text='Score', row=1, col=1)\n",
    "\n",
    "    # Plot 2: Davies-Bouldin Score\n",
    "    fig.add_trace(go.Scatter(x=list(k_range), y=db_scores, mode='lines+markers', name='Davies-Bouldin(DB)'), row=1, col=2)\n",
    "    fig.update_xaxes(title_text='Number of clusters', row=1, col=2)\n",
    "    fig.update_yaxes(title_text='Score', row=1, col=2)\n",
    "\n",
    "    # Plot 3: Elbow Method (Distortion)\n",
    "    fig.add_trace(go.Scatter(x=list(k_range), y=distortions, mode='lines+markers', name='Distortion'), row=2, col=1)\n",
    "    fig.update_xaxes(title_text='Number of clusters', row=2, col=1)\n",
    "    fig.update_yaxes(title_text='Distortion', row=2, col=1)\n",
    "\n",
    "    # Plot 4: Elbow Method (Inertia)\n",
    "    fig.add_trace(go.Scatter(x=list(k_range), y=inertias, mode='lines+markers', name='Inertia'), row=2, col=2)\n",
    "    fig.update_xaxes(title_text='Number of clusters', row=2, col=2)\n",
    "    fig.update_yaxes(title_text='Inertia', row=2, col=2)\n",
    "\n",
    "    fig.update_layout(title_text='Comprehensive Cluster Validation', height=800)\n",
    "    fig.show()\n",
    "    return fig, (silhouette_scores, db_scores, distortions, inertias)\n",
    "\n",
    "def print_recommendations(k_range, metrics):\n",
    "    \"\"\"Print recommendations based on different metrics\"\"\"\n",
    "    silhouette_scores, db_scores, distortions, inertias = metrics\n",
    "    \n",
    "    print(\"Recommendations based on different metrics:\")\n",
    "    print(\"-----------------------------------------\")\n",
    "    print(f\"Silhouette Score (higher is better): Optimal k = {list(k_range)[np.argmax(silhouette_scores)]}\")\n",
    "    print(f\"Davies-Bouldin(DB) Index (lower is better): Optimal k = {list(k_range)[np.argmin(db_scores)]}\")\n",
    "    \n",
    "    # Calculate elbow points using second derivative\n",
    "    def find_elbow(y):\n",
    "        diffs = np.diff(y, 2)\n",
    "        return np.argmax(diffs) + 2\n",
    "    \n",
    "    print(f\"Elbow Method (Distortion): Suggested k = {list(k_range)[find_elbow(distortions)]}\")\n",
    "    print(f\"Elbow Method (Inertia): Suggested k = {list(k_range)[find_elbow(inertias)]}\")"
   ]
  },
  {
   "cell_type": "code",
   "execution_count": 41,
   "metadata": {},
   "outputs": [
    {
     "data": {
      "application/vnd.plotly.v1+json": {
       "config": {
        "plotlyServerURL": "https://plot.ly"
       },
       "data": [
        {
         "mode": "lines+markers",
         "name": "Silhouette",
         "type": "scatter",
         "x": [
          2,
          3,
          4,
          5,
          6,
          7,
          8,
          9,
          10
         ],
         "xaxis": "x",
         "y": [
          0.32812922141142237,
          0.35802397976183736,
          0.3646322255453532,
          0.375247097977615,
          0.397739122382264,
          0.3871122531060945,
          0.3936586707825422,
          0.3782075409591338,
          0.38798531713046175
         ],
         "yaxis": "y"
        },
        {
         "mode": "lines+markers",
         "name": "Davies-Bouldin(DB)",
         "type": "scatter",
         "x": [
          2,
          3,
          4,
          5,
          6,
          7,
          8,
          9,
          10
         ],
         "xaxis": "x2",
         "y": [
          1.1683281025455856,
          0.9141715336218564,
          0.898541733822759,
          0.8463718387312265,
          0.7852904347324107,
          0.8636500215108766,
          0.8432279308389421,
          0.8525825417329055,
          0.8229757060351378
         ],
         "yaxis": "y2"
        },
        {
         "mode": "lines+markers",
         "name": "Distortion",
         "type": "scatter",
         "x": [
          2,
          3,
          4,
          5,
          6,
          7,
          8,
          9,
          10
         ],
         "xaxis": "x3",
         "y": [
          1.340371064291427,
          1.0785734193866339,
          0.9492068807873479,
          0.8478417676628928,
          0.7444375345584864,
          0.701777540396907,
          0.6359345384661571,
          0.6034275864451457,
          0.5675154245022873
         ],
         "yaxis": "y3"
        },
        {
         "mode": "lines+markers",
         "name": "Inertia",
         "type": "scatter",
         "x": [
          2,
          3,
          4,
          5,
          6,
          7,
          8,
          9,
          10
         ],
         "xaxis": "x4",
         "y": [
          453.55251339640466,
          315.3059529144414,
          239.15981417373763,
          181.4640331797774,
          139.67634739128587,
          125.68322717987853,
          103.55798744728966,
          93.17905960956107,
          81.4589038408172
         ],
         "yaxis": "y4"
        }
       ],
       "layout": {
        "annotations": [
         {
          "font": {
           "size": 16
          },
          "showarrow": false,
          "text": "Silhouette Score",
          "x": 0.225,
          "xanchor": "center",
          "xref": "paper",
          "y": 1,
          "yanchor": "bottom",
          "yref": "paper"
         },
         {
          "font": {
           "size": 16
          },
          "showarrow": false,
          "text": "Davies-Bouldin(DB) Index",
          "x": 0.775,
          "xanchor": "center",
          "xref": "paper",
          "y": 1,
          "yanchor": "bottom",
          "yref": "paper"
         },
         {
          "font": {
           "size": 16
          },
          "showarrow": false,
          "text": "Elbow Method (Average Distortion)",
          "x": 0.225,
          "xanchor": "center",
          "xref": "paper",
          "y": 0.375,
          "yanchor": "bottom",
          "yref": "paper"
         },
         {
          "font": {
           "size": 16
          },
          "showarrow": false,
          "text": "Elbow Method (Inertia)",
          "x": 0.775,
          "xanchor": "center",
          "xref": "paper",
          "y": 0.375,
          "yanchor": "bottom",
          "yref": "paper"
         }
        ],
        "height": 800,
        "template": {
         "data": {
          "bar": [
           {
            "error_x": {
             "color": "#2a3f5f"
            },
            "error_y": {
             "color": "#2a3f5f"
            },
            "marker": {
             "line": {
              "color": "#E5ECF6",
              "width": 0.5
             },
             "pattern": {
              "fillmode": "overlay",
              "size": 10,
              "solidity": 0.2
             }
            },
            "type": "bar"
           }
          ],
          "barpolar": [
           {
            "marker": {
             "line": {
              "color": "#E5ECF6",
              "width": 0.5
             },
             "pattern": {
              "fillmode": "overlay",
              "size": 10,
              "solidity": 0.2
             }
            },
            "type": "barpolar"
           }
          ],
          "carpet": [
           {
            "aaxis": {
             "endlinecolor": "#2a3f5f",
             "gridcolor": "white",
             "linecolor": "white",
             "minorgridcolor": "white",
             "startlinecolor": "#2a3f5f"
            },
            "baxis": {
             "endlinecolor": "#2a3f5f",
             "gridcolor": "white",
             "linecolor": "white",
             "minorgridcolor": "white",
             "startlinecolor": "#2a3f5f"
            },
            "type": "carpet"
           }
          ],
          "choropleth": [
           {
            "colorbar": {
             "outlinewidth": 0,
             "ticks": ""
            },
            "type": "choropleth"
           }
          ],
          "contour": [
           {
            "colorbar": {
             "outlinewidth": 0,
             "ticks": ""
            },
            "colorscale": [
             [
              0,
              "#0d0887"
             ],
             [
              0.1111111111111111,
              "#46039f"
             ],
             [
              0.2222222222222222,
              "#7201a8"
             ],
             [
              0.3333333333333333,
              "#9c179e"
             ],
             [
              0.4444444444444444,
              "#bd3786"
             ],
             [
              0.5555555555555556,
              "#d8576b"
             ],
             [
              0.6666666666666666,
              "#ed7953"
             ],
             [
              0.7777777777777778,
              "#fb9f3a"
             ],
             [
              0.8888888888888888,
              "#fdca26"
             ],
             [
              1,
              "#f0f921"
             ]
            ],
            "type": "contour"
           }
          ],
          "contourcarpet": [
           {
            "colorbar": {
             "outlinewidth": 0,
             "ticks": ""
            },
            "type": "contourcarpet"
           }
          ],
          "heatmap": [
           {
            "colorbar": {
             "outlinewidth": 0,
             "ticks": ""
            },
            "colorscale": [
             [
              0,
              "#0d0887"
             ],
             [
              0.1111111111111111,
              "#46039f"
             ],
             [
              0.2222222222222222,
              "#7201a8"
             ],
             [
              0.3333333333333333,
              "#9c179e"
             ],
             [
              0.4444444444444444,
              "#bd3786"
             ],
             [
              0.5555555555555556,
              "#d8576b"
             ],
             [
              0.6666666666666666,
              "#ed7953"
             ],
             [
              0.7777777777777778,
              "#fb9f3a"
             ],
             [
              0.8888888888888888,
              "#fdca26"
             ],
             [
              1,
              "#f0f921"
             ]
            ],
            "type": "heatmap"
           }
          ],
          "heatmapgl": [
           {
            "colorbar": {
             "outlinewidth": 0,
             "ticks": ""
            },
            "colorscale": [
             [
              0,
              "#0d0887"
             ],
             [
              0.1111111111111111,
              "#46039f"
             ],
             [
              0.2222222222222222,
              "#7201a8"
             ],
             [
              0.3333333333333333,
              "#9c179e"
             ],
             [
              0.4444444444444444,
              "#bd3786"
             ],
             [
              0.5555555555555556,
              "#d8576b"
             ],
             [
              0.6666666666666666,
              "#ed7953"
             ],
             [
              0.7777777777777778,
              "#fb9f3a"
             ],
             [
              0.8888888888888888,
              "#fdca26"
             ],
             [
              1,
              "#f0f921"
             ]
            ],
            "type": "heatmapgl"
           }
          ],
          "histogram": [
           {
            "marker": {
             "pattern": {
              "fillmode": "overlay",
              "size": 10,
              "solidity": 0.2
             }
            },
            "type": "histogram"
           }
          ],
          "histogram2d": [
           {
            "colorbar": {
             "outlinewidth": 0,
             "ticks": ""
            },
            "colorscale": [
             [
              0,
              "#0d0887"
             ],
             [
              0.1111111111111111,
              "#46039f"
             ],
             [
              0.2222222222222222,
              "#7201a8"
             ],
             [
              0.3333333333333333,
              "#9c179e"
             ],
             [
              0.4444444444444444,
              "#bd3786"
             ],
             [
              0.5555555555555556,
              "#d8576b"
             ],
             [
              0.6666666666666666,
              "#ed7953"
             ],
             [
              0.7777777777777778,
              "#fb9f3a"
             ],
             [
              0.8888888888888888,
              "#fdca26"
             ],
             [
              1,
              "#f0f921"
             ]
            ],
            "type": "histogram2d"
           }
          ],
          "histogram2dcontour": [
           {
            "colorbar": {
             "outlinewidth": 0,
             "ticks": ""
            },
            "colorscale": [
             [
              0,
              "#0d0887"
             ],
             [
              0.1111111111111111,
              "#46039f"
             ],
             [
              0.2222222222222222,
              "#7201a8"
             ],
             [
              0.3333333333333333,
              "#9c179e"
             ],
             [
              0.4444444444444444,
              "#bd3786"
             ],
             [
              0.5555555555555556,
              "#d8576b"
             ],
             [
              0.6666666666666666,
              "#ed7953"
             ],
             [
              0.7777777777777778,
              "#fb9f3a"
             ],
             [
              0.8888888888888888,
              "#fdca26"
             ],
             [
              1,
              "#f0f921"
             ]
            ],
            "type": "histogram2dcontour"
           }
          ],
          "mesh3d": [
           {
            "colorbar": {
             "outlinewidth": 0,
             "ticks": ""
            },
            "type": "mesh3d"
           }
          ],
          "parcoords": [
           {
            "line": {
             "colorbar": {
              "outlinewidth": 0,
              "ticks": ""
             }
            },
            "type": "parcoords"
           }
          ],
          "pie": [
           {
            "automargin": true,
            "type": "pie"
           }
          ],
          "scatter": [
           {
            "fillpattern": {
             "fillmode": "overlay",
             "size": 10,
             "solidity": 0.2
            },
            "type": "scatter"
           }
          ],
          "scatter3d": [
           {
            "line": {
             "colorbar": {
              "outlinewidth": 0,
              "ticks": ""
             }
            },
            "marker": {
             "colorbar": {
              "outlinewidth": 0,
              "ticks": ""
             }
            },
            "type": "scatter3d"
           }
          ],
          "scattercarpet": [
           {
            "marker": {
             "colorbar": {
              "outlinewidth": 0,
              "ticks": ""
             }
            },
            "type": "scattercarpet"
           }
          ],
          "scattergeo": [
           {
            "marker": {
             "colorbar": {
              "outlinewidth": 0,
              "ticks": ""
             }
            },
            "type": "scattergeo"
           }
          ],
          "scattergl": [
           {
            "marker": {
             "colorbar": {
              "outlinewidth": 0,
              "ticks": ""
             }
            },
            "type": "scattergl"
           }
          ],
          "scattermapbox": [
           {
            "marker": {
             "colorbar": {
              "outlinewidth": 0,
              "ticks": ""
             }
            },
            "type": "scattermapbox"
           }
          ],
          "scatterpolar": [
           {
            "marker": {
             "colorbar": {
              "outlinewidth": 0,
              "ticks": ""
             }
            },
            "type": "scatterpolar"
           }
          ],
          "scatterpolargl": [
           {
            "marker": {
             "colorbar": {
              "outlinewidth": 0,
              "ticks": ""
             }
            },
            "type": "scatterpolargl"
           }
          ],
          "scatterternary": [
           {
            "marker": {
             "colorbar": {
              "outlinewidth": 0,
              "ticks": ""
             }
            },
            "type": "scatterternary"
           }
          ],
          "surface": [
           {
            "colorbar": {
             "outlinewidth": 0,
             "ticks": ""
            },
            "colorscale": [
             [
              0,
              "#0d0887"
             ],
             [
              0.1111111111111111,
              "#46039f"
             ],
             [
              0.2222222222222222,
              "#7201a8"
             ],
             [
              0.3333333333333333,
              "#9c179e"
             ],
             [
              0.4444444444444444,
              "#bd3786"
             ],
             [
              0.5555555555555556,
              "#d8576b"
             ],
             [
              0.6666666666666666,
              "#ed7953"
             ],
             [
              0.7777777777777778,
              "#fb9f3a"
             ],
             [
              0.8888888888888888,
              "#fdca26"
             ],
             [
              1,
              "#f0f921"
             ]
            ],
            "type": "surface"
           }
          ],
          "table": [
           {
            "cells": {
             "fill": {
              "color": "#EBF0F8"
             },
             "line": {
              "color": "white"
             }
            },
            "header": {
             "fill": {
              "color": "#C8D4E3"
             },
             "line": {
              "color": "white"
             }
            },
            "type": "table"
           }
          ]
         },
         "layout": {
          "annotationdefaults": {
           "arrowcolor": "#2a3f5f",
           "arrowhead": 0,
           "arrowwidth": 1
          },
          "autotypenumbers": "strict",
          "coloraxis": {
           "colorbar": {
            "outlinewidth": 0,
            "ticks": ""
           }
          },
          "colorscale": {
           "diverging": [
            [
             0,
             "#8e0152"
            ],
            [
             0.1,
             "#c51b7d"
            ],
            [
             0.2,
             "#de77ae"
            ],
            [
             0.3,
             "#f1b6da"
            ],
            [
             0.4,
             "#fde0ef"
            ],
            [
             0.5,
             "#f7f7f7"
            ],
            [
             0.6,
             "#e6f5d0"
            ],
            [
             0.7,
             "#b8e186"
            ],
            [
             0.8,
             "#7fbc41"
            ],
            [
             0.9,
             "#4d9221"
            ],
            [
             1,
             "#276419"
            ]
           ],
           "sequential": [
            [
             0,
             "#0d0887"
            ],
            [
             0.1111111111111111,
             "#46039f"
            ],
            [
             0.2222222222222222,
             "#7201a8"
            ],
            [
             0.3333333333333333,
             "#9c179e"
            ],
            [
             0.4444444444444444,
             "#bd3786"
            ],
            [
             0.5555555555555556,
             "#d8576b"
            ],
            [
             0.6666666666666666,
             "#ed7953"
            ],
            [
             0.7777777777777778,
             "#fb9f3a"
            ],
            [
             0.8888888888888888,
             "#fdca26"
            ],
            [
             1,
             "#f0f921"
            ]
           ],
           "sequentialminus": [
            [
             0,
             "#0d0887"
            ],
            [
             0.1111111111111111,
             "#46039f"
            ],
            [
             0.2222222222222222,
             "#7201a8"
            ],
            [
             0.3333333333333333,
             "#9c179e"
            ],
            [
             0.4444444444444444,
             "#bd3786"
            ],
            [
             0.5555555555555556,
             "#d8576b"
            ],
            [
             0.6666666666666666,
             "#ed7953"
            ],
            [
             0.7777777777777778,
             "#fb9f3a"
            ],
            [
             0.8888888888888888,
             "#fdca26"
            ],
            [
             1,
             "#f0f921"
            ]
           ]
          },
          "colorway": [
           "#636efa",
           "#EF553B",
           "#00cc96",
           "#ab63fa",
           "#FFA15A",
           "#19d3f3",
           "#FF6692",
           "#B6E880",
           "#FF97FF",
           "#FECB52"
          ],
          "font": {
           "color": "#2a3f5f"
          },
          "geo": {
           "bgcolor": "white",
           "lakecolor": "white",
           "landcolor": "#E5ECF6",
           "showlakes": true,
           "showland": true,
           "subunitcolor": "white"
          },
          "hoverlabel": {
           "align": "left"
          },
          "hovermode": "closest",
          "mapbox": {
           "style": "light"
          },
          "paper_bgcolor": "white",
          "plot_bgcolor": "#E5ECF6",
          "polar": {
           "angularaxis": {
            "gridcolor": "white",
            "linecolor": "white",
            "ticks": ""
           },
           "bgcolor": "#E5ECF6",
           "radialaxis": {
            "gridcolor": "white",
            "linecolor": "white",
            "ticks": ""
           }
          },
          "scene": {
           "xaxis": {
            "backgroundcolor": "#E5ECF6",
            "gridcolor": "white",
            "gridwidth": 2,
            "linecolor": "white",
            "showbackground": true,
            "ticks": "",
            "zerolinecolor": "white"
           },
           "yaxis": {
            "backgroundcolor": "#E5ECF6",
            "gridcolor": "white",
            "gridwidth": 2,
            "linecolor": "white",
            "showbackground": true,
            "ticks": "",
            "zerolinecolor": "white"
           },
           "zaxis": {
            "backgroundcolor": "#E5ECF6",
            "gridcolor": "white",
            "gridwidth": 2,
            "linecolor": "white",
            "showbackground": true,
            "ticks": "",
            "zerolinecolor": "white"
           }
          },
          "shapedefaults": {
           "line": {
            "color": "#2a3f5f"
           }
          },
          "ternary": {
           "aaxis": {
            "gridcolor": "white",
            "linecolor": "white",
            "ticks": ""
           },
           "baxis": {
            "gridcolor": "white",
            "linecolor": "white",
            "ticks": ""
           },
           "bgcolor": "#E5ECF6",
           "caxis": {
            "gridcolor": "white",
            "linecolor": "white",
            "ticks": ""
           }
          },
          "title": {
           "x": 0.05
          },
          "xaxis": {
           "automargin": true,
           "gridcolor": "white",
           "linecolor": "white",
           "ticks": "",
           "title": {
            "standoff": 15
           },
           "zerolinecolor": "white",
           "zerolinewidth": 2
          },
          "yaxis": {
           "automargin": true,
           "gridcolor": "white",
           "linecolor": "white",
           "ticks": "",
           "title": {
            "standoff": 15
           },
           "zerolinecolor": "white",
           "zerolinewidth": 2
          }
         }
        },
        "title": {
         "text": "Comprehensive Cluster Validation"
        },
        "xaxis": {
         "anchor": "y",
         "domain": [
          0,
          0.45
         ],
         "title": {
          "text": "Number of clusters"
         }
        },
        "xaxis2": {
         "anchor": "y2",
         "domain": [
          0.55,
          1
         ],
         "title": {
          "text": "Number of clusters"
         }
        },
        "xaxis3": {
         "anchor": "y3",
         "domain": [
          0,
          0.45
         ],
         "title": {
          "text": "Number of clusters"
         }
        },
        "xaxis4": {
         "anchor": "y4",
         "domain": [
          0.55,
          1
         ],
         "title": {
          "text": "Number of clusters"
         }
        },
        "yaxis": {
         "anchor": "x",
         "domain": [
          0.625,
          1
         ],
         "title": {
          "text": "Score"
         }
        },
        "yaxis2": {
         "anchor": "x2",
         "domain": [
          0.625,
          1
         ],
         "title": {
          "text": "Score"
         }
        },
        "yaxis3": {
         "anchor": "x3",
         "domain": [
          0,
          0.375
         ],
         "title": {
          "text": "Distortion"
         }
        },
        "yaxis4": {
         "anchor": "x4",
         "domain": [
          0,
          0.375
         ],
         "title": {
          "text": "Inertia"
         }
        }
       }
      }
     },
     "metadata": {},
     "output_type": "display_data"
    },
    {
     "name": "stdout",
     "output_type": "stream",
     "text": [
      "Recommendations based on different metrics:\n",
      "-----------------------------------------\n",
      "Silhouette Score (higher is better): Optimal k = 6\n",
      "Davies-Bouldin(DB) Index (lower is better): Optimal k = 6\n",
      "Elbow Method (Distortion): Suggested k = 4\n",
      "Elbow Method (Inertia): Suggested k = 4\n"
     ]
    }
   ],
   "source": [
    "cluster_range = range(2, 11)\n",
    "fig, metrics = comprehensive_cluster_validation(reduced_features, cluster_range)\n",
    "\n",
    "print_recommendations(cluster_range, metrics)"
   ]
  },
  {
   "cell_type": "markdown",
   "metadata": {},
   "source": [
    "## Clustering for Optimal k = 6 (As per Silhouette Score and DB Index)"
   ]
  },
  {
   "cell_type": "code",
   "execution_count": 17,
   "metadata": {},
   "outputs": [
    {
     "name": "stdout",
     "output_type": "stream",
     "text": [
      "Silhouette Coefficient for n_clusters=6: 0.3977\n",
      "Davies-Bouldin Index for n_clusters=6: 0.7853\n"
     ]
    }
   ],
   "source": [
    "kmeans_6 = KMeans(n_clusters=6, init='k-means++', random_state=42)\n",
    "kmeans_6.fit_predict(reduced_features)\n",
    "\n",
    "# Evaluate clustering\n",
    "silhouette_avg = silhouette_score(reduced_features, kmeans_6.labels_)\n",
    "db_index = davies_bouldin_score(reduced_features, kmeans_6.labels_)\n",
    "\n",
    "print(f\"Silhouette Coefficient for n_clusters=6: {silhouette_avg:.4f}\")\n",
    "print(f\"Davies-Bouldin Index for n_clusters=6: {db_index:.4f}\")"
   ]
  },
  {
   "cell_type": "code",
   "execution_count": 47,
   "metadata": {},
   "outputs": [
    {
     "data": {
      "application/vnd.plotly.v1+json": {
       "config": {
        "plotlyServerURL": "https://plot.ly"
       },
       "data": [
        {
         "hovertemplate": "x=%{x}<br>y=%{y}<br>color=%{marker.color}<extra></extra>",
         "legendgroup": "",
         "marker": {
          "color": [
           3,
           4,
           4,
           3,
           4,
           3,
           4,
           0,
           4,
           4,
           3,
           3,
           3,
           5,
           5,
           2,
           0,
           2,
           1,
           5,
           0,
           1,
           3,
           2,
           4,
           2,
           1,
           0,
           1,
           2,
           4,
           4,
           5,
           2,
           2,
           2,
           1,
           1,
           3,
           4,
           0,
           2,
           4,
           1,
           3,
           2,
           2,
           3,
           2,
           2,
           0,
           4,
           3,
           0,
           2,
           1,
           1,
           5,
           0,
           4,
           4,
           4,
           4,
           1,
           0,
           1,
           2,
           0,
           1,
           4,
           4,
           2,
           4,
           4,
           0,
           3,
           4,
           5,
           1,
           5,
           1,
           3,
           4,
           0,
           4,
           1,
           3,
           1,
           4,
           1,
           3,
           1,
           0,
           2,
           4,
           3,
           5,
           2,
           3,
           1,
           0,
           3,
           4,
           3,
           1,
           1,
           3,
           3,
           0,
           5,
           1,
           4,
           3,
           1,
           1,
           2,
           2,
           3,
           1,
           4,
           4,
           0,
           4,
           1,
           2,
           3,
           1,
           5,
           4,
           4,
           1,
           4,
           3,
           1,
           4,
           1,
           3,
           0,
           0,
           4,
           0,
           1,
           0,
           5,
           0,
           1,
           3,
           3,
           1,
           4,
           4,
           3,
           3,
           2,
           3,
           0,
           2,
           3,
           4,
           1,
           1,
           3,
           3,
           1,
           3,
           4,
           4,
           3,
           3,
           1,
           3,
           1,
           0,
           3,
           0,
           1,
           1,
           1,
           1,
           4,
           3,
           1,
           2,
           3,
           2,
           4,
           3,
           3,
           2,
           3,
           3,
           4,
           4,
           2,
           3,
           3,
           4,
           4,
           4,
           1
          ],
          "coloraxis": "coloraxis",
          "line": {
           "color": "Black",
           "width": 2
          },
          "opacity": 0.9,
          "size": 12,
          "symbol": "circle"
         },
         "mode": "markers",
         "name": "",
         "orientation": "v",
         "showlegend": false,
         "type": "scatter",
         "x": [
          0.6139971453631647,
          -0.4772873632226593,
          -0.48376539076773317,
          2.39147559906458,
          -0.9338730268410474,
          0.2925228044134082,
          -1.1655590566785208,
          1.8735337724443408,
          -1.6901136297082346,
          -0.8538203017945915,
          1.0146919961088612,
          1.8745348608675887,
          1.8376329453435671,
          -4.161755013064277,
          -1.9020244723178974,
          0.11878185603805314,
          1.250660062443354,
          -0.2627836440990308,
          -0.19560596515815803,
          -3.7414306345870547,
          1.3648127683923943,
          0.34161217000282434,
          0.8940014560600245,
          0.30564172791023886,
          -0.7259139049330228,
          -0.4994138014345199,
          -0.6452980588619989,
          2.133450110447616,
          -0.3738673547386453,
          -0.11239374070921547,
          -0.17534775502755695,
          -0.8704604637932041,
          -3.063500607202267,
          0.0590304102218005,
          -0.9156272646791628,
          -1.202826722131204,
          -0.04185034984861699,
          0.12098356393064202,
          0.8919129556632496,
          -0.9015892798452217,
          1.5047341014445816,
          -0.8338367548587129,
          -1.5613388228234155,
          -0.968145932379628,
          1.1267738273777985,
          0.88602907805578,
          -0.14958405742021433,
          0.7112675916917854,
          -0.064235015496057,
          -0.6830144495365744,
          1.3591083568793727,
          -0.5082801321544428,
          0.8524105440959852,
          2.0280787465241614,
          -0.5529670928790968,
          0.12967477400392097,
          0.6411588769914388,
          -3.8597454943528917,
          1.877306872625397,
          -2.605082594096918,
          -0.8772349512853477,
          -1.9384045194381612,
          -1.952082959053932,
          0.21186950800780757,
          2.911058215619751,
          -1.1473278370229376,
          0.38200343520541946,
          1.9982777329809605,
          -0.1634553703169276,
          -0.5484804510825294,
          -1.0134746628169222,
          -0.2731508190851181,
          -2.440289726870727,
          -1.2974952812935636,
          2.0123942206217342,
          0.2798183517126482,
          -0.9169644822394525,
          -1.8799129330832112,
          -0.4365093848626123,
          -3.4303302260153967,
          0.12203232225786423,
          2.7447357063922446,
          -0.5353919272005075,
          1.5559719927479887,
          -0.5724419092028845,
          0.03556986507678714,
          1.7454850550898644,
          -0.17607988880909836,
          -1.1795559562262763,
          0.4260989011787959,
          0.25766337466998046,
          -0.2808770999250674,
          1.3070867068193186,
          -1.0453767086713022,
          -1.1797016108595448,
          1.699184264339524,
          -3.633108904410257,
          0.8954912099167693,
          2.802481891225271,
          0.3216743009320119,
          1.8208117427976953,
          1.9774696814974566,
          -0.5399354278319286,
          2.571750462302596,
          0.05704646880431022,
          0.05139577473103796,
          0.5699836439307618,
          1.4593311178079782,
          2.502131421773199,
          -3.944655494434638,
          -0.5495919890878329,
          -1.0978301408613222,
          2.0921945503061257,
          0.2134194597709067,
          -0.537441463382124,
          -0.1105484919415184,
          -0.791718785992559,
          1.2512917126864789,
          -0.6013129904272116,
          -0.8146387468218728,
          -1.4613059751417041,
          1.4850140169169084,
          -1.5071458374630655,
          0.3891148158189889,
          -0.8093762324268703,
          1.2651551260109763,
          -0.2875148573169451,
          -2.6946753297929926,
          -0.6192287456205824,
          -2.5313715342491294,
          -0.6607966218565441,
          -0.9851385433557046,
          0.302368898181028,
          0.11148354820993775,
          -0.6133181096896514,
          0.5136524260862201,
          0.7219866952669961,
          0.8135017944375763,
          0.8994377322381146,
          -1.4827759746555913,
          3.8525261146634833,
          -0.44658623666568514,
          1.5666992900227217,
          -2.832736878696444,
          1.7806830888000074,
          -0.4451000795421451,
          1.9414556943589298,
          1.0289426266250188,
          -0.18080283930089355,
          -2.4101573870859245,
          -1.490523739428971,
          0.5773367874924584,
          1.0713660179452165,
          -0.06269579155015613,
          1.813370842411298,
          3.2897258251264923,
          -0.38133693361635324,
          0.05815685296812051,
          -0.6832270243360435,
          -0.5122892235253117,
          0.3925141798110049,
          1.4990486232581934,
          1.4577182824913768,
          -0.26076217923856615,
          3.1906695122867506,
          -0.6845600235709736,
          -1.3481567969528134,
          0.7809746826156255,
          1.3820445438149702,
          0.009308864466993274,
          1.0909173357855975,
          -0.30030410600922497,
          1.3045349742270367,
          0.6677824335616566,
          2.5347044075510436,
          -1.5005025587930485,
          -0.7010704860275077,
          -0.2916437282662542,
          0.13734380810898567,
          -2.0655584123899398,
          1.0709801758518922,
          -0.8877061688714799,
          0.12274110967937735,
          0.8745790536847143,
          -1.0610413870460298,
          -1.226751633292995,
          0.6650251413715803,
          3.0300625930583065,
          -0.04305970739270949,
          0.5430416477309233,
          0.5405850022792349,
          -0.6809164856768463,
          -1.3585574170925063,
          0.5262742785480766,
          1.0023471987586676,
          0.4502781922688647,
          -0.8479802194092388,
          -1.8420481743249915,
          -0.8910705902173641,
          0.6504569574832099
         ],
         "xaxis": "x",
         "y": [
          -1.6942239562676111,
          -0.6136867315148722,
          -1.0320064832261755,
          -1.2194327406931713,
          -0.4487060001968559,
          -1.028143685024967,
          -0.47291706575796166,
          2.2856854717202286,
          -0.5510876067516515,
          -0.7326598870967002,
          -1.4879718410362952,
          -0.4651339197004241,
          -0.508211788284254,
          -0.29436815131564575,
          1.3802591267579565,
          1.8387347343774385,
          0.23056297240183413,
          2.2480073978817643,
          -0.49962328967494385,
          1.5953941471961222,
          0.4890532485839532,
          0.5257970070629613,
          -0.7197007346541132,
          2.0442593891870042,
          -1.8728540723158256,
          1.896094724648463,
          -0.2189151500352256,
          1.1117467836368375,
          0.8248896002724762,
          1.7853355589825484,
          -1.0522716153196983,
          -1.2093253583852122,
          1.5796474392465893,
          1.7545750933363877,
          2.031764261846994,
          1.7875276468819965,
          -0.4212734081271836,
          0.9665969094795092,
          -0.5098381222880111,
          -0.5114145599745453,
          0.25507086864250883,
          1.2104902612350406,
          -0.27178745719701036,
          0.005735066770974087,
          -0.07457378644715994,
          2.4945657270871933,
          2.064595621572425,
          -0.5943772956112477,
          2.3414557545425585,
          1.6958826871802637,
          0.2204718695843175,
          -1.0683673049755606,
          -0.5736647315997915,
          1.319861996132054,
          2.183468384623788,
          0.5431863765434727,
          0.3437869199722308,
          1.3924071982137525,
          2.4062943468041817,
          -1.3651009445153461,
          -0.6942465465263273,
          -0.7923983458046783,
          -0.3811277406774083,
          -0.12036140362208474,
          2.7165118819334673,
          0.21454343243933702,
          1.7118860068579158,
          1.8572017670940544,
          -0.13750134790012752,
          -0.987188738802064,
          -1.9738969146212666,
          2.044988816383341,
          -0.8879935091699341,
          -0.9664760654373975,
          0.10187504831665968,
          -1.0266537354710195,
          -1.423916170455291,
          0.35298456188030203,
          0.9147556018851025,
          0.06239793887039037,
          0.09845364195961438,
          -1.3535764666500072,
          -2.1540031110093887,
          1.1563302239656308,
          -0.8828199493007314,
          -0.7074025209272233,
          -0.5084971678455582,
          0.0599247970119179,
          -0.25388168379662046,
          0.5671109527913896,
          -1.289215583856363,
          0.5112070013086282,
          1.1451321855711043,
          1.4556664599605813,
          -1.7619977850309987,
          -1.3743649488704073,
          -0.05692631971225491,
          2.407014547179547,
          -0.9959764486381397,
          -0.2359614207279473,
          0.6892257754604886,
          -1.1758683605091245,
          -0.8644814025685931,
          -1.4398256689372817,
          0.5202224575107399,
          -0.18402394086907609,
          -1.4070184249602395,
          -1.3286947181682862,
          1.674110219108751,
          0.36226438899417274,
          0.24567928730341546,
          -1.9225527061418966,
          -1.390309877627064,
          0.4989699320959901,
          0.6434976974926561,
          2.177343441307935,
          2.1968201139940273,
          -1.8303325469073324,
          -0.26819811868347054,
          -1.6580583195096954,
          -0.48719711709247493,
          1.3008699012180882,
          -0.006542905322724821,
          0.4660355418819267,
          1.2365490261165861,
          -0.7966200148009348,
          0.1419480358162317,
          -0.20697476674314091,
          -1.1017702076419598,
          -1.7963956288904734,
          0.8154989065632374,
          -0.7523208567753202,
          -1.5049022105965357,
          -0.474931754692425,
          -0.7819858289489111,
          0.6676795387019291,
          -0.8983772152034849,
          0.9477110462152187,
          1.2522222508179515,
          -0.13136246937127438,
          0.39182852502116455,
          0.32194241395776474,
          0.9412923223792153,
          1.8219992291815856,
          0.3806049299375781,
          0.6081575563299697,
          -1.4653060517894678,
          -1.2062628805317073,
          -0.42244011577626295,
          -2.0760711865439623,
          -1.1325828440146997,
          -1.7934011814631583,
          -1.6567719703400667,
          2.3018121659151998,
          -1.083131715933003,
          2.385475226894247,
          1.746801042614959,
          -1.3949179387576653,
          -0.4668913103680792,
          0.9939261460009925,
          -0.13938794429484352,
          -0.04268834067797782,
          -1.0386119138630525,
          -0.3506507612349242,
          -1.286921177983644,
          -1.0718620125822387,
          -0.2540990123431479,
          -1.4762326698636927,
          -1.1961188620596592,
          -0.09671043055804139,
          -1.383129297443248,
          0.2657766757012766,
          0.27744537423255394,
          -1.584365516502103,
          0.2314991152840519,
          0.7831876618984353,
          0.4944263800640396,
          0.24846480918549607,
          -0.5163420643900041,
          -0.2897570115869592,
          -0.9979937892796709,
          0.5335541295687104,
          1.861914360788152,
          -1.5849293328563783,
          1.5644104005907622,
          0.07218312633458486,
          -0.6589872685792038,
          -1.2984289710215997,
          1.7794167757276378,
          -0.8516218431818423,
          -0.918183033159809,
          -1.7479504353852955,
          -0.051114758971865334,
          2.1649800856307118,
          -0.5614765870974394,
          -0.7854720182666349,
          -0.6917768989389282,
          -1.3059439468563152,
          -0.7272734846016885,
          0.2536377812474566
         ],
         "yaxis": "y"
        },
        {
         "marker": {
          "color": "white",
          "line": {
           "color": "black",
           "width": 2
          },
          "size": 24,
          "symbol": "circle"
         },
         "mode": "markers+text",
         "showlegend": false,
         "text": [
          "<b>0</b>"
         ],
         "textposition": "middle center",
         "type": "scatter",
         "x": [
          1.8760935028560521
         ],
         "y": [
          1.0736701396231725
         ]
        },
        {
         "marker": {
          "color": "white",
          "line": {
           "color": "black",
           "width": 2
          },
          "size": 24,
          "symbol": "circle"
         },
         "mode": "markers+text",
         "showlegend": false,
         "text": [
          "<b>1</b>"
         ],
         "textposition": "middle center",
         "type": "scatter",
         "x": [
          -0.1753643678309268
         ],
         "y": [
          0.2110197406205477
         ]
        },
        {
         "marker": {
          "color": "white",
          "line": {
           "color": "black",
           "width": 2
          },
          "size": 24,
          "symbol": "circle"
         },
         "mode": "markers+text",
         "showlegend": false,
         "text": [
          "<b>2</b>"
         ],
         "textposition": "middle center",
         "type": "scatter",
         "x": [
          -0.24292571464410703
         ],
         "y": [
          1.9269022402389342
         ]
        },
        {
         "marker": {
          "color": "white",
          "line": {
           "color": "black",
           "width": 2
          },
          "size": 24,
          "symbol": "circle"
         },
         "mode": "markers+text",
         "showlegend": false,
         "text": [
          "<b>3</b>"
         ],
         "textposition": "middle center",
         "type": "scatter",
         "x": [
          1.254868202087007
         ],
         "y": [
          -1.0949033691765921
         ]
        },
        {
         "marker": {
          "color": "white",
          "line": {
           "color": "black",
           "width": 2
          },
          "size": 24,
          "symbol": "circle"
         },
         "mode": "markers+text",
         "showlegend": false,
         "text": [
          "<b>4</b>"
         ],
         "textposition": "middle center",
         "type": "scatter",
         "x": [
          -1.1614073850792674
         ],
         "y": [
          -0.9278284865102432
         ]
        },
        {
         "marker": {
          "color": "white",
          "line": {
           "color": "black",
           "width": 2
          },
          "size": 24,
          "symbol": "circle"
         },
         "mode": "markers+text",
         "showlegend": false,
         "text": [
          "<b>5</b>"
         ],
         "textposition": "middle center",
         "type": "scatter",
         "x": [
          -3.19489781708703
         ],
         "y": [
          0.7262804356881664
         ]
        }
       ],
       "layout": {
        "coloraxis": {
         "colorbar": {
          "title": {
           "text": "color"
          }
         },
         "colorscale": [
          [
           0,
           "#440154"
          ],
          [
           0.1111111111111111,
           "#482878"
          ],
          [
           0.2222222222222222,
           "#3e4989"
          ],
          [
           0.3333333333333333,
           "#31688e"
          ],
          [
           0.4444444444444444,
           "#26828e"
          ],
          [
           0.5555555555555556,
           "#1f9e89"
          ],
          [
           0.6666666666666666,
           "#35b779"
          ],
          [
           0.7777777777777778,
           "#6ece58"
          ],
          [
           0.8888888888888888,
           "#b5de2b"
          ],
          [
           1,
           "#fde725"
          ]
         ]
        },
        "height": 600,
        "legend": {
         "tracegroupgap": 0
        },
        "template": {
         "data": {
          "bar": [
           {
            "error_x": {
             "color": "#2a3f5f"
            },
            "error_y": {
             "color": "#2a3f5f"
            },
            "marker": {
             "line": {
              "color": "#E5ECF6",
              "width": 0.5
             },
             "pattern": {
              "fillmode": "overlay",
              "size": 10,
              "solidity": 0.2
             }
            },
            "type": "bar"
           }
          ],
          "barpolar": [
           {
            "marker": {
             "line": {
              "color": "#E5ECF6",
              "width": 0.5
             },
             "pattern": {
              "fillmode": "overlay",
              "size": 10,
              "solidity": 0.2
             }
            },
            "type": "barpolar"
           }
          ],
          "carpet": [
           {
            "aaxis": {
             "endlinecolor": "#2a3f5f",
             "gridcolor": "white",
             "linecolor": "white",
             "minorgridcolor": "white",
             "startlinecolor": "#2a3f5f"
            },
            "baxis": {
             "endlinecolor": "#2a3f5f",
             "gridcolor": "white",
             "linecolor": "white",
             "minorgridcolor": "white",
             "startlinecolor": "#2a3f5f"
            },
            "type": "carpet"
           }
          ],
          "choropleth": [
           {
            "colorbar": {
             "outlinewidth": 0,
             "ticks": ""
            },
            "type": "choropleth"
           }
          ],
          "contour": [
           {
            "colorbar": {
             "outlinewidth": 0,
             "ticks": ""
            },
            "colorscale": [
             [
              0,
              "#0d0887"
             ],
             [
              0.1111111111111111,
              "#46039f"
             ],
             [
              0.2222222222222222,
              "#7201a8"
             ],
             [
              0.3333333333333333,
              "#9c179e"
             ],
             [
              0.4444444444444444,
              "#bd3786"
             ],
             [
              0.5555555555555556,
              "#d8576b"
             ],
             [
              0.6666666666666666,
              "#ed7953"
             ],
             [
              0.7777777777777778,
              "#fb9f3a"
             ],
             [
              0.8888888888888888,
              "#fdca26"
             ],
             [
              1,
              "#f0f921"
             ]
            ],
            "type": "contour"
           }
          ],
          "contourcarpet": [
           {
            "colorbar": {
             "outlinewidth": 0,
             "ticks": ""
            },
            "type": "contourcarpet"
           }
          ],
          "heatmap": [
           {
            "colorbar": {
             "outlinewidth": 0,
             "ticks": ""
            },
            "colorscale": [
             [
              0,
              "#0d0887"
             ],
             [
              0.1111111111111111,
              "#46039f"
             ],
             [
              0.2222222222222222,
              "#7201a8"
             ],
             [
              0.3333333333333333,
              "#9c179e"
             ],
             [
              0.4444444444444444,
              "#bd3786"
             ],
             [
              0.5555555555555556,
              "#d8576b"
             ],
             [
              0.6666666666666666,
              "#ed7953"
             ],
             [
              0.7777777777777778,
              "#fb9f3a"
             ],
             [
              0.8888888888888888,
              "#fdca26"
             ],
             [
              1,
              "#f0f921"
             ]
            ],
            "type": "heatmap"
           }
          ],
          "heatmapgl": [
           {
            "colorbar": {
             "outlinewidth": 0,
             "ticks": ""
            },
            "colorscale": [
             [
              0,
              "#0d0887"
             ],
             [
              0.1111111111111111,
              "#46039f"
             ],
             [
              0.2222222222222222,
              "#7201a8"
             ],
             [
              0.3333333333333333,
              "#9c179e"
             ],
             [
              0.4444444444444444,
              "#bd3786"
             ],
             [
              0.5555555555555556,
              "#d8576b"
             ],
             [
              0.6666666666666666,
              "#ed7953"
             ],
             [
              0.7777777777777778,
              "#fb9f3a"
             ],
             [
              0.8888888888888888,
              "#fdca26"
             ],
             [
              1,
              "#f0f921"
             ]
            ],
            "type": "heatmapgl"
           }
          ],
          "histogram": [
           {
            "marker": {
             "pattern": {
              "fillmode": "overlay",
              "size": 10,
              "solidity": 0.2
             }
            },
            "type": "histogram"
           }
          ],
          "histogram2d": [
           {
            "colorbar": {
             "outlinewidth": 0,
             "ticks": ""
            },
            "colorscale": [
             [
              0,
              "#0d0887"
             ],
             [
              0.1111111111111111,
              "#46039f"
             ],
             [
              0.2222222222222222,
              "#7201a8"
             ],
             [
              0.3333333333333333,
              "#9c179e"
             ],
             [
              0.4444444444444444,
              "#bd3786"
             ],
             [
              0.5555555555555556,
              "#d8576b"
             ],
             [
              0.6666666666666666,
              "#ed7953"
             ],
             [
              0.7777777777777778,
              "#fb9f3a"
             ],
             [
              0.8888888888888888,
              "#fdca26"
             ],
             [
              1,
              "#f0f921"
             ]
            ],
            "type": "histogram2d"
           }
          ],
          "histogram2dcontour": [
           {
            "colorbar": {
             "outlinewidth": 0,
             "ticks": ""
            },
            "colorscale": [
             [
              0,
              "#0d0887"
             ],
             [
              0.1111111111111111,
              "#46039f"
             ],
             [
              0.2222222222222222,
              "#7201a8"
             ],
             [
              0.3333333333333333,
              "#9c179e"
             ],
             [
              0.4444444444444444,
              "#bd3786"
             ],
             [
              0.5555555555555556,
              "#d8576b"
             ],
             [
              0.6666666666666666,
              "#ed7953"
             ],
             [
              0.7777777777777778,
              "#fb9f3a"
             ],
             [
              0.8888888888888888,
              "#fdca26"
             ],
             [
              1,
              "#f0f921"
             ]
            ],
            "type": "histogram2dcontour"
           }
          ],
          "mesh3d": [
           {
            "colorbar": {
             "outlinewidth": 0,
             "ticks": ""
            },
            "type": "mesh3d"
           }
          ],
          "parcoords": [
           {
            "line": {
             "colorbar": {
              "outlinewidth": 0,
              "ticks": ""
             }
            },
            "type": "parcoords"
           }
          ],
          "pie": [
           {
            "automargin": true,
            "type": "pie"
           }
          ],
          "scatter": [
           {
            "fillpattern": {
             "fillmode": "overlay",
             "size": 10,
             "solidity": 0.2
            },
            "type": "scatter"
           }
          ],
          "scatter3d": [
           {
            "line": {
             "colorbar": {
              "outlinewidth": 0,
              "ticks": ""
             }
            },
            "marker": {
             "colorbar": {
              "outlinewidth": 0,
              "ticks": ""
             }
            },
            "type": "scatter3d"
           }
          ],
          "scattercarpet": [
           {
            "marker": {
             "colorbar": {
              "outlinewidth": 0,
              "ticks": ""
             }
            },
            "type": "scattercarpet"
           }
          ],
          "scattergeo": [
           {
            "marker": {
             "colorbar": {
              "outlinewidth": 0,
              "ticks": ""
             }
            },
            "type": "scattergeo"
           }
          ],
          "scattergl": [
           {
            "marker": {
             "colorbar": {
              "outlinewidth": 0,
              "ticks": ""
             }
            },
            "type": "scattergl"
           }
          ],
          "scattermapbox": [
           {
            "marker": {
             "colorbar": {
              "outlinewidth": 0,
              "ticks": ""
             }
            },
            "type": "scattermapbox"
           }
          ],
          "scatterpolar": [
           {
            "marker": {
             "colorbar": {
              "outlinewidth": 0,
              "ticks": ""
             }
            },
            "type": "scatterpolar"
           }
          ],
          "scatterpolargl": [
           {
            "marker": {
             "colorbar": {
              "outlinewidth": 0,
              "ticks": ""
             }
            },
            "type": "scatterpolargl"
           }
          ],
          "scatterternary": [
           {
            "marker": {
             "colorbar": {
              "outlinewidth": 0,
              "ticks": ""
             }
            },
            "type": "scatterternary"
           }
          ],
          "surface": [
           {
            "colorbar": {
             "outlinewidth": 0,
             "ticks": ""
            },
            "colorscale": [
             [
              0,
              "#0d0887"
             ],
             [
              0.1111111111111111,
              "#46039f"
             ],
             [
              0.2222222222222222,
              "#7201a8"
             ],
             [
              0.3333333333333333,
              "#9c179e"
             ],
             [
              0.4444444444444444,
              "#bd3786"
             ],
             [
              0.5555555555555556,
              "#d8576b"
             ],
             [
              0.6666666666666666,
              "#ed7953"
             ],
             [
              0.7777777777777778,
              "#fb9f3a"
             ],
             [
              0.8888888888888888,
              "#fdca26"
             ],
             [
              1,
              "#f0f921"
             ]
            ],
            "type": "surface"
           }
          ],
          "table": [
           {
            "cells": {
             "fill": {
              "color": "#EBF0F8"
             },
             "line": {
              "color": "white"
             }
            },
            "header": {
             "fill": {
              "color": "#C8D4E3"
             },
             "line": {
              "color": "white"
             }
            },
            "type": "table"
           }
          ]
         },
         "layout": {
          "annotationdefaults": {
           "arrowcolor": "#2a3f5f",
           "arrowhead": 0,
           "arrowwidth": 1
          },
          "autotypenumbers": "strict",
          "coloraxis": {
           "colorbar": {
            "outlinewidth": 0,
            "ticks": ""
           }
          },
          "colorscale": {
           "diverging": [
            [
             0,
             "#8e0152"
            ],
            [
             0.1,
             "#c51b7d"
            ],
            [
             0.2,
             "#de77ae"
            ],
            [
             0.3,
             "#f1b6da"
            ],
            [
             0.4,
             "#fde0ef"
            ],
            [
             0.5,
             "#f7f7f7"
            ],
            [
             0.6,
             "#e6f5d0"
            ],
            [
             0.7,
             "#b8e186"
            ],
            [
             0.8,
             "#7fbc41"
            ],
            [
             0.9,
             "#4d9221"
            ],
            [
             1,
             "#276419"
            ]
           ],
           "sequential": [
            [
             0,
             "#0d0887"
            ],
            [
             0.1111111111111111,
             "#46039f"
            ],
            [
             0.2222222222222222,
             "#7201a8"
            ],
            [
             0.3333333333333333,
             "#9c179e"
            ],
            [
             0.4444444444444444,
             "#bd3786"
            ],
            [
             0.5555555555555556,
             "#d8576b"
            ],
            [
             0.6666666666666666,
             "#ed7953"
            ],
            [
             0.7777777777777778,
             "#fb9f3a"
            ],
            [
             0.8888888888888888,
             "#fdca26"
            ],
            [
             1,
             "#f0f921"
            ]
           ],
           "sequentialminus": [
            [
             0,
             "#0d0887"
            ],
            [
             0.1111111111111111,
             "#46039f"
            ],
            [
             0.2222222222222222,
             "#7201a8"
            ],
            [
             0.3333333333333333,
             "#9c179e"
            ],
            [
             0.4444444444444444,
             "#bd3786"
            ],
            [
             0.5555555555555556,
             "#d8576b"
            ],
            [
             0.6666666666666666,
             "#ed7953"
            ],
            [
             0.7777777777777778,
             "#fb9f3a"
            ],
            [
             0.8888888888888888,
             "#fdca26"
            ],
            [
             1,
             "#f0f921"
            ]
           ]
          },
          "colorway": [
           "#636efa",
           "#EF553B",
           "#00cc96",
           "#ab63fa",
           "#FFA15A",
           "#19d3f3",
           "#FF6692",
           "#B6E880",
           "#FF97FF",
           "#FECB52"
          ],
          "font": {
           "color": "#2a3f5f"
          },
          "geo": {
           "bgcolor": "white",
           "lakecolor": "white",
           "landcolor": "#E5ECF6",
           "showlakes": true,
           "showland": true,
           "subunitcolor": "white"
          },
          "hoverlabel": {
           "align": "left"
          },
          "hovermode": "closest",
          "mapbox": {
           "style": "light"
          },
          "paper_bgcolor": "white",
          "plot_bgcolor": "#E5ECF6",
          "polar": {
           "angularaxis": {
            "gridcolor": "white",
            "linecolor": "white",
            "ticks": ""
           },
           "bgcolor": "#E5ECF6",
           "radialaxis": {
            "gridcolor": "white",
            "linecolor": "white",
            "ticks": ""
           }
          },
          "scene": {
           "xaxis": {
            "backgroundcolor": "#E5ECF6",
            "gridcolor": "white",
            "gridwidth": 2,
            "linecolor": "white",
            "showbackground": true,
            "ticks": "",
            "zerolinecolor": "white"
           },
           "yaxis": {
            "backgroundcolor": "#E5ECF6",
            "gridcolor": "white",
            "gridwidth": 2,
            "linecolor": "white",
            "showbackground": true,
            "ticks": "",
            "zerolinecolor": "white"
           },
           "zaxis": {
            "backgroundcolor": "#E5ECF6",
            "gridcolor": "white",
            "gridwidth": 2,
            "linecolor": "white",
            "showbackground": true,
            "ticks": "",
            "zerolinecolor": "white"
           }
          },
          "shapedefaults": {
           "line": {
            "color": "#2a3f5f"
           }
          },
          "ternary": {
           "aaxis": {
            "gridcolor": "white",
            "linecolor": "white",
            "ticks": ""
           },
           "baxis": {
            "gridcolor": "white",
            "linecolor": "white",
            "ticks": ""
           },
           "bgcolor": "#E5ECF6",
           "caxis": {
            "gridcolor": "white",
            "linecolor": "white",
            "ticks": ""
           }
          },
          "title": {
           "x": 0.05
          },
          "xaxis": {
           "automargin": true,
           "gridcolor": "white",
           "linecolor": "white",
           "ticks": "",
           "title": {
            "standoff": 15
           },
           "zerolinecolor": "white",
           "zerolinewidth": 2
          },
          "yaxis": {
           "automargin": true,
           "gridcolor": "white",
           "linecolor": "white",
           "ticks": "",
           "title": {
            "standoff": 15
           },
           "zerolinecolor": "white",
           "zerolinewidth": 2
          }
         }
        },
        "title": {
         "text": "K-Means, 6 Clusters"
        },
        "width": 900,
        "xaxis": {
         "anchor": "y",
         "domain": [
          0,
          1
         ],
         "title": {
          "text": "PCA Component 1"
         }
        },
        "yaxis": {
         "anchor": "x",
         "domain": [
          0,
          1
         ],
         "title": {
          "text": "PCA Component 2"
         }
        }
       }
      }
     },
     "metadata": {},
     "output_type": "display_data"
    }
   ],
   "source": [
    "import plotly.express as px\n",
    "\n",
    "fig = px.scatter(x=reduced_features[:, 0], y=reduced_features[:, 1], color=kmeans_6.labels_, \n",
    "                 color_continuous_scale=px.colors.sequential.Viridis, \n",
    "                 title='K-Means, 6 Clusters')\n",
    "fig.update_traces(marker=dict(size=12, opacity=0.9, line=dict(width=2, color='Black')))\n",
    "\n",
    "centers_6 = kmeans_6.cluster_centers_\n",
    "\n",
    "for i, c in enumerate(centers_6):\n",
    "    fig.add_scatter(x=[c[0]], y=[c[1]], mode='markers+text', text=[f\"<b>{i}</b>\"], textposition='middle center', \n",
    "                    marker=dict(symbol='circle', size=24, color='white', line=dict(color='black', width=2)), showlegend=False)\n",
    "\n",
    "fig.update_layout(xaxis_title='PCA Component 1', yaxis_title='PCA Component 2', width=900, height=600)\n",
    "fig.show()"
   ]
  },
  {
   "cell_type": "markdown",
   "metadata": {},
   "source": [
    "### Plotting the Silhouette Coefficient values"
   ]
  },
  {
   "cell_type": "code",
   "execution_count": 21,
   "metadata": {},
   "outputs": [
    {
     "data": {
      "image/png": "[encoded data removed]",
      "text/plain": [
       "<Figure size 1000x700 with 1 Axes>"
      ]
     },
     "metadata": {},
     "output_type": "display_data"
    }
   ],
   "source": [
    "import matplotlib.cm as cm\n",
    "from sklearn.metrics import silhouette_samples\n",
    "\n",
    "silhouette_values_6 = silhouette_samples(reduced_features, kmeans_6.labels_)\n",
    "\n",
    "# Create a single plot\n",
    "fig, ax1 = plt.subplots(1, 1)\n",
    "fig.set_size_inches(10, 7)\n",
    "\n",
    "# Silhouette plot for 6 clusters\n",
    "ax1.set_xlim([-0.1, 1])\n",
    "ax1.set_ylim([0, len(scaled_features) + (5 + 1) * 10])\n",
    "y_lower = 10\n",
    "for i in range(6):\n",
    "    ith_cluster_silhouette_values = silhouette_values_6[kmeans_6.labels_ == i]\n",
    "    ith_cluster_silhouette_values.sort()\n",
    "    size_cluster_i = ith_cluster_silhouette_values.shape[0]\n",
    "    y_upper = y_lower + size_cluster_i\n",
    "    color = cm.nipy_spectral(float(i) / 6)\n",
    "    ax1.fill_betweenx(np.arange(y_lower, y_upper), 0, ith_cluster_silhouette_values, facecolor=color, edgecolor=color, alpha=0.7)\n",
    "    ax1.text(-0.05, y_lower + 0.5 * size_cluster_i, str(i))\n",
    "    y_lower = y_upper + 10\n",
    "ax1.set_title(\"Silhouette plot for n_clusters = 6\")\n",
    "ax1.set_xlabel(\"Silhouette coefficient values\")\n",
    "ax1.set_ylabel(\"Cluster label\")\n",
    "ax1.axvline(x=silhouette_avg, color=\"red\", linestyle=\"--\")\n",
    "ax1.set_yticks([])\n",
    "ax1.set_xticks(np.arange(-0.1, 1.0, 0.2))\n",
    "\n",
    "plt.show()"
   ]
  },
  {
   "cell_type": "markdown",
   "metadata": {},
   "source": [
    "### Mapping the 6 Clusters back to Customers"
   ]
  },
  {
   "cell_type": "code",
   "execution_count": 33,
   "metadata": {},
   "outputs": [
    {
     "data": {
      "text/html": [
       "<div>\n",
       "<style scoped>\n",
       "    .dataframe tbody tr th:only-of-type {\n",
       "        vertical-align: middle;\n",
       "    }\n",
       "\n",
       "    .dataframe tbody tr th {\n",
       "        vertical-align: top;\n",
       "    }\n",
       "\n",
       "    .dataframe thead th {\n",
       "        text-align: right;\n",
       "    }\n",
       "</style>\n",
       "<table border=\"1\" class=\"dataframe\">\n",
       "  <thead>\n",
       "    <tr style=\"text-align: right;\">\n",
       "      <th></th>\n",
       "      <th>CustomerID</th>\n",
       "      <th>CustomerName</th>\n",
       "      <th>Tenure</th>\n",
       "      <th>Recency</th>\n",
       "      <th>Frequency</th>\n",
       "      <th>Monetary</th>\n",
       "      <th>Region_Asia</th>\n",
       "      <th>Region_Europe</th>\n",
       "      <th>Region_North America</th>\n",
       "      <th>Region_South America</th>\n",
       "      <th>Cluster</th>\n",
       "      <th>PCA1</th>\n",
       "      <th>PCA2</th>\n",
       "    </tr>\n",
       "  </thead>\n",
       "  <tbody>\n",
       "    <tr>\n",
       "      <th>0</th>\n",
       "      <td>C0001</td>\n",
       "      <td>Lawrence Carroll</td>\n",
       "      <td>933</td>\n",
       "      <td>87.0</td>\n",
       "      <td>5.0</td>\n",
       "      <td>3354.52</td>\n",
       "      <td>False</td>\n",
       "      <td>False</td>\n",
       "      <td>False</td>\n",
       "      <td>True</td>\n",
       "      <td>3</td>\n",
       "      <td>0.613997</td>\n",
       "      <td>-1.694224</td>\n",
       "    </tr>\n",
       "    <tr>\n",
       "      <th>1</th>\n",
       "      <td>C0002</td>\n",
       "      <td>Elizabeth Lutz</td>\n",
       "      <td>1080</td>\n",
       "      <td>56.0</td>\n",
       "      <td>4.0</td>\n",
       "      <td>1862.74</td>\n",
       "      <td>True</td>\n",
       "      <td>False</td>\n",
       "      <td>False</td>\n",
       "      <td>False</td>\n",
       "      <td>4</td>\n",
       "      <td>-0.477287</td>\n",
       "      <td>-0.613687</td>\n",
       "    </tr>\n",
       "    <tr>\n",
       "      <th>2</th>\n",
       "      <td>C0003</td>\n",
       "      <td>Michael Rivera</td>\n",
       "      <td>327</td>\n",
       "      <td>157.0</td>\n",
       "      <td>4.0</td>\n",
       "      <td>2725.38</td>\n",
       "      <td>False</td>\n",
       "      <td>False</td>\n",
       "      <td>False</td>\n",
       "      <td>True</td>\n",
       "      <td>4</td>\n",
       "      <td>-0.483765</td>\n",
       "      <td>-1.032006</td>\n",
       "    </tr>\n",
       "    <tr>\n",
       "      <th>3</th>\n",
       "      <td>C0004</td>\n",
       "      <td>Kathleen Rodriguez</td>\n",
       "      <td>842</td>\n",
       "      <td>36.0</td>\n",
       "      <td>8.0</td>\n",
       "      <td>5354.88</td>\n",
       "      <td>False</td>\n",
       "      <td>False</td>\n",
       "      <td>False</td>\n",
       "      <td>True</td>\n",
       "      <td>3</td>\n",
       "      <td>2.391476</td>\n",
       "      <td>-1.219433</td>\n",
       "    </tr>\n",
       "    <tr>\n",
       "      <th>4</th>\n",
       "      <td>C0005</td>\n",
       "      <td>Laura Weber</td>\n",
       "      <td>897</td>\n",
       "      <td>85.0</td>\n",
       "      <td>3.0</td>\n",
       "      <td>2034.24</td>\n",
       "      <td>True</td>\n",
       "      <td>False</td>\n",
       "      <td>False</td>\n",
       "      <td>False</td>\n",
       "      <td>4</td>\n",
       "      <td>-0.933873</td>\n",
       "      <td>-0.448706</td>\n",
       "    </tr>\n",
       "  </tbody>\n",
       "</table>\n",
       "</div>"
      ],
      "text/plain": [
       "  CustomerID        CustomerName  Tenure  Recency  Frequency  Monetary  \\\n",
       "0      C0001    Lawrence Carroll     933     87.0        5.0   3354.52   \n",
       "1      C0002      Elizabeth Lutz    1080     56.0        4.0   1862.74   \n",
       "2      C0003      Michael Rivera     327    157.0        4.0   2725.38   \n",
       "3      C0004  Kathleen Rodriguez     842     36.0        8.0   5354.88   \n",
       "4      C0005         Laura Weber     897     85.0        3.0   2034.24   \n",
       "\n",
       "   Region_Asia  Region_Europe  Region_North America  Region_South America  \\\n",
       "0        False          False                 False                  True   \n",
       "1         True          False                 False                 False   \n",
       "2        False          False                 False                  True   \n",
       "3        False          False                 False                  True   \n",
       "4         True          False                 False                 False   \n",
       "\n",
       "   Cluster      PCA1      PCA2  \n",
       "0        3  0.613997 -1.694224  \n",
       "1        4 -0.477287 -0.613687  \n",
       "2        4 -0.483765 -1.032006  \n",
       "3        3  2.391476 -1.219433  \n",
       "4        4 -0.933873 -0.448706  "
      ]
     },
     "execution_count": 33,
     "metadata": {},
     "output_type": "execute_result"
    }
   ],
   "source": [
    "customer_data_6 = customer_data.copy()\n",
    "customer_data_6['Cluster'] = kmeans_6.labels_\n",
    "customer_data_6['PCA1'] = reduced_features[:, 0] \n",
    "customer_data_6['PCA2'] = reduced_features[:, 1]\n",
    "\n",
    "# Append back the customerID as the first column\n",
    "customer_data_6.insert(0, 'CustomerID', customers['CustomerID']) \n",
    "customer_data_6.insert(1, 'CustomerName', customers['CustomerName'])   \n",
    "\n",
    "customer_data_6.head()"
   ]
  },
  {
   "cell_type": "code",
   "execution_count": 29,
   "metadata": {},
   "outputs": [
    {
     "name": "stdout",
     "output_type": "stream",
     "text": [
      "Cluster\n",
      "0    24\n",
      "1    44\n",
      "2    27\n",
      "3    47\n",
      "4    47\n",
      "5    11\n",
      "Name: count, dtype: int64\n"
     ]
    }
   ],
   "source": [
    "cluster_counts_6 = customer_data_6['Cluster'].value_counts().sort_index()\n",
    "print(cluster_counts_6)"
   ]
  },
  {
   "cell_type": "code",
   "execution_count": 45,
   "metadata": {},
   "outputs": [
    {
     "data": {
      "application/vnd.plotly.v1+json": {
       "config": {
        "plotlyServerURL": "https://plot.ly"
       },
       "data": [
        {
         "customdata": [
          [
           "C0001",
           "Lawrence Carroll"
          ],
          [
           "C0002",
           "Elizabeth Lutz"
          ],
          [
           "C0003",
           "Michael Rivera"
          ],
          [
           "C0004",
           "Kathleen Rodriguez"
          ],
          [
           "C0005",
           "Laura Weber"
          ],
          [
           "C0006",
           "Brittany Palmer"
          ],
          [
           "C0007",
           "Paul Graves"
          ],
          [
           "C0008",
           "David Li"
          ],
          [
           "C0009",
           "Joy Clark"
          ],
          [
           "C0010",
           "Aaron Cox"
          ],
          [
           "C0011",
           "Bryan Mathews"
          ],
          [
           "C0012",
           "Kevin May"
          ],
          [
           "C0013",
           "Lauren Buchanan"
          ],
          [
           "C0014",
           "Deborah Wilcox"
          ],
          [
           "C0015",
           "Tina Duran"
          ],
          [
           "C0016",
           "Emily Woods"
          ],
          [
           "C0017",
           "Jennifer King"
          ],
          [
           "C0018",
           "Tyler Haynes"
          ],
          [
           "C0019",
           "Brandon Rodriguez"
          ],
          [
           "C0020",
           "Mr. Manuel Conway"
          ],
          [
           "C0021",
           "Robert Blanchard"
          ],
          [
           "C0022",
           "Teresa Esparza"
          ],
          [
           "C0023",
           "Nicholas Cain"
          ],
          [
           "C0024",
           "Michele Cooley"
          ],
          [
           "C0025",
           "Gregory Odom"
          ],
          [
           "C0026",
           "Sara Miller"
          ],
          [
           "C0027",
           "Justin Heath"
          ],
          [
           "C0028",
           "Jennifer Pena"
          ],
          [
           "C0029",
           "Erin Manning"
          ],
          [
           "C0030",
           "Mark Brock"
          ],
          [
           "C0031",
           "Tina Miller"
          ],
          [
           "C0032",
           "Dustin Campbell"
          ],
          [
           "C0033",
           "Tyler Holt"
          ],
          [
           "C0034",
           "Dalton Perez"
          ],
          [
           "C0035",
           "Brianna Richardson"
          ],
          [
           "C0036",
           "Brian Aguilar DDS"
          ],
          [
           "C0037",
           "Linda Smith"
          ],
          [
           "C0038",
           "Jeffrey Perkins"
          ],
          [
           "C0039",
           "Angela Harris"
          ],
          [
           "C0040",
           "Michael Harrell"
          ],
          [
           "C0041",
           "Lindsey Deleon"
          ],
          [
           "C0042",
           "Heather Riley"
          ],
          [
           "C0043",
           "Sandy Short MD"
          ],
          [
           "C0044",
           "Kenneth Alexander"
          ],
          [
           "C0045",
           "Michael Williams"
          ],
          [
           "C0046",
           "Beth Cardenas"
          ],
          [
           "C0047",
           "Samantha Frank"
          ],
          [
           "C0048",
           "Matthew Park"
          ],
          [
           "C0049",
           "Jason Yates"
          ],
          [
           "C0050",
           "Ryan Davis"
          ],
          [
           "C0051",
           "Nicholas Ellis"
          ],
          [
           "C0052",
           "Stanley Aguirre"
          ],
          [
           "C0053",
           "Albert Burke"
          ],
          [
           "C0054",
           "Bruce Rhodes"
          ],
          [
           "C0055",
           "Lauren Williams"
          ],
          [
           "C0056",
           "Erika Fernandez"
          ],
          [
           "C0057",
           "Elizabeth Nguyen"
          ],
          [
           "C0058",
           "Zachary Turner"
          ],
          [
           "C0059",
           "Mrs. Kimberly Wright"
          ],
          [
           "C0060",
           "James Murphy"
          ],
          [
           "C0061",
           "Brandon Escobar"
          ],
          [
           "C0062",
           "Jeffery Hartman"
          ],
          [
           "C0063",
           "Wayne Ferguson"
          ],
          [
           "C0064",
           "Martha Montgomery"
          ],
          [
           "C0065",
           "Gerald Hines"
          ],
          [
           "C0066",
           "Catherine White"
          ],
          [
           "C0067",
           "Carl Gonzalez"
          ],
          [
           "C0068",
           "Mark Cox"
          ],
          [
           "C0069",
           "Stacy Foster"
          ],
          [
           "C0070",
           "Timothy Perez"
          ],
          [
           "C0071",
           "Taylor Murphy"
          ],
          [
           "C0072",
           "Sarah Scott"
          ],
          [
           "C0073",
           "Heidi Johnson"
          ],
          [
           "C0074",
           "Jonathan Russo"
          ],
          [
           "C0075",
           "Misty Higgins"
          ],
          [
           "C0076",
           "Emily Roberts"
          ],
          [
           "C0077",
           "Scott Sims"
          ],
          [
           "C0078",
           "Julia Palmer"
          ],
          [
           "C0079",
           "Brian Murillo"
          ],
          [
           "C0080",
           "David Gonzalez"
          ],
          [
           "C0081",
           "Kimberly Turner"
          ],
          [
           "C0082",
           "Aimee Taylor"
          ],
          [
           "C0083",
           "Christina Stark"
          ],
          [
           "C0084",
           "Belinda Garner"
          ],
          [
           "C0085",
           "Richard Brown"
          ],
          [
           "C0086",
           "Stephanie Peterson"
          ],
          [
           "C0087",
           "Travis Campbell"
          ],
          [
           "C0088",
           "Carlos Murray"
          ],
          [
           "C0089",
           "Paul Carter"
          ],
          [
           "C0090",
           "Charles Hamilton"
          ],
          [
           "C0091",
           "Lisa Kirk"
          ],
          [
           "C0092",
           "Jacqueline Zamora"
          ],
          [
           "C0093",
           "Nancy Walker"
          ],
          [
           "C0094",
           "Emily Trevino"
          ],
          [
           "C0095",
           "William Walker"
          ],
          [
           "C0096",
           "Benjamin Mcclure"
          ],
          [
           "C0097",
           "Tina Ford"
          ],
          [
           "C0098",
           "Laura Gilbert"
          ],
          [
           "C0099",
           "Rodney Eaton"
          ],
          [
           "C0100",
           "Clinton Gomez"
          ],
          [
           "C0101",
           "Kelsey Roberts"
          ],
          [
           "C0102",
           "Michael Atkinson"
          ],
          [
           "C0103",
           "Jennifer Munoz"
          ],
          [
           "C0104",
           "Laura Bennett"
          ],
          [
           "C0105",
           "Ryan Hampton"
          ],
          [
           "C0106",
           "Amanda Mcguire"
          ],
          [
           "C0107",
           "Dana Cantrell"
          ],
          [
           "C0108",
           "David Davis"
          ],
          [
           "C0109",
           "Abigail Jones"
          ],
          [
           "C0110",
           "Elizabeth Wells"
          ],
          [
           "C0111",
           "Roger David"
          ],
          [
           "C0112",
           "Brian Adkins"
          ],
          [
           "C0113",
           "Joseph Ortiz Jr."
          ],
          [
           "C0114",
           "Benjamin Anderson"
          ],
          [
           "C0115",
           "Joshua Hamilton"
          ],
          [
           "C0116",
           "James Martinez"
          ],
          [
           "C0117",
           "Jeffrey Mcmahon"
          ],
          [
           "C0118",
           "Jacob Holt"
          ],
          [
           "C0119",
           "David Armstrong"
          ],
          [
           "C0120",
           "Francisco Diaz"
          ],
          [
           "C0121",
           "Mark Atkinson"
          ],
          [
           "C0122",
           "Corey Ruiz"
          ],
          [
           "C0123",
           "Jason Johnston"
          ],
          [
           "C0124",
           "Lindsay Perez"
          ],
          [
           "C0125",
           "Nicholas Taylor"
          ],
          [
           "C0126",
           "Caitlin Brown"
          ],
          [
           "C0127",
           "Kathryn Stevens"
          ],
          [
           "C0128",
           "Henry Leach"
          ],
          [
           "C0129",
           "Marcus Livingston"
          ],
          [
           "C0130",
           "Robert Jones"
          ],
          [
           "C0131",
           "Scott Wilson"
          ],
          [
           "C0132",
           "Lisa Jackson"
          ],
          [
           "C0133",
           "Gwendolyn Carter"
          ],
          [
           "C0134",
           "Theresa Gonzalez"
          ],
          [
           "C0135",
           "Toni Weaver"
          ],
          [
           "C0136",
           "Kristen Holder"
          ],
          [
           "C0137",
           "Robert Gardner"
          ],
          [
           "C0138",
           "Cynthia Clayton"
          ],
          [
           "C0139",
           "Ricky Gutierrez"
          ],
          [
           "C0140",
           "Gregory Estrada"
          ],
          [
           "C0141",
           "Paul Parsons"
          ],
          [
           "C0142",
           "Nicole Long DVM"
          ],
          [
           "C0143",
           "Brian Parker"
          ],
          [
           "C0144",
           "Andrea Hart"
          ],
          [
           "C0145",
           "Wayne Stone"
          ],
          [
           "C0146",
           "Brittany Harvey"
          ],
          [
           "C0147",
           "Hunter Fuller"
          ],
          [
           "C0148",
           "Matthew Rogers"
          ],
          [
           "C0149",
           "Tina Wilson"
          ],
          [
           "C0150",
           "Angela Williams"
          ],
          [
           "C0151",
           "Amber Gonzalez"
          ],
          [
           "C0152",
           "Justin Evans"
          ],
          [
           "C0153",
           "Justin Smith"
          ],
          [
           "C0154",
           "Robert Sharp"
          ],
          [
           "C0155",
           "Michelle Brown"
          ],
          [
           "C0156",
           "William Adams"
          ],
          [
           "C0157",
           "Miguel Wong"
          ],
          [
           "C0158",
           "Wendy Browning"
          ],
          [
           "C0159",
           "Austin Miller"
          ],
          [
           "C0160",
           "Jodi Cook"
          ],
          [
           "C0161",
           "Jessica Warren"
          ],
          [
           "C0162",
           "Edwin Watson"
          ],
          [
           "C0163",
           "Tiffany Cain"
          ],
          [
           "C0164",
           "Morgan Perez"
          ],
          [
           "C0165",
           "Juan Mcdaniel"
          ],
          [
           "C0166",
           "John Rogers"
          ],
          [
           "C0167",
           "Brandy Welch"
          ],
          [
           "C0168",
           "Karen Clements MD"
          ],
          [
           "C0169",
           "Jennifer Shaw"
          ],
          [
           "C0170",
           "Logan Harris"
          ],
          [
           "C0171",
           "Michael Cowan"
          ],
          [
           "C0172",
           "Jamie Webb"
          ],
          [
           "C0173",
           "Francisco Young"
          ],
          [
           "C0174",
           "Tracy Steele"
          ],
          [
           "C0175",
           "Matthew Johnson"
          ],
          [
           "C0176",
           "Nicole Booth"
          ],
          [
           "C0177",
           "Julia Kelly"
          ],
          [
           "C0178",
           "Carol Williams"
          ],
          [
           "C0179",
           "Donald Miller"
          ],
          [
           "C0180",
           "Amy Carpenter"
          ],
          [
           "C0181",
           "Alexander Barker"
          ],
          [
           "C0182",
           "Joshua Preston"
          ],
          [
           "C0183",
           "Kimberly Johnson"
          ],
          [
           "C0184",
           "Tina Jacobs"
          ],
          [
           "C0185",
           "Kathleen Logan"
          ],
          [
           "C0186",
           "Amber Alexander"
          ],
          [
           "C0187",
           "Kayla Kelly"
          ],
          [
           "C0188",
           "Anna Ball"
          ],
          [
           "C0189",
           "Sherri Dixon"
          ],
          [
           "C0190",
           "Alexander Lowe"
          ],
          [
           "C0191",
           "Samantha Gibson DVM"
          ],
          [
           "C0192",
           "Sarah Arias"
          ],
          [
           "C0193",
           "Douglas Torres"
          ],
          [
           "C0194",
           "Stacy Cook"
          ],
          [
           "C0195",
           "Jeremy Mclaughlin"
          ],
          [
           "C0196",
           "Laura Watts"
          ],
          [
           "C0197",
           "Christina Harvey"
          ],
          [
           "C0198",
           "Rebecca Ray"
          ],
          [
           "C0199",
           "Andrea Jenkins"
          ],
          [
           "C0200",
           "Kelly Cross"
          ]
         ],
         "hovertemplate": "PCA1=%{x}<br>PCA2=%{y}<br>CustomerID=%{customdata[0]}<br>CustomerName=%{customdata[1]}<br>Cluster=%{marker.color}<extra></extra>",
         "legendgroup": "",
         "marker": {
          "color": [
           3,
           4,
           4,
           3,
           4,
           3,
           4,
           0,
           4,
           4,
           3,
           3,
           3,
           5,
           5,
           2,
           0,
           2,
           1,
           5,
           0,
           1,
           3,
           2,
           4,
           2,
           1,
           0,
           1,
           2,
           4,
           4,
           5,
           2,
           2,
           2,
           1,
           1,
           3,
           4,
           0,
           2,
           4,
           1,
           3,
           2,
           2,
           3,
           2,
           2,
           0,
           4,
           3,
           0,
           2,
           1,
           1,
           5,
           0,
           4,
           4,
           4,
           4,
           1,
           0,
           1,
           2,
           0,
           1,
           4,
           4,
           2,
           4,
           4,
           0,
           3,
           4,
           5,
           1,
           5,
           1,
           3,
           4,
           0,
           4,
           1,
           3,
           1,
           4,
           1,
           3,
           1,
           0,
           2,
           4,
           3,
           5,
           2,
           3,
           1,
           0,
           3,
           4,
           3,
           1,
           1,
           3,
           3,
           0,
           5,
           1,
           4,
           3,
           1,
           1,
           2,
           2,
           3,
           1,
           4,
           4,
           0,
           4,
           1,
           2,
           3,
           1,
           5,
           4,
           4,
           1,
           4,
           3,
           1,
           4,
           1,
           3,
           0,
           0,
           4,
           0,
           1,
           0,
           5,
           0,
           1,
           3,
           3,
           1,
           4,
           4,
           3,
           3,
           2,
           3,
           0,
           2,
           3,
           4,
           1,
           1,
           3,
           3,
           1,
           3,
           4,
           4,
           3,
           3,
           1,
           3,
           1,
           0,
           3,
           0,
           1,
           1,
           1,
           1,
           4,
           3,
           1,
           2,
           3,
           2,
           4,
           3,
           3,
           2,
           3,
           3,
           4,
           4,
           2,
           3,
           3,
           4,
           4,
           4,
           1
          ],
          "coloraxis": "coloraxis",
          "line": {
           "color": "Black",
           "width": 2
          },
          "opacity": 0.9,
          "size": 12,
          "symbol": "circle"
         },
         "mode": "markers",
         "name": "",
         "orientation": "v",
         "showlegend": false,
         "type": "scatter",
         "x": [
          0.6139971453631647,
          -0.4772873632226593,
          -0.48376539076773317,
          2.39147559906458,
          -0.9338730268410474,
          0.2925228044134082,
          -1.1655590566785208,
          1.8735337724443408,
          -1.6901136297082346,
          -0.8538203017945915,
          1.0146919961088612,
          1.8745348608675887,
          1.8376329453435671,
          -4.161755013064277,
          -1.9020244723178974,
          0.11878185603805314,
          1.250660062443354,
          -0.2627836440990308,
          -0.19560596515815803,
          -3.7414306345870547,
          1.3648127683923943,
          0.34161217000282434,
          0.8940014560600245,
          0.30564172791023886,
          -0.7259139049330228,
          -0.4994138014345199,
          -0.6452980588619989,
          2.133450110447616,
          -0.3738673547386453,
          -0.11239374070921547,
          -0.17534775502755695,
          -0.8704604637932041,
          -3.063500607202267,
          0.0590304102218005,
          -0.9156272646791628,
          -1.202826722131204,
          -0.04185034984861699,
          0.12098356393064202,
          0.8919129556632496,
          -0.9015892798452217,
          1.5047341014445816,
          -0.8338367548587129,
          -1.5613388228234155,
          -0.968145932379628,
          1.1267738273777985,
          0.88602907805578,
          -0.14958405742021433,
          0.7112675916917854,
          -0.064235015496057,
          -0.6830144495365744,
          1.3591083568793727,
          -0.5082801321544428,
          0.8524105440959852,
          2.0280787465241614,
          -0.5529670928790968,
          0.12967477400392097,
          0.6411588769914388,
          -3.8597454943528917,
          1.877306872625397,
          -2.605082594096918,
          -0.8772349512853477,
          -1.9384045194381612,
          -1.952082959053932,
          0.21186950800780757,
          2.911058215619751,
          -1.1473278370229376,
          0.38200343520541946,
          1.9982777329809605,
          -0.1634553703169276,
          -0.5484804510825294,
          -1.0134746628169222,
          -0.2731508190851181,
          -2.440289726870727,
          -1.2974952812935636,
          2.0123942206217342,
          0.2798183517126482,
          -0.9169644822394525,
          -1.8799129330832112,
          -0.4365093848626123,
          -3.4303302260153967,
          0.12203232225786423,
          2.7447357063922446,
          -0.5353919272005075,
          1.5559719927479887,
          -0.5724419092028845,
          0.03556986507678714,
          1.7454850550898644,
          -0.17607988880909836,
          -1.1795559562262763,
          0.4260989011787959,
          0.25766337466998046,
          -0.2808770999250674,
          1.3070867068193186,
          -1.0453767086713022,
          -1.1797016108595448,
          1.699184264339524,
          -3.633108904410257,
          0.8954912099167693,
          2.802481891225271,
          0.3216743009320119,
          1.8208117427976953,
          1.9774696814974566,
          -0.5399354278319286,
          2.571750462302596,
          0.05704646880431022,
          0.05139577473103796,
          0.5699836439307618,
          1.4593311178079782,
          2.502131421773199,
          -3.944655494434638,
          -0.5495919890878329,
          -1.0978301408613222,
          2.0921945503061257,
          0.2134194597709067,
          -0.537441463382124,
          -0.1105484919415184,
          -0.791718785992559,
          1.2512917126864789,
          -0.6013129904272116,
          -0.8146387468218728,
          -1.4613059751417041,
          1.4850140169169084,
          -1.5071458374630655,
          0.3891148158189889,
          -0.8093762324268703,
          1.2651551260109763,
          -0.2875148573169451,
          -2.6946753297929926,
          -0.6192287456205824,
          -2.5313715342491294,
          -0.6607966218565441,
          -0.9851385433557046,
          0.302368898181028,
          0.11148354820993775,
          -0.6133181096896514,
          0.5136524260862201,
          0.7219866952669961,
          0.8135017944375763,
          0.8994377322381146,
          -1.4827759746555913,
          3.8525261146634833,
          -0.44658623666568514,
          1.5666992900227217,
          -2.832736878696444,
          1.7806830888000074,
          -0.4451000795421451,
          1.9414556943589298,
          1.0289426266250188,
          -0.18080283930089355,
          -2.4101573870859245,
          -1.490523739428971,
          0.5773367874924584,
          1.0713660179452165,
          -0.06269579155015613,
          1.813370842411298,
          3.2897258251264923,
          -0.38133693361635324,
          0.05815685296812051,
          -0.6832270243360435,
          -0.5122892235253117,
          0.3925141798110049,
          1.4990486232581934,
          1.4577182824913768,
          -0.26076217923856615,
          3.1906695122867506,
          -0.6845600235709736,
          -1.3481567969528134,
          0.7809746826156255,
          1.3820445438149702,
          0.009308864466993274,
          1.0909173357855975,
          -0.30030410600922497,
          1.3045349742270367,
          0.6677824335616566,
          2.5347044075510436,
          -1.5005025587930485,
          -0.7010704860275077,
          -0.2916437282662542,
          0.13734380810898567,
          -2.0655584123899398,
          1.0709801758518922,
          -0.8877061688714799,
          0.12274110967937735,
          0.8745790536847143,
          -1.0610413870460298,
          -1.226751633292995,
          0.6650251413715803,
          3.0300625930583065,
          -0.04305970739270949,
          0.5430416477309233,
          0.5405850022792349,
          -0.6809164856768463,
          -1.3585574170925063,
          0.5262742785480766,
          1.0023471987586676,
          0.4502781922688647,
          -0.8479802194092388,
          -1.8420481743249915,
          -0.8910705902173641,
          0.6504569574832099
         ],
         "xaxis": "x",
         "y": [
          -1.6942239562676111,
          -0.6136867315148722,
          -1.0320064832261755,
          -1.2194327406931713,
          -0.4487060001968559,
          -1.028143685024967,
          -0.47291706575796166,
          2.2856854717202286,
          -0.5510876067516515,
          -0.7326598870967002,
          -1.4879718410362952,
          -0.4651339197004241,
          -0.508211788284254,
          -0.29436815131564575,
          1.3802591267579565,
          1.8387347343774385,
          0.23056297240183413,
          2.2480073978817643,
          -0.49962328967494385,
          1.5953941471961222,
          0.4890532485839532,
          0.5257970070629613,
          -0.7197007346541132,
          2.0442593891870042,
          -1.8728540723158256,
          1.896094724648463,
          -0.2189151500352256,
          1.1117467836368375,
          0.8248896002724762,
          1.7853355589825484,
          -1.0522716153196983,
          -1.2093253583852122,
          1.5796474392465893,
          1.7545750933363877,
          2.031764261846994,
          1.7875276468819965,
          -0.4212734081271836,
          0.9665969094795092,
          -0.5098381222880111,
          -0.5114145599745453,
          0.25507086864250883,
          1.2104902612350406,
          -0.27178745719701036,
          0.005735066770974087,
          -0.07457378644715994,
          2.4945657270871933,
          2.064595621572425,
          -0.5943772956112477,
          2.3414557545425585,
          1.6958826871802637,
          0.2204718695843175,
          -1.0683673049755606,
          -0.5736647315997915,
          1.319861996132054,
          2.183468384623788,
          0.5431863765434727,
          0.3437869199722308,
          1.3924071982137525,
          2.4062943468041817,
          -1.3651009445153461,
          -0.6942465465263273,
          -0.7923983458046783,
          -0.3811277406774083,
          -0.12036140362208474,
          2.7165118819334673,
          0.21454343243933702,
          1.7118860068579158,
          1.8572017670940544,
          -0.13750134790012752,
          -0.987188738802064,
          -1.9738969146212666,
          2.044988816383341,
          -0.8879935091699341,
          -0.9664760654373975,
          0.10187504831665968,
          -1.0266537354710195,
          -1.423916170455291,
          0.35298456188030203,
          0.9147556018851025,
          0.06239793887039037,
          0.09845364195961438,
          -1.3535764666500072,
          -2.1540031110093887,
          1.1563302239656308,
          -0.8828199493007314,
          -0.7074025209272233,
          -0.5084971678455582,
          0.0599247970119179,
          -0.25388168379662046,
          0.5671109527913896,
          -1.289215583856363,
          0.5112070013086282,
          1.1451321855711043,
          1.4556664599605813,
          -1.7619977850309987,
          -1.3743649488704073,
          -0.05692631971225491,
          2.407014547179547,
          -0.9959764486381397,
          -0.2359614207279473,
          0.6892257754604886,
          -1.1758683605091245,
          -0.8644814025685931,
          -1.4398256689372817,
          0.5202224575107399,
          -0.18402394086907609,
          -1.4070184249602395,
          -1.3286947181682862,
          1.674110219108751,
          0.36226438899417274,
          0.24567928730341546,
          -1.9225527061418966,
          -1.390309877627064,
          0.4989699320959901,
          0.6434976974926561,
          2.177343441307935,
          2.1968201139940273,
          -1.8303325469073324,
          -0.26819811868347054,
          -1.6580583195096954,
          -0.48719711709247493,
          1.3008699012180882,
          -0.006542905322724821,
          0.4660355418819267,
          1.2365490261165861,
          -0.7966200148009348,
          0.1419480358162317,
          -0.20697476674314091,
          -1.1017702076419598,
          -1.7963956288904734,
          0.8154989065632374,
          -0.7523208567753202,
          -1.5049022105965357,
          -0.474931754692425,
          -0.7819858289489111,
          0.6676795387019291,
          -0.8983772152034849,
          0.9477110462152187,
          1.2522222508179515,
          -0.13136246937127438,
          0.39182852502116455,
          0.32194241395776474,
          0.9412923223792153,
          1.8219992291815856,
          0.3806049299375781,
          0.6081575563299697,
          -1.4653060517894678,
          -1.2062628805317073,
          -0.42244011577626295,
          -2.0760711865439623,
          -1.1325828440146997,
          -1.7934011814631583,
          -1.6567719703400667,
          2.3018121659151998,
          -1.083131715933003,
          2.385475226894247,
          1.746801042614959,
          -1.3949179387576653,
          -0.4668913103680792,
          0.9939261460009925,
          -0.13938794429484352,
          -0.04268834067797782,
          -1.0386119138630525,
          -0.3506507612349242,
          -1.286921177983644,
          -1.0718620125822387,
          -0.2540990123431479,
          -1.4762326698636927,
          -1.1961188620596592,
          -0.09671043055804139,
          -1.383129297443248,
          0.2657766757012766,
          0.27744537423255394,
          -1.584365516502103,
          0.2314991152840519,
          0.7831876618984353,
          0.4944263800640396,
          0.24846480918549607,
          -0.5163420643900041,
          -0.2897570115869592,
          -0.9979937892796709,
          0.5335541295687104,
          1.861914360788152,
          -1.5849293328563783,
          1.5644104005907622,
          0.07218312633458486,
          -0.6589872685792038,
          -1.2984289710215997,
          1.7794167757276378,
          -0.8516218431818423,
          -0.918183033159809,
          -1.7479504353852955,
          -0.051114758971865334,
          2.1649800856307118,
          -0.5614765870974394,
          -0.7854720182666349,
          -0.6917768989389282,
          -1.3059439468563152,
          -0.7272734846016885,
          0.2536377812474566
         ],
         "yaxis": "y"
        }
       ],
       "layout": {
        "annotations": [
         {
          "font": {
           "size": 10
          },
          "showarrow": false,
          "text": "C0001",
          "x": 0.6139971453631647,
          "y": -1.6942239562676111
         },
         {
          "font": {
           "size": 10
          },
          "showarrow": false,
          "text": "C0002",
          "x": -0.4772873632226593,
          "y": -0.6136867315148722
         },
         {
          "font": {
           "size": 10
          },
          "showarrow": false,
          "text": "C0003",
          "x": -0.48376539076773317,
          "y": -1.0320064832261755
         },
         {
          "font": {
           "size": 10
          },
          "showarrow": false,
          "text": "C0004",
          "x": 2.39147559906458,
          "y": -1.2194327406931713
         },
         {
          "font": {
           "size": 10
          },
          "showarrow": false,
          "text": "C0005",
          "x": -0.9338730268410474,
          "y": -0.4487060001968559
         },
         {
          "font": {
           "size": 10
          },
          "showarrow": false,
          "text": "C0006",
          "x": 0.2925228044134082,
          "y": -1.028143685024967
         },
         {
          "font": {
           "size": 10
          },
          "showarrow": false,
          "text": "C0007",
          "x": -1.1655590566785208,
          "y": -0.47291706575796166
         },
         {
          "font": {
           "size": 10
          },
          "showarrow": false,
          "text": "C0008",
          "x": 1.8735337724443408,
          "y": 2.2856854717202286
         },
         {
          "font": {
           "size": 10
          },
          "showarrow": false,
          "text": "C0009",
          "x": -1.6901136297082346,
          "y": -0.5510876067516515
         },
         {
          "font": {
           "size": 10
          },
          "showarrow": false,
          "text": "C0010",
          "x": -0.8538203017945915,
          "y": -0.7326598870967002
         },
         {
          "font": {
           "size": 10
          },
          "showarrow": false,
          "text": "C0011",
          "x": 1.0146919961088612,
          "y": -1.4879718410362952
         },
         {
          "font": {
           "size": 10
          },
          "showarrow": false,
          "text": "C0012",
          "x": 1.8745348608675887,
          "y": -0.4651339197004241
         },
         {
          "font": {
           "size": 10
          },
          "showarrow": false,
          "text": "C0013",
          "x": 1.8376329453435671,
          "y": -0.508211788284254
         },
         {
          "font": {
           "size": 10
          },
          "showarrow": false,
          "text": "C0014",
          "x": -4.161755013064277,
          "y": -0.29436815131564575
         },
         {
          "font": {
           "size": 10
          },
          "showarrow": false,
          "text": "C0015",
          "x": -1.9020244723178974,
          "y": 1.3802591267579565
         },
         {
          "font": {
           "size": 10
          },
          "showarrow": false,
          "text": "C0016",
          "x": 0.11878185603805314,
          "y": 1.8387347343774385
         },
         {
          "font": {
           "size": 10
          },
          "showarrow": false,
          "text": "C0017",
          "x": 1.250660062443354,
          "y": 0.23056297240183413
         },
         {
          "font": {
           "size": 10
          },
          "showarrow": false,
          "text": "C0018",
          "x": -0.2627836440990308,
          "y": 2.2480073978817643
         },
         {
          "font": {
           "size": 10
          },
          "showarrow": false,
          "text": "C0019",
          "x": -0.19560596515815803,
          "y": -0.49962328967494385
         },
         {
          "font": {
           "size": 10
          },
          "showarrow": false,
          "text": "C0020",
          "x": -3.7414306345870547,
          "y": 1.5953941471961222
         },
         {
          "font": {
           "size": 10
          },
          "showarrow": false,
          "text": "C0021",
          "x": 1.3648127683923943,
          "y": 0.4890532485839532
         },
         {
          "font": {
           "size": 10
          },
          "showarrow": false,
          "text": "C0022",
          "x": 0.34161217000282434,
          "y": 0.5257970070629613
         },
         {
          "font": {
           "size": 10
          },
          "showarrow": false,
          "text": "C0023",
          "x": 0.8940014560600245,
          "y": -0.7197007346541132
         },
         {
          "font": {
           "size": 10
          },
          "showarrow": false,
          "text": "C0024",
          "x": 0.30564172791023886,
          "y": 2.0442593891870042
         },
         {
          "font": {
           "size": 10
          },
          "showarrow": false,
          "text": "C0025",
          "x": -0.7259139049330228,
          "y": -1.8728540723158256
         },
         {
          "font": {
           "size": 10
          },
          "showarrow": false,
          "text": "C0026",
          "x": -0.4994138014345199,
          "y": 1.896094724648463
         },
         {
          "font": {
           "size": 10
          },
          "showarrow": false,
          "text": "C0027",
          "x": -0.6452980588619989,
          "y": -0.2189151500352256
         },
         {
          "font": {
           "size": 10
          },
          "showarrow": false,
          "text": "C0028",
          "x": 2.133450110447616,
          "y": 1.1117467836368375
         },
         {
          "font": {
           "size": 10
          },
          "showarrow": false,
          "text": "C0029",
          "x": -0.3738673547386453,
          "y": 0.8248896002724762
         },
         {
          "font": {
           "size": 10
          },
          "showarrow": false,
          "text": "C0030",
          "x": -0.11239374070921547,
          "y": 1.7853355589825484
         },
         {
          "font": {
           "size": 10
          },
          "showarrow": false,
          "text": "C0031",
          "x": -0.17534775502755695,
          "y": -1.0522716153196983
         },
         {
          "font": {
           "size": 10
          },
          "showarrow": false,
          "text": "C0032",
          "x": -0.8704604637932041,
          "y": -1.2093253583852122
         },
         {
          "font": {
           "size": 10
          },
          "showarrow": false,
          "text": "C0033",
          "x": -3.063500607202267,
          "y": 1.5796474392465893
         },
         {
          "font": {
           "size": 10
          },
          "showarrow": false,
          "text": "C0034",
          "x": 0.0590304102218005,
          "y": 1.7545750933363877
         },
         {
          "font": {
           "size": 10
          },
          "showarrow": false,
          "text": "C0035",
          "x": -0.9156272646791628,
          "y": 2.031764261846994
         },
         {
          "font": {
           "size": 10
          },
          "showarrow": false,
          "text": "C0036",
          "x": -1.202826722131204,
          "y": 1.7875276468819965
         },
         {
          "font": {
           "size": 10
          },
          "showarrow": false,
          "text": "C0037",
          "x": -0.04185034984861699,
          "y": -0.4212734081271836
         },
         {
          "font": {
           "size": 10
          },
          "showarrow": false,
          "text": "C0038",
          "x": 0.12098356393064202,
          "y": 0.9665969094795092
         },
         {
          "font": {
           "size": 10
          },
          "showarrow": false,
          "text": "C0039",
          "x": 0.8919129556632496,
          "y": -0.5098381222880111
         },
         {
          "font": {
           "size": 10
          },
          "showarrow": false,
          "text": "C0040",
          "x": -0.9015892798452217,
          "y": -0.5114145599745453
         },
         {
          "font": {
           "size": 10
          },
          "showarrow": false,
          "text": "C0041",
          "x": 1.5047341014445816,
          "y": 0.25507086864250883
         },
         {
          "font": {
           "size": 10
          },
          "showarrow": false,
          "text": "C0042",
          "x": -0.8338367548587129,
          "y": 1.2104902612350406
         },
         {
          "font": {
           "size": 10
          },
          "showarrow": false,
          "text": "C0043",
          "x": -1.5613388228234155,
          "y": -0.27178745719701036
         },
         {
          "font": {
           "size": 10
          },
          "showarrow": false,
          "text": "C0044",
          "x": -0.968145932379628,
          "y": 0.005735066770974087
         },
         {
          "font": {
           "size": 10
          },
          "showarrow": false,
          "text": "C0045",
          "x": 1.1267738273777985,
          "y": -0.07457378644715994
         },
         {
          "font": {
           "size": 10
          },
          "showarrow": false,
          "text": "C0046",
          "x": 0.88602907805578,
          "y": 2.4945657270871933
         },
         {
          "font": {
           "size": 10
          },
          "showarrow": false,
          "text": "C0047",
          "x": -0.14958405742021433,
          "y": 2.064595621572425
         },
         {
          "font": {
           "size": 10
          },
          "showarrow": false,
          "text": "C0048",
          "x": 0.7112675916917854,
          "y": -0.5943772956112477
         },
         {
          "font": {
           "size": 10
          },
          "showarrow": false,
          "text": "C0049",
          "x": -0.064235015496057,
          "y": 2.3414557545425585
         },
         {
          "font": {
           "size": 10
          },
          "showarrow": false,
          "text": "C0050",
          "x": -0.6830144495365744,
          "y": 1.6958826871802637
         },
         {
          "font": {
           "size": 10
          },
          "showarrow": false,
          "text": "C0051",
          "x": 1.3591083568793727,
          "y": 0.2204718695843175
         },
         {
          "font": {
           "size": 10
          },
          "showarrow": false,
          "text": "C0052",
          "x": -0.5082801321544428,
          "y": -1.0683673049755606
         },
         {
          "font": {
           "size": 10
          },
          "showarrow": false,
          "text": "C0053",
          "x": 0.8524105440959852,
          "y": -0.5736647315997915
         },
         {
          "font": {
           "size": 10
          },
          "showarrow": false,
          "text": "C0054",
          "x": 2.0280787465241614,
          "y": 1.319861996132054
         },
         {
          "font": {
           "size": 10
          },
          "showarrow": false,
          "text": "C0055",
          "x": -0.5529670928790968,
          "y": 2.183468384623788
         },
         {
          "font": {
           "size": 10
          },
          "showarrow": false,
          "text": "C0056",
          "x": 0.12967477400392097,
          "y": 0.5431863765434727
         },
         {
          "font": {
           "size": 10
          },
          "showarrow": false,
          "text": "C0057",
          "x": 0.6411588769914388,
          "y": 0.3437869199722308
         },
         {
          "font": {
           "size": 10
          },
          "showarrow": false,
          "text": "C0058",
          "x": -3.8597454943528917,
          "y": 1.3924071982137525
         },
         {
          "font": {
           "size": 10
          },
          "showarrow": false,
          "text": "C0059",
          "x": 1.877306872625397,
          "y": 2.4062943468041817
         },
         {
          "font": {
           "size": 10
          },
          "showarrow": false,
          "text": "C0060",
          "x": -2.605082594096918,
          "y": -1.3651009445153461
         },
         {
          "font": {
           "size": 10
          },
          "showarrow": false,
          "text": "C0061",
          "x": -0.8772349512853477,
          "y": -0.6942465465263273
         },
         {
          "font": {
           "size": 10
          },
          "showarrow": false,
          "text": "C0062",
          "x": -1.9384045194381612,
          "y": -0.7923983458046783
         },
         {
          "font": {
           "size": 10
          },
          "showarrow": false,
          "text": "C0063",
          "x": -1.952082959053932,
          "y": -0.3811277406774083
         },
         {
          "font": {
           "size": 10
          },
          "showarrow": false,
          "text": "C0064",
          "x": 0.21186950800780757,
          "y": -0.12036140362208474
         },
         {
          "font": {
           "size": 10
          },
          "showarrow": false,
          "text": "C0065",
          "x": 2.911058215619751,
          "y": 2.7165118819334673
         },
         {
          "font": {
           "size": 10
          },
          "showarrow": false,
          "text": "C0066",
          "x": -1.1473278370229376,
          "y": 0.21454343243933702
         },
         {
          "font": {
           "size": 10
          },
          "showarrow": false,
          "text": "C0067",
          "x": 0.38200343520541946,
          "y": 1.7118860068579158
         },
         {
          "font": {
           "size": 10
          },
          "showarrow": false,
          "text": "C0068",
          "x": 1.9982777329809605,
          "y": 1.8572017670940544
         },
         {
          "font": {
           "size": 10
          },
          "showarrow": false,
          "text": "C0069",
          "x": -0.1634553703169276,
          "y": -0.13750134790012752
         },
         {
          "font": {
           "size": 10
          },
          "showarrow": false,
          "text": "C0070",
          "x": -0.5484804510825294,
          "y": -0.987188738802064
         },
         {
          "font": {
           "size": 10
          },
          "showarrow": false,
          "text": "C0071",
          "x": -1.0134746628169222,
          "y": -1.9738969146212666
         },
         {
          "font": {
           "size": 10
          },
          "showarrow": false,
          "text": "C0072",
          "x": -0.2731508190851181,
          "y": 2.044988816383341
         },
         {
          "font": {
           "size": 10
          },
          "showarrow": false,
          "text": "C0073",
          "x": -2.440289726870727,
          "y": -0.8879935091699341
         },
         {
          "font": {
           "size": 10
          },
          "showarrow": false,
          "text": "C0074",
          "x": -1.2974952812935636,
          "y": -0.9664760654373975
         },
         {
          "font": {
           "size": 10
          },
          "showarrow": false,
          "text": "C0075",
          "x": 2.0123942206217342,
          "y": 0.10187504831665968
         },
         {
          "font": {
           "size": 10
          },
          "showarrow": false,
          "text": "C0076",
          "x": 0.2798183517126482,
          "y": -1.0266537354710195
         },
         {
          "font": {
           "size": 10
          },
          "showarrow": false,
          "text": "C0077",
          "x": -0.9169644822394525,
          "y": -1.423916170455291
         },
         {
          "font": {
           "size": 10
          },
          "showarrow": false,
          "text": "C0078",
          "x": -1.8799129330832112,
          "y": 0.35298456188030203
         },
         {
          "font": {
           "size": 10
          },
          "showarrow": false,
          "text": "C0079",
          "x": -0.4365093848626123,
          "y": 0.9147556018851025
         },
         {
          "font": {
           "size": 10
          },
          "showarrow": false,
          "text": "C0080",
          "x": -3.4303302260153967,
          "y": 0.06239793887039037
         },
         {
          "font": {
           "size": 10
          },
          "showarrow": false,
          "text": "C0081",
          "x": 0.12203232225786423,
          "y": 0.09845364195961438
         },
         {
          "font": {
           "size": 10
          },
          "showarrow": false,
          "text": "C0082",
          "x": 2.7447357063922446,
          "y": -1.3535764666500072
         },
         {
          "font": {
           "size": 10
          },
          "showarrow": false,
          "text": "C0083",
          "x": -0.5353919272005075,
          "y": -2.1540031110093887
         },
         {
          "font": {
           "size": 10
          },
          "showarrow": false,
          "text": "C0084",
          "x": 1.5559719927479887,
          "y": 1.1563302239656308
         },
         {
          "font": {
           "size": 10
          },
          "showarrow": false,
          "text": "C0085",
          "x": -0.5724419092028845,
          "y": -0.8828199493007314
         },
         {
          "font": {
           "size": 10
          },
          "showarrow": false,
          "text": "C0086",
          "x": 0.03556986507678714,
          "y": -0.7074025209272233
         },
         {
          "font": {
           "size": 10
          },
          "showarrow": false,
          "text": "C0087",
          "x": 1.7454850550898644,
          "y": -0.5084971678455582
         },
         {
          "font": {
           "size": 10
          },
          "showarrow": false,
          "text": "C0088",
          "x": -0.17607988880909836,
          "y": 0.0599247970119179
         },
         {
          "font": {
           "size": 10
          },
          "showarrow": false,
          "text": "C0089",
          "x": -1.1795559562262763,
          "y": -0.25388168379662046
         },
         {
          "font": {
           "size": 10
          },
          "showarrow": false,
          "text": "C0090",
          "x": 0.4260989011787959,
          "y": 0.5671109527913896
         },
         {
          "font": {
           "size": 10
          },
          "showarrow": false,
          "text": "C0091",
          "x": 0.25766337466998046,
          "y": -1.289215583856363
         },
         {
          "font": {
           "size": 10
          },
          "showarrow": false,
          "text": "C0092",
          "x": -0.2808770999250674,
          "y": 0.5112070013086282
         },
         {
          "font": {
           "size": 10
          },
          "showarrow": false,
          "text": "C0093",
          "x": 1.3070867068193186,
          "y": 1.1451321855711043
         },
         {
          "font": {
           "size": 10
          },
          "showarrow": false,
          "text": "C0094",
          "x": -1.0453767086713022,
          "y": 1.4556664599605813
         },
         {
          "font": {
           "size": 10
          },
          "showarrow": false,
          "text": "C0095",
          "x": -1.1797016108595448,
          "y": -1.7619977850309987
         },
         {
          "font": {
           "size": 10
          },
          "showarrow": false,
          "text": "C0096",
          "x": 1.699184264339524,
          "y": -1.3743649488704073
         },
         {
          "font": {
           "size": 10
          },
          "showarrow": false,
          "text": "C0097",
          "x": -3.633108904410257,
          "y": -0.05692631971225491
         },
         {
          "font": {
           "size": 10
          },
          "showarrow": false,
          "text": "C0098",
          "x": 0.8954912099167693,
          "y": 2.407014547179547
         },
         {
          "font": {
           "size": 10
          },
          "showarrow": false,
          "text": "C0099",
          "x": 2.802481891225271,
          "y": -0.9959764486381397
         },
         {
          "font": {
           "size": 10
          },
          "showarrow": false,
          "text": "C0100",
          "x": 0.3216743009320119,
          "y": -0.2359614207279473
         },
         {
          "font": {
           "size": 10
          },
          "showarrow": false,
          "text": "C0101",
          "x": 1.8208117427976953,
          "y": 0.6892257754604886
         },
         {
          "font": {
           "size": 10
          },
          "showarrow": false,
          "text": "C0102",
          "x": 1.9774696814974566,
          "y": -1.1758683605091245
         },
         {
          "font": {
           "size": 10
          },
          "showarrow": false,
          "text": "C0103",
          "x": -0.5399354278319286,
          "y": -0.8644814025685931
         },
         {
          "font": {
           "size": 10
          },
          "showarrow": false,
          "text": "C0104",
          "x": 2.571750462302596,
          "y": -1.4398256689372817
         },
         {
          "font": {
           "size": 10
          },
          "showarrow": false,
          "text": "C0105",
          "x": 0.05704646880431022,
          "y": 0.5202224575107399
         },
         {
          "font": {
           "size": 10
          },
          "showarrow": false,
          "text": "C0106",
          "x": 0.05139577473103796,
          "y": -0.18402394086907609
         },
         {
          "font": {
           "size": 10
          },
          "showarrow": false,
          "text": "C0107",
          "x": 0.5699836439307618,
          "y": -1.4070184249602395
         },
         {
          "font": {
           "size": 10
          },
          "showarrow": false,
          "text": "C0108",
          "x": 1.4593311178079782,
          "y": -1.3286947181682862
         },
         {
          "font": {
           "size": 10
          },
          "showarrow": false,
          "text": "C0109",
          "x": 2.502131421773199,
          "y": 1.674110219108751
         },
         {
          "font": {
           "size": 10
          },
          "showarrow": false,
          "text": "C0110",
          "x": -3.944655494434638,
          "y": 0.36226438899417274
         },
         {
          "font": {
           "size": 10
          },
          "showarrow": false,
          "text": "C0111",
          "x": -0.5495919890878329,
          "y": 0.24567928730341546
         },
         {
          "font": {
           "size": 10
          },
          "showarrow": false,
          "text": "C0112",
          "x": -1.0978301408613222,
          "y": -1.9225527061418966
         },
         {
          "font": {
           "size": 10
          },
          "showarrow": false,
          "text": "C0113",
          "x": 2.0921945503061257,
          "y": -1.390309877627064
         },
         {
          "font": {
           "size": 10
          },
          "showarrow": false,
          "text": "C0114",
          "x": 0.2134194597709067,
          "y": 0.4989699320959901
         },
         {
          "font": {
           "size": 10
          },
          "showarrow": false,
          "text": "C0115",
          "x": -0.537441463382124,
          "y": 0.6434976974926561
         },
         {
          "font": {
           "size": 10
          },
          "showarrow": false,
          "text": "C0116",
          "x": -0.1105484919415184,
          "y": 2.177343441307935
         },
         {
          "font": {
           "size": 10
          },
          "showarrow": false,
          "text": "C0117",
          "x": -0.791718785992559,
          "y": 2.1968201139940273
         },
         {
          "font": {
           "size": 10
          },
          "showarrow": false,
          "text": "C0118",
          "x": 1.2512917126864789,
          "y": -1.8303325469073324
         },
         {
          "font": {
           "size": 10
          },
          "showarrow": false,
          "text": "C0119",
          "x": -0.6013129904272116,
          "y": -0.26819811868347054
         },
         {
          "font": {
           "size": 10
          },
          "showarrow": false,
          "text": "C0120",
          "x": -0.8146387468218728,
          "y": -1.6580583195096954
         },
         {
          "font": {
           "size": 10
          },
          "showarrow": false,
          "text": "C0121",
          "x": -1.4613059751417041,
          "y": -0.48719711709247493
         },
         {
          "font": {
           "size": 10
          },
          "showarrow": false,
          "text": "C0122",
          "x": 1.4850140169169084,
          "y": 1.3008699012180882
         },
         {
          "font": {
           "size": 10
          },
          "showarrow": false,
          "text": "C0123",
          "x": -1.5071458374630655,
          "y": -0.006542905322724821
         },
         {
          "font": {
           "size": 10
          },
          "showarrow": false,
          "text": "C0124",
          "x": 0.3891148158189889,
          "y": 0.4660355418819267
         },
         {
          "font": {
           "size": 10
          },
          "showarrow": false,
          "text": "C0125",
          "x": -0.8093762324268703,
          "y": 1.2365490261165861
         },
         {
          "font": {
           "size": 10
          },
          "showarrow": false,
          "text": "C0126",
          "x": 1.2651551260109763,
          "y": -0.7966200148009348
         },
         {
          "font": {
           "size": 10
          },
          "showarrow": false,
          "text": "C0127",
          "x": -0.2875148573169451,
          "y": 0.1419480358162317
         },
         {
          "font": {
           "size": 10
          },
          "showarrow": false,
          "text": "C0128",
          "x": -2.6946753297929926,
          "y": -0.20697476674314091
         },
         {
          "font": {
           "size": 10
          },
          "showarrow": false,
          "text": "C0129",
          "x": -0.6192287456205824,
          "y": -1.1017702076419598
         },
         {
          "font": {
           "size": 10
          },
          "showarrow": false,
          "text": "C0130",
          "x": -2.5313715342491294,
          "y": -1.7963956288904734
         },
         {
          "font": {
           "size": 10
          },
          "showarrow": false,
          "text": "C0131",
          "x": -0.6607966218565441,
          "y": 0.8154989065632374
         },
         {
          "font": {
           "size": 10
          },
          "showarrow": false,
          "text": "C0132",
          "x": -0.9851385433557046,
          "y": -0.7523208567753202
         },
         {
          "font": {
           "size": 10
          },
          "showarrow": false,
          "text": "C0133",
          "x": 0.302368898181028,
          "y": -1.5049022105965357
         },
         {
          "font": {
           "size": 10
          },
          "showarrow": false,
          "text": "C0134",
          "x": 0.11148354820993775,
          "y": -0.474931754692425
         },
         {
          "font": {
           "size": 10
          },
          "showarrow": false,
          "text": "C0135",
          "x": -0.6133181096896514,
          "y": -0.7819858289489111
         },
         {
          "font": {
           "size": 10
          },
          "showarrow": false,
          "text": "C0136",
          "x": 0.5136524260862201,
          "y": 0.6676795387019291
         },
         {
          "font": {
           "size": 10
          },
          "showarrow": false,
          "text": "C0137",
          "x": 0.7219866952669961,
          "y": -0.8983772152034849
         },
         {
          "font": {
           "size": 10
          },
          "showarrow": false,
          "text": "C0138",
          "x": 0.8135017944375763,
          "y": 0.9477110462152187
         },
         {
          "font": {
           "size": 10
          },
          "showarrow": false,
          "text": "C0139",
          "x": 0.8994377322381146,
          "y": 1.2522222508179515
         },
         {
          "font": {
           "size": 10
          },
          "showarrow": false,
          "text": "C0140",
          "x": -1.4827759746555913,
          "y": -0.13136246937127438
         },
         {
          "font": {
           "size": 10
          },
          "showarrow": false,
          "text": "C0141",
          "x": 3.8525261146634833,
          "y": 0.39182852502116455
         },
         {
          "font": {
           "size": 10
          },
          "showarrow": false,
          "text": "C0142",
          "x": -0.44658623666568514,
          "y": 0.32194241395776474
         },
         {
          "font": {
           "size": 10
          },
          "showarrow": false,
          "text": "C0143",
          "x": 1.5666992900227217,
          "y": 0.9412923223792153
         },
         {
          "font": {
           "size": 10
          },
          "showarrow": false,
          "text": "C0144",
          "x": -2.832736878696444,
          "y": 1.8219992291815856
         },
         {
          "font": {
           "size": 10
          },
          "showarrow": false,
          "text": "C0145",
          "x": 1.7806830888000074,
          "y": 0.3806049299375781
         },
         {
          "font": {
           "size": 10
          },
          "showarrow": false,
          "text": "C0146",
          "x": -0.4451000795421451,
          "y": 0.6081575563299697
         },
         {
          "font": {
           "size": 10
          },
          "showarrow": false,
          "text": "C0147",
          "x": 1.9414556943589298,
          "y": -1.4653060517894678
         },
         {
          "font": {
           "size": 10
          },
          "showarrow": false,
          "text": "C0148",
          "x": 1.0289426266250188,
          "y": -1.2062628805317073
         },
         {
          "font": {
           "size": 10
          },
          "showarrow": false,
          "text": "C0149",
          "x": -0.18080283930089355,
          "y": -0.42244011577626295
         },
         {
          "font": {
           "size": 10
          },
          "showarrow": false,
          "text": "C0150",
          "x": -2.4101573870859245,
          "y": -2.0760711865439623
         },
         {
          "font": {
           "size": 10
          },
          "showarrow": false,
          "text": "C0151",
          "x": -1.490523739428971,
          "y": -1.1325828440146997
         },
         {
          "font": {
           "size": 10
          },
          "showarrow": false,
          "text": "C0152",
          "x": 0.5773367874924584,
          "y": -1.7934011814631583
         },
         {
          "font": {
           "size": 10
          },
          "showarrow": false,
          "text": "C0153",
          "x": 1.0713660179452165,
          "y": -1.6567719703400667
         },
         {
          "font": {
           "size": 10
          },
          "showarrow": false,
          "text": "C0154",
          "x": -0.06269579155015613,
          "y": 2.3018121659151998
         },
         {
          "font": {
           "size": 10
          },
          "showarrow": false,
          "text": "C0155",
          "x": 1.813370842411298,
          "y": -1.083131715933003
         },
         {
          "font": {
           "size": 10
          },
          "showarrow": false,
          "text": "C0156",
          "x": 3.2897258251264923,
          "y": 2.385475226894247
         },
         {
          "font": {
           "size": 10
          },
          "showarrow": false,
          "text": "C0157",
          "x": -0.38133693361635324,
          "y": 1.746801042614959
         },
         {
          "font": {
           "size": 10
          },
          "showarrow": false,
          "text": "C0158",
          "x": 0.05815685296812051,
          "y": -1.3949179387576653
         },
         {
          "font": {
           "size": 10
          },
          "showarrow": false,
          "text": "C0159",
          "x": -0.6832270243360435,
          "y": -0.4668913103680792
         },
         {
          "font": {
           "size": 10
          },
          "showarrow": false,
          "text": "C0160",
          "x": -0.5122892235253117,
          "y": 0.9939261460009925
         },
         {
          "font": {
           "size": 10
          },
          "showarrow": false,
          "text": "C0161",
          "x": 0.3925141798110049,
          "y": -0.13938794429484352
         },
         {
          "font": {
           "size": 10
          },
          "showarrow": false,
          "text": "C0162",
          "x": 1.4990486232581934,
          "y": -0.04268834067797782
         },
         {
          "font": {
           "size": 10
          },
          "showarrow": false,
          "text": "C0163",
          "x": 1.4577182824913768,
          "y": -1.0386119138630525
         },
         {
          "font": {
           "size": 10
          },
          "showarrow": false,
          "text": "C0164",
          "x": -0.26076217923856615,
          "y": -0.3506507612349242
         },
         {
          "font": {
           "size": 10
          },
          "showarrow": false,
          "text": "C0165",
          "x": 3.1906695122867506,
          "y": -1.286921177983644
         },
         {
          "font": {
           "size": 10
          },
          "showarrow": false,
          "text": "C0166",
          "x": -0.6845600235709736,
          "y": -1.0718620125822387
         },
         {
          "font": {
           "size": 10
          },
          "showarrow": false,
          "text": "C0167",
          "x": -1.3481567969528134,
          "y": -0.2540990123431479
         },
         {
          "font": {
           "size": 10
          },
          "showarrow": false,
          "text": "C0168",
          "x": 0.7809746826156255,
          "y": -1.4762326698636927
         },
         {
          "font": {
           "size": 10
          },
          "showarrow": false,
          "text": "C0169",
          "x": 1.3820445438149702,
          "y": -1.1961188620596592
         },
         {
          "font": {
           "size": 10
          },
          "showarrow": false,
          "text": "C0170",
          "x": 0.009308864466993274,
          "y": -0.09671043055804139
         },
         {
          "font": {
           "size": 10
          },
          "showarrow": false,
          "text": "C0171",
          "x": 1.0909173357855975,
          "y": -1.383129297443248
         },
         {
          "font": {
           "size": 10
          },
          "showarrow": false,
          "text": "C0172",
          "x": -0.30030410600922497,
          "y": 0.2657766757012766
         },
         {
          "font": {
           "size": 10
          },
          "showarrow": false,
          "text": "C0173",
          "x": 1.3045349742270367,
          "y": 0.27744537423255394
         },
         {
          "font": {
           "size": 10
          },
          "showarrow": false,
          "text": "C0174",
          "x": 0.6677824335616566,
          "y": -1.584365516502103
         },
         {
          "font": {
           "size": 10
          },
          "showarrow": false,
          "text": "C0175",
          "x": 2.5347044075510436,
          "y": 0.2314991152840519
         },
         {
          "font": {
           "size": 10
          },
          "showarrow": false,
          "text": "C0176",
          "x": -1.5005025587930485,
          "y": 0.7831876618984353
         },
         {
          "font": {
           "size": 10
          },
          "showarrow": false,
          "text": "C0177",
          "x": -0.7010704860275077,
          "y": 0.4944263800640396
         },
         {
          "font": {
           "size": 10
          },
          "showarrow": false,
          "text": "C0178",
          "x": -0.2916437282662542,
          "y": 0.24846480918549607
         },
         {
          "font": {
           "size": 10
          },
          "showarrow": false,
          "text": "C0179",
          "x": 0.13734380810898567,
          "y": -0.5163420643900041
         },
         {
          "font": {
           "size": 10
          },
          "showarrow": false,
          "text": "C0180",
          "x": -2.0655584123899398,
          "y": -0.2897570115869592
         },
         {
          "font": {
           "size": 10
          },
          "showarrow": false,
          "text": "C0181",
          "x": 1.0709801758518922,
          "y": -0.9979937892796709
         },
         {
          "font": {
           "size": 10
          },
          "showarrow": false,
          "text": "C0182",
          "x": -0.8877061688714799,
          "y": 0.5335541295687104
         },
         {
          "font": {
           "size": 10
          },
          "showarrow": false,
          "text": "C0183",
          "x": 0.12274110967937735,
          "y": 1.861914360788152
         },
         {
          "font": {
           "size": 10
          },
          "showarrow": false,
          "text": "C0184",
          "x": 0.8745790536847143,
          "y": -1.5849293328563783
         },
         {
          "font": {
           "size": 10
          },
          "showarrow": false,
          "text": "C0185",
          "x": -1.0610413870460298,
          "y": 1.5644104005907622
         },
         {
          "font": {
           "size": 10
          },
          "showarrow": false,
          "text": "C0186",
          "x": -1.226751633292995,
          "y": 0.07218312633458486
         },
         {
          "font": {
           "size": 10
          },
          "showarrow": false,
          "text": "C0187",
          "x": 0.6650251413715803,
          "y": -0.6589872685792038
         },
         {
          "font": {
           "size": 10
          },
          "showarrow": false,
          "text": "C0188",
          "x": 3.0300625930583065,
          "y": -1.2984289710215997
         },
         {
          "font": {
           "size": 10
          },
          "showarrow": false,
          "text": "C0189",
          "x": -0.04305970739270949,
          "y": 1.7794167757276378
         },
         {
          "font": {
           "size": 10
          },
          "showarrow": false,
          "text": "C0190",
          "x": 0.5430416477309233,
          "y": -0.8516218431818423
         },
         {
          "font": {
           "size": 10
          },
          "showarrow": false,
          "text": "C0191",
          "x": 0.5405850022792349,
          "y": -0.918183033159809
         },
         {
          "font": {
           "size": 10
          },
          "showarrow": false,
          "text": "C0192",
          "x": -0.6809164856768463,
          "y": -1.7479504353852955
         },
         {
          "font": {
           "size": 10
          },
          "showarrow": false,
          "text": "C0193",
          "x": -1.3585574170925063,
          "y": -0.051114758971865334
         },
         {
          "font": {
           "size": 10
          },
          "showarrow": false,
          "text": "C0194",
          "x": 0.5262742785480766,
          "y": 2.1649800856307118
         },
         {
          "font": {
           "size": 10
          },
          "showarrow": false,
          "text": "C0195",
          "x": 1.0023471987586676,
          "y": -0.5614765870974394
         },
         {
          "font": {
           "size": 10
          },
          "showarrow": false,
          "text": "C0196",
          "x": 0.4502781922688647,
          "y": -0.7854720182666349
         },
         {
          "font": {
           "size": 10
          },
          "showarrow": false,
          "text": "C0197",
          "x": -0.8479802194092388,
          "y": -0.6917768989389282
         },
         {
          "font": {
           "size": 10
          },
          "showarrow": false,
          "text": "C0198",
          "x": -1.8420481743249915,
          "y": -1.3059439468563152
         },
         {
          "font": {
           "size": 10
          },
          "showarrow": false,
          "text": "C0199",
          "x": -0.8910705902173641,
          "y": -0.7272734846016885
         },
         {
          "font": {
           "size": 10
          },
          "showarrow": false,
          "text": "C0200",
          "x": 0.6504569574832099,
          "y": 0.2536377812474566
         }
        ],
        "coloraxis": {
         "colorbar": {
          "title": {
           "text": "Cluster"
          }
         },
         "colorscale": [
          [
           0,
           "#0d0887"
          ],
          [
           0.1111111111111111,
           "#46039f"
          ],
          [
           0.2222222222222222,
           "#7201a8"
          ],
          [
           0.3333333333333333,
           "#9c179e"
          ],
          [
           0.4444444444444444,
           "#bd3786"
          ],
          [
           0.5555555555555556,
           "#d8576b"
          ],
          [
           0.6666666666666666,
           "#ed7953"
          ],
          [
           0.7777777777777778,
           "#fb9f3a"
          ],
          [
           0.8888888888888888,
           "#fdca26"
          ],
          [
           1,
           "#f0f921"
          ]
         ]
        },
        "height": 600,
        "legend": {
         "tracegroupgap": 0
        },
        "template": {
         "data": {
          "bar": [
           {
            "error_x": {
             "color": "#2a3f5f"
            },
            "error_y": {
             "color": "#2a3f5f"
            },
            "marker": {
             "line": {
              "color": "#E5ECF6",
              "width": 0.5
             },
             "pattern": {
              "fillmode": "overlay",
              "size": 10,
              "solidity": 0.2
             }
            },
            "type": "bar"
           }
          ],
          "barpolar": [
           {
            "marker": {
             "line": {
              "color": "#E5ECF6",
              "width": 0.5
             },
             "pattern": {
              "fillmode": "overlay",
              "size": 10,
              "solidity": 0.2
             }
            },
            "type": "barpolar"
           }
          ],
          "carpet": [
           {
            "aaxis": {
             "endlinecolor": "#2a3f5f",
             "gridcolor": "white",
             "linecolor": "white",
             "minorgridcolor": "white",
             "startlinecolor": "#2a3f5f"
            },
            "baxis": {
             "endlinecolor": "#2a3f5f",
             "gridcolor": "white",
             "linecolor": "white",
             "minorgridcolor": "white",
             "startlinecolor": "#2a3f5f"
            },
            "type": "carpet"
           }
          ],
          "choropleth": [
           {
            "colorbar": {
             "outlinewidth": 0,
             "ticks": ""
            },
            "type": "choropleth"
           }
          ],
          "contour": [
           {
            "colorbar": {
             "outlinewidth": 0,
             "ticks": ""
            },
            "colorscale": [
             [
              0,
              "#0d0887"
             ],
             [
              0.1111111111111111,
              "#46039f"
             ],
             [
              0.2222222222222222,
              "#7201a8"
             ],
             [
              0.3333333333333333,
              "#9c179e"
             ],
             [
              0.4444444444444444,
              "#bd3786"
             ],
             [
              0.5555555555555556,
              "#d8576b"
             ],
             [
              0.6666666666666666,
              "#ed7953"
             ],
             [
              0.7777777777777778,
              "#fb9f3a"
             ],
             [
              0.8888888888888888,
              "#fdca26"
             ],
             [
              1,
              "#f0f921"
             ]
            ],
            "type": "contour"
           }
          ],
          "contourcarpet": [
           {
            "colorbar": {
             "outlinewidth": 0,
             "ticks": ""
            },
            "type": "contourcarpet"
           }
          ],
          "heatmap": [
           {
            "colorbar": {
             "outlinewidth": 0,
             "ticks": ""
            },
            "colorscale": [
             [
              0,
              "#0d0887"
             ],
             [
              0.1111111111111111,
              "#46039f"
             ],
             [
              0.2222222222222222,
              "#7201a8"
             ],
             [
              0.3333333333333333,
              "#9c179e"
             ],
             [
              0.4444444444444444,
              "#bd3786"
             ],
             [
              0.5555555555555556,
              "#d8576b"
             ],
             [
              0.6666666666666666,
              "#ed7953"
             ],
             [
              0.7777777777777778,
              "#fb9f3a"
             ],
             [
              0.8888888888888888,
              "#fdca26"
             ],
             [
              1,
              "#f0f921"
             ]
            ],
            "type": "heatmap"
           }
          ],
          "heatmapgl": [
           {
            "colorbar": {
             "outlinewidth": 0,
             "ticks": ""
            },
            "colorscale": [
             [
              0,
              "#0d0887"
             ],
             [
              0.1111111111111111,
              "#46039f"
             ],
             [
              0.2222222222222222,
              "#7201a8"
             ],
             [
              0.3333333333333333,
              "#9c179e"
             ],
             [
              0.4444444444444444,
              "#bd3786"
             ],
             [
              0.5555555555555556,
              "#d8576b"
             ],
             [
              0.6666666666666666,
              "#ed7953"
             ],
             [
              0.7777777777777778,
              "#fb9f3a"
             ],
             [
              0.8888888888888888,
              "#fdca26"
             ],
             [
              1,
              "#f0f921"
             ]
            ],
            "type": "heatmapgl"
           }
          ],
          "histogram": [
           {
            "marker": {
             "pattern": {
              "fillmode": "overlay",
              "size": 10,
              "solidity": 0.2
             }
            },
            "type": "histogram"
           }
          ],
          "histogram2d": [
           {
            "colorbar": {
             "outlinewidth": 0,
             "ticks": ""
            },
            "colorscale": [
             [
              0,
              "#0d0887"
             ],
             [
              0.1111111111111111,
              "#46039f"
             ],
             [
              0.2222222222222222,
              "#7201a8"
             ],
             [
              0.3333333333333333,
              "#9c179e"
             ],
             [
              0.4444444444444444,
              "#bd3786"
             ],
             [
              0.5555555555555556,
              "#d8576b"
             ],
             [
              0.6666666666666666,
              "#ed7953"
             ],
             [
              0.7777777777777778,
              "#fb9f3a"
             ],
             [
              0.8888888888888888,
              "#fdca26"
             ],
             [
              1,
              "#f0f921"
             ]
            ],
            "type": "histogram2d"
           }
          ],
          "histogram2dcontour": [
           {
            "colorbar": {
             "outlinewidth": 0,
             "ticks": ""
            },
            "colorscale": [
             [
              0,
              "#0d0887"
             ],
             [
              0.1111111111111111,
              "#46039f"
             ],
             [
              0.2222222222222222,
              "#7201a8"
             ],
             [
              0.3333333333333333,
              "#9c179e"
             ],
             [
              0.4444444444444444,
              "#bd3786"
             ],
             [
              0.5555555555555556,
              "#d8576b"
             ],
             [
              0.6666666666666666,
              "#ed7953"
             ],
             [
              0.7777777777777778,
              "#fb9f3a"
             ],
             [
              0.8888888888888888,
              "#fdca26"
             ],
             [
              1,
              "#f0f921"
             ]
            ],
            "type": "histogram2dcontour"
           }
          ],
          "mesh3d": [
           {
            "colorbar": {
             "outlinewidth": 0,
             "ticks": ""
            },
            "type": "mesh3d"
           }
          ],
          "parcoords": [
           {
            "line": {
             "colorbar": {
              "outlinewidth": 0,
              "ticks": ""
             }
            },
            "type": "parcoords"
           }
          ],
          "pie": [
           {
            "automargin": true,
            "type": "pie"
           }
          ],
          "scatter": [
           {
            "fillpattern": {
             "fillmode": "overlay",
             "size": 10,
             "solidity": 0.2
            },
            "type": "scatter"
           }
          ],
          "scatter3d": [
           {
            "line": {
             "colorbar": {
              "outlinewidth": 0,
              "ticks": ""
             }
            },
            "marker": {
             "colorbar": {
              "outlinewidth": 0,
              "ticks": ""
             }
            },
            "type": "scatter3d"
           }
          ],
          "scattercarpet": [
           {
            "marker": {
             "colorbar": {
              "outlinewidth": 0,
              "ticks": ""
             }
            },
            "type": "scattercarpet"
           }
          ],
          "scattergeo": [
           {
            "marker": {
             "colorbar": {
              "outlinewidth": 0,
              "ticks": ""
             }
            },
            "type": "scattergeo"
           }
          ],
          "scattergl": [
           {
            "marker": {
             "colorbar": {
              "outlinewidth": 0,
              "ticks": ""
             }
            },
            "type": "scattergl"
           }
          ],
          "scattermapbox": [
           {
            "marker": {
             "colorbar": {
              "outlinewidth": 0,
              "ticks": ""
             }
            },
            "type": "scattermapbox"
           }
          ],
          "scatterpolar": [
           {
            "marker": {
             "colorbar": {
              "outlinewidth": 0,
              "ticks": ""
             }
            },
            "type": "scatterpolar"
           }
          ],
          "scatterpolargl": [
           {
            "marker": {
             "colorbar": {
              "outlinewidth": 0,
              "ticks": ""
             }
            },
            "type": "scatterpolargl"
           }
          ],
          "scatterternary": [
           {
            "marker": {
             "colorbar": {
              "outlinewidth": 0,
              "ticks": ""
             }
            },
            "type": "scatterternary"
           }
          ],
          "surface": [
           {
            "colorbar": {
             "outlinewidth": 0,
             "ticks": ""
            },
            "colorscale": [
             [
              0,
              "#0d0887"
             ],
             [
              0.1111111111111111,
              "#46039f"
             ],
             [
              0.2222222222222222,
              "#7201a8"
             ],
             [
              0.3333333333333333,
              "#9c179e"
             ],
             [
              0.4444444444444444,
              "#bd3786"
             ],
             [
              0.5555555555555556,
              "#d8576b"
             ],
             [
              0.6666666666666666,
              "#ed7953"
             ],
             [
              0.7777777777777778,
              "#fb9f3a"
             ],
             [
              0.8888888888888888,
              "#fdca26"
             ],
             [
              1,
              "#f0f921"
             ]
            ],
            "type": "surface"
           }
          ],
          "table": [
           {
            "cells": {
             "fill": {
              "color": "#EBF0F8"
             },
             "line": {
              "color": "white"
             }
            },
            "header": {
             "fill": {
              "color": "#C8D4E3"
             },
             "line": {
              "color": "white"
             }
            },
            "type": "table"
           }
          ]
         },
         "layout": {
          "annotationdefaults": {
           "arrowcolor": "#2a3f5f",
           "arrowhead": 0,
           "arrowwidth": 1
          },
          "autotypenumbers": "strict",
          "coloraxis": {
           "colorbar": {
            "outlinewidth": 0,
            "ticks": ""
           }
          },
          "colorscale": {
           "diverging": [
            [
             0,
             "#8e0152"
            ],
            [
             0.1,
             "#c51b7d"
            ],
            [
             0.2,
             "#de77ae"
            ],
            [
             0.3,
             "#f1b6da"
            ],
            [
             0.4,
             "#fde0ef"
            ],
            [
             0.5,
             "#f7f7f7"
            ],
            [
             0.6,
             "#e6f5d0"
            ],
            [
             0.7,
             "#b8e186"
            ],
            [
             0.8,
             "#7fbc41"
            ],
            [
             0.9,
             "#4d9221"
            ],
            [
             1,
             "#276419"
            ]
           ],
           "sequential": [
            [
             0,
             "#0d0887"
            ],
            [
             0.1111111111111111,
             "#46039f"
            ],
            [
             0.2222222222222222,
             "#7201a8"
            ],
            [
             0.3333333333333333,
             "#9c179e"
            ],
            [
             0.4444444444444444,
             "#bd3786"
            ],
            [
             0.5555555555555556,
             "#d8576b"
            ],
            [
             0.6666666666666666,
             "#ed7953"
            ],
            [
             0.7777777777777778,
             "#fb9f3a"
            ],
            [
             0.8888888888888888,
             "#fdca26"
            ],
            [
             1,
             "#f0f921"
            ]
           ],
           "sequentialminus": [
            [
             0,
             "#0d0887"
            ],
            [
             0.1111111111111111,
             "#46039f"
            ],
            [
             0.2222222222222222,
             "#7201a8"
            ],
            [
             0.3333333333333333,
             "#9c179e"
            ],
            [
             0.4444444444444444,
             "#bd3786"
            ],
            [
             0.5555555555555556,
             "#d8576b"
            ],
            [
             0.6666666666666666,
             "#ed7953"
            ],
            [
             0.7777777777777778,
             "#fb9f3a"
            ],
            [
             0.8888888888888888,
             "#fdca26"
            ],
            [
             1,
             "#f0f921"
            ]
           ]
          },
          "colorway": [
           "#636efa",
           "#EF553B",
           "#00cc96",
           "#ab63fa",
           "#FFA15A",
           "#19d3f3",
           "#FF6692",
           "#B6E880",
           "#FF97FF",
           "#FECB52"
          ],
          "font": {
           "color": "#2a3f5f"
          },
          "geo": {
           "bgcolor": "white",
           "lakecolor": "white",
           "landcolor": "#E5ECF6",
           "showlakes": true,
           "showland": true,
           "subunitcolor": "white"
          },
          "hoverlabel": {
           "align": "left"
          },
          "hovermode": "closest",
          "mapbox": {
           "style": "light"
          },
          "paper_bgcolor": "white",
          "plot_bgcolor": "#E5ECF6",
          "polar": {
           "angularaxis": {
            "gridcolor": "white",
            "linecolor": "white",
            "ticks": ""
           },
           "bgcolor": "#E5ECF6",
           "radialaxis": {
            "gridcolor": "white",
            "linecolor": "white",
            "ticks": ""
           }
          },
          "scene": {
           "xaxis": {
            "backgroundcolor": "#E5ECF6",
            "gridcolor": "white",
            "gridwidth": 2,
            "linecolor": "white",
            "showbackground": true,
            "ticks": "",
            "zerolinecolor": "white"
           },
           "yaxis": {
            "backgroundcolor": "#E5ECF6",
            "gridcolor": "white",
            "gridwidth": 2,
            "linecolor": "white",
            "showbackground": true,
            "ticks": "",
            "zerolinecolor": "white"
           },
           "zaxis": {
            "backgroundcolor": "#E5ECF6",
            "gridcolor": "white",
            "gridwidth": 2,
            "linecolor": "white",
            "showbackground": true,
            "ticks": "",
            "zerolinecolor": "white"
           }
          },
          "shapedefaults": {
           "line": {
            "color": "#2a3f5f"
           }
          },
          "ternary": {
           "aaxis": {
            "gridcolor": "white",
            "linecolor": "white",
            "ticks": ""
           },
           "baxis": {
            "gridcolor": "white",
            "linecolor": "white",
            "ticks": ""
           },
           "bgcolor": "#E5ECF6",
           "caxis": {
            "gridcolor": "white",
            "linecolor": "white",
            "ticks": ""
           }
          },
          "title": {
           "x": 0.05
          },
          "xaxis": {
           "automargin": true,
           "gridcolor": "white",
           "linecolor": "white",
           "ticks": "",
           "title": {
            "standoff": 15
           },
           "zerolinecolor": "white",
           "zerolinewidth": 2
          },
          "yaxis": {
           "automargin": true,
           "gridcolor": "white",
           "linecolor": "white",
           "ticks": "",
           "title": {
            "standoff": 15
           },
           "zerolinecolor": "white",
           "zerolinewidth": 2
          }
         }
        },
        "title": {
         "text": "Customer Segments (K-Means, 6 Clusters)"
        },
        "width": 900,
        "xaxis": {
         "anchor": "y",
         "domain": [
          0,
          1
         ],
         "title": {
          "text": "PCA Component 1"
         }
        },
        "yaxis": {
         "anchor": "x",
         "domain": [
          0,
          1
         ],
         "title": {
          "text": "PCA Component 2"
         }
        }
       }
      }
     },
     "metadata": {},
     "output_type": "display_data"
    }
   ],
   "source": [
    "# Create a scatter plot with customer names annotated\n",
    "fig = px.scatter(customer_data_6, x='PCA1', y='PCA2', color='Cluster', \n",
    "                 hover_data=['CustomerID', 'CustomerName'], title='Customer Segments (K-Means, 6 Clusters)')\n",
    "\n",
    "# Add customer ID as text annotations\n",
    "for i, row in customer_data_6.iterrows():\n",
    "    fig.add_annotation(x=row['PCA1'], y=row['PCA2'], text=row['CustomerID'], showarrow=False, font=dict(size=10))\n",
    "\n",
    "fig.update_traces(marker=dict(size=12, opacity=0.9, line=dict(width=2, color='Black')))\n",
    "fig.update_layout(xaxis_title='PCA Component 1', yaxis_title='PCA Component 2', width=900, height=600)\n",
    "fig.show()"
   ]
  },
  {
   "cell_type": "markdown",
   "metadata": {},
   "source": [
    "## Clustering for Optimal k = 4 (As per Elbow Method)"
   ]
  },
  {
   "cell_type": "code",
   "execution_count": 48,
   "metadata": {},
   "outputs": [
    {
     "data": {
      "application/vnd.plotly.v1+json": {
       "config": {
        "plotlyServerURL": "https://plot.ly"
       },
       "data": [
        {
         "hovertemplate": "x=%{x}<br>y=%{y}<br>color=%{marker.color}<extra></extra>",
         "legendgroup": "",
         "marker": {
          "color": [
           3,
           1,
           1,
           3,
           1,
           3,
           1,
           0,
           1,
           1,
           3,
           3,
           3,
           1,
           2,
           2,
           0,
           2,
           1,
           2,
           0,
           2,
           3,
           2,
           1,
           2,
           1,
           0,
           2,
           2,
           1,
           1,
           2,
           2,
           2,
           2,
           1,
           2,
           3,
           1,
           0,
           2,
           1,
           1,
           3,
           0,
           2,
           3,
           2,
           2,
           0,
           1,
           3,
           0,
           2,
           2,
           0,
           2,
           0,
           1,
           1,
           1,
           1,
           3,
           0,
           1,
           2,
           0,
           1,
           1,
           1,
           2,
           1,
           1,
           0,
           3,
           1,
           1,
           2,
           1,
           2,
           3,
           1,
           0,
           1,
           3,
           3,
           2,
           1,
           2,
           3,
           2,
           0,
           2,
           1,
           3,
           1,
           0,
           3,
           3,
           0,
           3,
           1,
           3,
           2,
           3,
           3,
           3,
           0,
           1,
           2,
           1,
           3,
           2,
           2,
           2,
           2,
           3,
           1,
           1,
           1,
           0,
           1,
           2,
           2,
           3,
           2,
           1,
           1,
           1,
           2,
           1,
           3,
           3,
           1,
           2,
           3,
           0,
           0,
           1,
           0,
           2,
           0,
           2,
           0,
           2,
           3,
           3,
           1,
           1,
           1,
           3,
           3,
           2,
           3,
           0,
           2,
           3,
           1,
           2,
           3,
           3,
           3,
           1,
           3,
           1,
           1,
           3,
           3,
           1,
           3,
           2,
           0,
           3,
           0,
           2,
           2,
           2,
           3,
           1,
           3,
           2,
           2,
           3,
           2,
           1,
           3,
           3,
           2,
           3,
           3,
           1,
           1,
           2,
           3,
           3,
           1,
           1,
           1,
           3
          ],
          "coloraxis": "coloraxis",
          "line": {
           "color": "Black",
           "width": 2
          },
          "opacity": 0.9,
          "size": 12,
          "symbol": "circle"
         },
         "mode": "markers",
         "name": "",
         "orientation": "v",
         "showlegend": false,
         "type": "scatter",
         "x": [
          0.6139971453631647,
          -0.4772873632226593,
          -0.48376539076773317,
          2.39147559906458,
          -0.9338730268410474,
          0.2925228044134082,
          -1.1655590566785208,
          1.8735337724443408,
          -1.6901136297082346,
          -0.8538203017945915,
          1.0146919961088612,
          1.8745348608675887,
          1.8376329453435671,
          -4.161755013064277,
          -1.9020244723178974,
          0.11878185603805314,
          1.250660062443354,
          -0.2627836440990308,
          -0.19560596515815803,
          -3.7414306345870547,
          1.3648127683923943,
          0.34161217000282434,
          0.8940014560600245,
          0.30564172791023886,
          -0.7259139049330228,
          -0.4994138014345199,
          -0.6452980588619989,
          2.133450110447616,
          -0.3738673547386453,
          -0.11239374070921547,
          -0.17534775502755695,
          -0.8704604637932041,
          -3.063500607202267,
          0.0590304102218005,
          -0.9156272646791628,
          -1.202826722131204,
          -0.04185034984861699,
          0.12098356393064202,
          0.8919129556632496,
          -0.9015892798452217,
          1.5047341014445816,
          -0.8338367548587129,
          -1.5613388228234155,
          -0.968145932379628,
          1.1267738273777985,
          0.88602907805578,
          -0.14958405742021433,
          0.7112675916917854,
          -0.064235015496057,
          -0.6830144495365744,
          1.3591083568793727,
          -0.5082801321544428,
          0.8524105440959852,
          2.0280787465241614,
          -0.5529670928790968,
          0.12967477400392097,
          0.6411588769914388,
          -3.8597454943528917,
          1.877306872625397,
          -2.605082594096918,
          -0.8772349512853477,
          -1.9384045194381612,
          -1.952082959053932,
          0.21186950800780757,
          2.911058215619751,
          -1.1473278370229376,
          0.38200343520541946,
          1.9982777329809605,
          -0.1634553703169276,
          -0.5484804510825294,
          -1.0134746628169222,
          -0.2731508190851181,
          -2.440289726870727,
          -1.2974952812935636,
          2.0123942206217342,
          0.2798183517126482,
          -0.9169644822394525,
          -1.8799129330832112,
          -0.4365093848626123,
          -3.4303302260153967,
          0.12203232225786423,
          2.7447357063922446,
          -0.5353919272005075,
          1.5559719927479887,
          -0.5724419092028845,
          0.03556986507678714,
          1.7454850550898644,
          -0.17607988880909836,
          -1.1795559562262763,
          0.4260989011787959,
          0.25766337466998046,
          -0.2808770999250674,
          1.3070867068193186,
          -1.0453767086713022,
          -1.1797016108595448,
          1.699184264339524,
          -3.633108904410257,
          0.8954912099167693,
          2.802481891225271,
          0.3216743009320119,
          1.8208117427976953,
          1.9774696814974566,
          -0.5399354278319286,
          2.571750462302596,
          0.05704646880431022,
          0.05139577473103796,
          0.5699836439307618,
          1.4593311178079782,
          2.502131421773199,
          -3.944655494434638,
          -0.5495919890878329,
          -1.0978301408613222,
          2.0921945503061257,
          0.2134194597709067,
          -0.537441463382124,
          -0.1105484919415184,
          -0.791718785992559,
          1.2512917126864789,
          -0.6013129904272116,
          -0.8146387468218728,
          -1.4613059751417041,
          1.4850140169169084,
          -1.5071458374630655,
          0.3891148158189889,
          -0.8093762324268703,
          1.2651551260109763,
          -0.2875148573169451,
          -2.6946753297929926,
          -0.6192287456205824,
          -2.5313715342491294,
          -0.6607966218565441,
          -0.9851385433557046,
          0.302368898181028,
          0.11148354820993775,
          -0.6133181096896514,
          0.5136524260862201,
          0.7219866952669961,
          0.8135017944375763,
          0.8994377322381146,
          -1.4827759746555913,
          3.8525261146634833,
          -0.44658623666568514,
          1.5666992900227217,
          -2.832736878696444,
          1.7806830888000074,
          -0.4451000795421451,
          1.9414556943589298,
          1.0289426266250188,
          -0.18080283930089355,
          -2.4101573870859245,
          -1.490523739428971,
          0.5773367874924584,
          1.0713660179452165,
          -0.06269579155015613,
          1.813370842411298,
          3.2897258251264923,
          -0.38133693361635324,
          0.05815685296812051,
          -0.6832270243360435,
          -0.5122892235253117,
          0.3925141798110049,
          1.4990486232581934,
          1.4577182824913768,
          -0.26076217923856615,
          3.1906695122867506,
          -0.6845600235709736,
          -1.3481567969528134,
          0.7809746826156255,
          1.3820445438149702,
          0.009308864466993274,
          1.0909173357855975,
          -0.30030410600922497,
          1.3045349742270367,
          0.6677824335616566,
          2.5347044075510436,
          -1.5005025587930485,
          -0.7010704860275077,
          -0.2916437282662542,
          0.13734380810898567,
          -2.0655584123899398,
          1.0709801758518922,
          -0.8877061688714799,
          0.12274110967937735,
          0.8745790536847143,
          -1.0610413870460298,
          -1.226751633292995,
          0.6650251413715803,
          3.0300625930583065,
          -0.04305970739270949,
          0.5430416477309233,
          0.5405850022792349,
          -0.6809164856768463,
          -1.3585574170925063,
          0.5262742785480766,
          1.0023471987586676,
          0.4502781922688647,
          -0.8479802194092388,
          -1.8420481743249915,
          -0.8910705902173641,
          0.6504569574832099
         ],
         "xaxis": "x",
         "y": [
          -1.6942239562676111,
          -0.6136867315148722,
          -1.0320064832261755,
          -1.2194327406931713,
          -0.4487060001968559,
          -1.028143685024967,
          -0.47291706575796166,
          2.2856854717202286,
          -0.5510876067516515,
          -0.7326598870967002,
          -1.4879718410362952,
          -0.4651339197004241,
          -0.508211788284254,
          -0.29436815131564575,
          1.3802591267579565,
          1.8387347343774385,
          0.23056297240183413,
          2.2480073978817643,
          -0.49962328967494385,
          1.5953941471961222,
          0.4890532485839532,
          0.5257970070629613,
          -0.7197007346541132,
          2.0442593891870042,
          -1.8728540723158256,
          1.896094724648463,
          -0.2189151500352256,
          1.1117467836368375,
          0.8248896002724762,
          1.7853355589825484,
          -1.0522716153196983,
          -1.2093253583852122,
          1.5796474392465893,
          1.7545750933363877,
          2.031764261846994,
          1.7875276468819965,
          -0.4212734081271836,
          0.9665969094795092,
          -0.5098381222880111,
          -0.5114145599745453,
          0.25507086864250883,
          1.2104902612350406,
          -0.27178745719701036,
          0.005735066770974087,
          -0.07457378644715994,
          2.4945657270871933,
          2.064595621572425,
          -0.5943772956112477,
          2.3414557545425585,
          1.6958826871802637,
          0.2204718695843175,
          -1.0683673049755606,
          -0.5736647315997915,
          1.319861996132054,
          2.183468384623788,
          0.5431863765434727,
          0.3437869199722308,
          1.3924071982137525,
          2.4062943468041817,
          -1.3651009445153461,
          -0.6942465465263273,
          -0.7923983458046783,
          -0.3811277406774083,
          -0.12036140362208474,
          2.7165118819334673,
          0.21454343243933702,
          1.7118860068579158,
          1.8572017670940544,
          -0.13750134790012752,
          -0.987188738802064,
          -1.9738969146212666,
          2.044988816383341,
          -0.8879935091699341,
          -0.9664760654373975,
          0.10187504831665968,
          -1.0266537354710195,
          -1.423916170455291,
          0.35298456188030203,
          0.9147556018851025,
          0.06239793887039037,
          0.09845364195961438,
          -1.3535764666500072,
          -2.1540031110093887,
          1.1563302239656308,
          -0.8828199493007314,
          -0.7074025209272233,
          -0.5084971678455582,
          0.0599247970119179,
          -0.25388168379662046,
          0.5671109527913896,
          -1.289215583856363,
          0.5112070013086282,
          1.1451321855711043,
          1.4556664599605813,
          -1.7619977850309987,
          -1.3743649488704073,
          -0.05692631971225491,
          2.407014547179547,
          -0.9959764486381397,
          -0.2359614207279473,
          0.6892257754604886,
          -1.1758683605091245,
          -0.8644814025685931,
          -1.4398256689372817,
          0.5202224575107399,
          -0.18402394086907609,
          -1.4070184249602395,
          -1.3286947181682862,
          1.674110219108751,
          0.36226438899417274,
          0.24567928730341546,
          -1.9225527061418966,
          -1.390309877627064,
          0.4989699320959901,
          0.6434976974926561,
          2.177343441307935,
          2.1968201139940273,
          -1.8303325469073324,
          -0.26819811868347054,
          -1.6580583195096954,
          -0.48719711709247493,
          1.3008699012180882,
          -0.006542905322724821,
          0.4660355418819267,
          1.2365490261165861,
          -0.7966200148009348,
          0.1419480358162317,
          -0.20697476674314091,
          -1.1017702076419598,
          -1.7963956288904734,
          0.8154989065632374,
          -0.7523208567753202,
          -1.5049022105965357,
          -0.474931754692425,
          -0.7819858289489111,
          0.6676795387019291,
          -0.8983772152034849,
          0.9477110462152187,
          1.2522222508179515,
          -0.13136246937127438,
          0.39182852502116455,
          0.32194241395776474,
          0.9412923223792153,
          1.8219992291815856,
          0.3806049299375781,
          0.6081575563299697,
          -1.4653060517894678,
          -1.2062628805317073,
          -0.42244011577626295,
          -2.0760711865439623,
          -1.1325828440146997,
          -1.7934011814631583,
          -1.6567719703400667,
          2.3018121659151998,
          -1.083131715933003,
          2.385475226894247,
          1.746801042614959,
          -1.3949179387576653,
          -0.4668913103680792,
          0.9939261460009925,
          -0.13938794429484352,
          -0.04268834067797782,
          -1.0386119138630525,
          -0.3506507612349242,
          -1.286921177983644,
          -1.0718620125822387,
          -0.2540990123431479,
          -1.4762326698636927,
          -1.1961188620596592,
          -0.09671043055804139,
          -1.383129297443248,
          0.2657766757012766,
          0.27744537423255394,
          -1.584365516502103,
          0.2314991152840519,
          0.7831876618984353,
          0.4944263800640396,
          0.24846480918549607,
          -0.5163420643900041,
          -0.2897570115869592,
          -0.9979937892796709,
          0.5335541295687104,
          1.861914360788152,
          -1.5849293328563783,
          1.5644104005907622,
          0.07218312633458486,
          -0.6589872685792038,
          -1.2984289710215997,
          1.7794167757276378,
          -0.8516218431818423,
          -0.918183033159809,
          -1.7479504353852955,
          -0.051114758971865334,
          2.1649800856307118,
          -0.5614765870974394,
          -0.7854720182666349,
          -0.6917768989389282,
          -1.3059439468563152,
          -0.7272734846016885,
          0.2536377812474566
         ],
         "yaxis": "y"
        },
        {
         "marker": {
          "color": "white",
          "line": {
           "color": "black",
           "width": 2
          },
          "size": 24,
          "symbol": "circle"
         },
         "mode": "markers+text",
         "showlegend": false,
         "text": [
          "<b>0</b>"
         ],
         "textposition": "middle center",
         "type": "scatter",
         "x": [
          1.7573675271670086
         ],
         "y": [
          1.1486463164887077
         ]
        },
        {
         "marker": {
          "color": "white",
          "line": {
           "color": "black",
           "width": 2
          },
          "size": 24,
          "symbol": "circle"
         },
         "mode": "markers+text",
         "showlegend": false,
         "text": [
          "<b>1</b>"
         ],
         "textposition": "middle center",
         "type": "scatter",
         "x": [
          -1.2464418675811788
         ],
         "y": [
          -0.72354913232996
         ]
        },
        {
         "marker": {
          "color": "white",
          "line": {
           "color": "black",
           "width": 2
          },
          "size": 24,
          "symbol": "circle"
         },
         "mode": "markers+text",
         "showlegend": false,
         "text": [
          "<b>2</b>"
         ],
         "textposition": "middle center",
         "type": "scatter",
         "x": [
          -0.542076345751728
         ],
         "y": [
          1.2391886620212436
         ]
        },
        {
         "marker": {
          "color": "white",
          "line": {
           "color": "black",
           "width": 2
          },
          "size": 24,
          "symbol": "circle"
         },
         "mode": "markers+text",
         "showlegend": false,
         "text": [
          "<b>3</b>"
         ],
         "textposition": "middle center",
         "type": "scatter",
         "x": [
          1.1071111534627294
         ],
         "y": [
          -0.9742769385377451
         ]
        }
       ],
       "layout": {
        "coloraxis": {
         "colorbar": {
          "title": {
           "text": "color"
          }
         },
         "colorscale": [
          [
           0,
           "#440154"
          ],
          [
           0.1111111111111111,
           "#482878"
          ],
          [
           0.2222222222222222,
           "#3e4989"
          ],
          [
           0.3333333333333333,
           "#31688e"
          ],
          [
           0.4444444444444444,
           "#26828e"
          ],
          [
           0.5555555555555556,
           "#1f9e89"
          ],
          [
           0.6666666666666666,
           "#35b779"
          ],
          [
           0.7777777777777778,
           "#6ece58"
          ],
          [
           0.8888888888888888,
           "#b5de2b"
          ],
          [
           1,
           "#fde725"
          ]
         ]
        },
        "height": 600,
        "legend": {
         "tracegroupgap": 0
        },
        "template": {
         "data": {
          "bar": [
           {
            "error_x": {
             "color": "#2a3f5f"
            },
            "error_y": {
             "color": "#2a3f5f"
            },
            "marker": {
             "line": {
              "color": "#E5ECF6",
              "width": 0.5
             },
             "pattern": {
              "fillmode": "overlay",
              "size": 10,
              "solidity": 0.2
             }
            },
            "type": "bar"
           }
          ],
          "barpolar": [
           {
            "marker": {
             "line": {
              "color": "#E5ECF6",
              "width": 0.5
             },
             "pattern": {
              "fillmode": "overlay",
              "size": 10,
              "solidity": 0.2
             }
            },
            "type": "barpolar"
           }
          ],
          "carpet": [
           {
            "aaxis": {
             "endlinecolor": "#2a3f5f",
             "gridcolor": "white",
             "linecolor": "white",
             "minorgridcolor": "white",
             "startlinecolor": "#2a3f5f"
            },
            "baxis": {
             "endlinecolor": "#2a3f5f",
             "gridcolor": "white",
             "linecolor": "white",
             "minorgridcolor": "white",
             "startlinecolor": "#2a3f5f"
            },
            "type": "carpet"
           }
          ],
          "choropleth": [
           {
            "colorbar": {
             "outlinewidth": 0,
             "ticks": ""
            },
            "type": "choropleth"
           }
          ],
          "contour": [
           {
            "colorbar": {
             "outlinewidth": 0,
             "ticks": ""
            },
            "colorscale": [
             [
              0,
              "#0d0887"
             ],
             [
              0.1111111111111111,
              "#46039f"
             ],
             [
              0.2222222222222222,
              "#7201a8"
             ],
             [
              0.3333333333333333,
              "#9c179e"
             ],
             [
              0.4444444444444444,
              "#bd3786"
             ],
             [
              0.5555555555555556,
              "#d8576b"
             ],
             [
              0.6666666666666666,
              "#ed7953"
             ],
             [
              0.7777777777777778,
              "#fb9f3a"
             ],
             [
              0.8888888888888888,
              "#fdca26"
             ],
             [
              1,
              "#f0f921"
             ]
            ],
            "type": "contour"
           }
          ],
          "contourcarpet": [
           {
            "colorbar": {
             "outlinewidth": 0,
             "ticks": ""
            },
            "type": "contourcarpet"
           }
          ],
          "heatmap": [
           {
            "colorbar": {
             "outlinewidth": 0,
             "ticks": ""
            },
            "colorscale": [
             [
              0,
              "#0d0887"
             ],
             [
              0.1111111111111111,
              "#46039f"
             ],
             [
              0.2222222222222222,
              "#7201a8"
             ],
             [
              0.3333333333333333,
              "#9c179e"
             ],
             [
              0.4444444444444444,
              "#bd3786"
             ],
             [
              0.5555555555555556,
              "#d8576b"
             ],
             [
              0.6666666666666666,
              "#ed7953"
             ],
             [
              0.7777777777777778,
              "#fb9f3a"
             ],
             [
              0.8888888888888888,
              "#fdca26"
             ],
             [
              1,
              "#f0f921"
             ]
            ],
            "type": "heatmap"
           }
          ],
          "heatmapgl": [
           {
            "colorbar": {
             "outlinewidth": 0,
             "ticks": ""
            },
            "colorscale": [
             [
              0,
              "#0d0887"
             ],
             [
              0.1111111111111111,
              "#46039f"
             ],
             [
              0.2222222222222222,
              "#7201a8"
             ],
             [
              0.3333333333333333,
              "#9c179e"
             ],
             [
              0.4444444444444444,
              "#bd3786"
             ],
             [
              0.5555555555555556,
              "#d8576b"
             ],
             [
              0.6666666666666666,
              "#ed7953"
             ],
             [
              0.7777777777777778,
              "#fb9f3a"
             ],
             [
              0.8888888888888888,
              "#fdca26"
             ],
             [
              1,
              "#f0f921"
             ]
            ],
            "type": "heatmapgl"
           }
          ],
          "histogram": [
           {
            "marker": {
             "pattern": {
              "fillmode": "overlay",
              "size": 10,
              "solidity": 0.2
             }
            },
            "type": "histogram"
           }
          ],
          "histogram2d": [
           {
            "colorbar": {
             "outlinewidth": 0,
             "ticks": ""
            },
            "colorscale": [
             [
              0,
              "#0d0887"
             ],
             [
              0.1111111111111111,
              "#46039f"
             ],
             [
              0.2222222222222222,
              "#7201a8"
             ],
             [
              0.3333333333333333,
              "#9c179e"
             ],
             [
              0.4444444444444444,
              "#bd3786"
             ],
             [
              0.5555555555555556,
              "#d8576b"
             ],
             [
              0.6666666666666666,
              "#ed7953"
             ],
             [
              0.7777777777777778,
              "#fb9f3a"
             ],
             [
              0.8888888888888888,
              "#fdca26"
             ],
             [
              1,
              "#f0f921"
             ]
            ],
            "type": "histogram2d"
           }
          ],
          "histogram2dcontour": [
           {
            "colorbar": {
             "outlinewidth": 0,
             "ticks": ""
            },
            "colorscale": [
             [
              0,
              "#0d0887"
             ],
             [
              0.1111111111111111,
              "#46039f"
             ],
             [
              0.2222222222222222,
              "#7201a8"
             ],
             [
              0.3333333333333333,
              "#9c179e"
             ],
             [
              0.4444444444444444,
              "#bd3786"
             ],
             [
              0.5555555555555556,
              "#d8576b"
             ],
             [
              0.6666666666666666,
              "#ed7953"
             ],
             [
              0.7777777777777778,
              "#fb9f3a"
             ],
             [
              0.8888888888888888,
              "#fdca26"
             ],
             [
              1,
              "#f0f921"
             ]
            ],
            "type": "histogram2dcontour"
           }
          ],
          "mesh3d": [
           {
            "colorbar": {
             "outlinewidth": 0,
             "ticks": ""
            },
            "type": "mesh3d"
           }
          ],
          "parcoords": [
           {
            "line": {
             "colorbar": {
              "outlinewidth": 0,
              "ticks": ""
             }
            },
            "type": "parcoords"
           }
          ],
          "pie": [
           {
            "automargin": true,
            "type": "pie"
           }
          ],
          "scatter": [
           {
            "fillpattern": {
             "fillmode": "overlay",
             "size": 10,
             "solidity": 0.2
            },
            "type": "scatter"
           }
          ],
          "scatter3d": [
           {
            "line": {
             "colorbar": {
              "outlinewidth": 0,
              "ticks": ""
             }
            },
            "marker": {
             "colorbar": {
              "outlinewidth": 0,
              "ticks": ""
             }
            },
            "type": "scatter3d"
           }
          ],
          "scattercarpet": [
           {
            "marker": {
             "colorbar": {
              "outlinewidth": 0,
              "ticks": ""
             }
            },
            "type": "scattercarpet"
           }
          ],
          "scattergeo": [
           {
            "marker": {
             "colorbar": {
              "outlinewidth": 0,
              "ticks": ""
             }
            },
            "type": "scattergeo"
           }
          ],
          "scattergl": [
           {
            "marker": {
             "colorbar": {
              "outlinewidth": 0,
              "ticks": ""
             }
            },
            "type": "scattergl"
           }
          ],
          "scattermapbox": [
           {
            "marker": {
             "colorbar": {
              "outlinewidth": 0,
              "ticks": ""
             }
            },
            "type": "scattermapbox"
           }
          ],
          "scatterpolar": [
           {
            "marker": {
             "colorbar": {
              "outlinewidth": 0,
              "ticks": ""
             }
            },
            "type": "scatterpolar"
           }
          ],
          "scatterpolargl": [
           {
            "marker": {
             "colorbar": {
              "outlinewidth": 0,
              "ticks": ""
             }
            },
            "type": "scatterpolargl"
           }
          ],
          "scatterternary": [
           {
            "marker": {
             "colorbar": {
              "outlinewidth": 0,
              "ticks": ""
             }
            },
            "type": "scatterternary"
           }
          ],
          "surface": [
           {
            "colorbar": {
             "outlinewidth": 0,
             "ticks": ""
            },
            "colorscale": [
             [
              0,
              "#0d0887"
             ],
             [
              0.1111111111111111,
              "#46039f"
             ],
             [
              0.2222222222222222,
              "#7201a8"
             ],
             [
              0.3333333333333333,
              "#9c179e"
             ],
             [
              0.4444444444444444,
              "#bd3786"
             ],
             [
              0.5555555555555556,
              "#d8576b"
             ],
             [
              0.6666666666666666,
              "#ed7953"
             ],
             [
              0.7777777777777778,
              "#fb9f3a"
             ],
             [
              0.8888888888888888,
              "#fdca26"
             ],
             [
              1,
              "#f0f921"
             ]
            ],
            "type": "surface"
           }
          ],
          "table": [
           {
            "cells": {
             "fill": {
              "color": "#EBF0F8"
             },
             "line": {
              "color": "white"
             }
            },
            "header": {
             "fill": {
              "color": "#C8D4E3"
             },
             "line": {
              "color": "white"
             }
            },
            "type": "table"
           }
          ]
         },
         "layout": {
          "annotationdefaults": {
           "arrowcolor": "#2a3f5f",
           "arrowhead": 0,
           "arrowwidth": 1
          },
          "autotypenumbers": "strict",
          "coloraxis": {
           "colorbar": {
            "outlinewidth": 0,
            "ticks": ""
           }
          },
          "colorscale": {
           "diverging": [
            [
             0,
             "#8e0152"
            ],
            [
             0.1,
             "#c51b7d"
            ],
            [
             0.2,
             "#de77ae"
            ],
            [
             0.3,
             "#f1b6da"
            ],
            [
             0.4,
             "#fde0ef"
            ],
            [
             0.5,
             "#f7f7f7"
            ],
            [
             0.6,
             "#e6f5d0"
            ],
            [
             0.7,
             "#b8e186"
            ],
            [
             0.8,
             "#7fbc41"
            ],
            [
             0.9,
             "#4d9221"
            ],
            [
             1,
             "#276419"
            ]
           ],
           "sequential": [
            [
             0,
             "#0d0887"
            ],
            [
             0.1111111111111111,
             "#46039f"
            ],
            [
             0.2222222222222222,
             "#7201a8"
            ],
            [
             0.3333333333333333,
             "#9c179e"
            ],
            [
             0.4444444444444444,
             "#bd3786"
            ],
            [
             0.5555555555555556,
             "#d8576b"
            ],
            [
             0.6666666666666666,
             "#ed7953"
            ],
            [
             0.7777777777777778,
             "#fb9f3a"
            ],
            [
             0.8888888888888888,
             "#fdca26"
            ],
            [
             1,
             "#f0f921"
            ]
           ],
           "sequentialminus": [
            [
             0,
             "#0d0887"
            ],
            [
             0.1111111111111111,
             "#46039f"
            ],
            [
             0.2222222222222222,
             "#7201a8"
            ],
            [
             0.3333333333333333,
             "#9c179e"
            ],
            [
             0.4444444444444444,
             "#bd3786"
            ],
            [
             0.5555555555555556,
             "#d8576b"
            ],
            [
             0.6666666666666666,
             "#ed7953"
            ],
            [
             0.7777777777777778,
             "#fb9f3a"
            ],
            [
             0.8888888888888888,
             "#fdca26"
            ],
            [
             1,
             "#f0f921"
            ]
           ]
          },
          "colorway": [
           "#636efa",
           "#EF553B",
           "#00cc96",
           "#ab63fa",
           "#FFA15A",
           "#19d3f3",
           "#FF6692",
           "#B6E880",
           "#FF97FF",
           "#FECB52"
          ],
          "font": {
           "color": "#2a3f5f"
          },
          "geo": {
           "bgcolor": "white",
           "lakecolor": "white",
           "landcolor": "#E5ECF6",
           "showlakes": true,
           "showland": true,
           "subunitcolor": "white"
          },
          "hoverlabel": {
           "align": "left"
          },
          "hovermode": "closest",
          "mapbox": {
           "style": "light"
          },
          "paper_bgcolor": "white",
          "plot_bgcolor": "#E5ECF6",
          "polar": {
           "angularaxis": {
            "gridcolor": "white",
            "linecolor": "white",
            "ticks": ""
           },
           "bgcolor": "#E5ECF6",
           "radialaxis": {
            "gridcolor": "white",
            "linecolor": "white",
            "ticks": ""
           }
          },
          "scene": {
           "xaxis": {
            "backgroundcolor": "#E5ECF6",
            "gridcolor": "white",
            "gridwidth": 2,
            "linecolor": "white",
            "showbackground": true,
            "ticks": "",
            "zerolinecolor": "white"
           },
           "yaxis": {
            "backgroundcolor": "#E5ECF6",
            "gridcolor": "white",
            "gridwidth": 2,
            "linecolor": "white",
            "showbackground": true,
            "ticks": "",
            "zerolinecolor": "white"
           },
           "zaxis": {
            "backgroundcolor": "#E5ECF6",
            "gridcolor": "white",
            "gridwidth": 2,
            "linecolor": "white",
            "showbackground": true,
            "ticks": "",
            "zerolinecolor": "white"
           }
          },
          "shapedefaults": {
           "line": {
            "color": "#2a3f5f"
           }
          },
          "ternary": {
           "aaxis": {
            "gridcolor": "white",
            "linecolor": "white",
            "ticks": ""
           },
           "baxis": {
            "gridcolor": "white",
            "linecolor": "white",
            "ticks": ""
           },
           "bgcolor": "#E5ECF6",
           "caxis": {
            "gridcolor": "white",
            "linecolor": "white",
            "ticks": ""
           }
          },
          "title": {
           "x": 0.05
          },
          "xaxis": {
           "automargin": true,
           "gridcolor": "white",
           "linecolor": "white",
           "ticks": "",
           "title": {
            "standoff": 15
           },
           "zerolinecolor": "white",
           "zerolinewidth": 2
          },
          "yaxis": {
           "automargin": true,
           "gridcolor": "white",
           "linecolor": "white",
           "ticks": "",
           "title": {
            "standoff": 15
           },
           "zerolinecolor": "white",
           "zerolinewidth": 2
          }
         }
        },
        "title": {
         "text": "K-Means, 4 Clusters"
        },
        "width": 900,
        "xaxis": {
         "anchor": "y",
         "domain": [
          0,
          1
         ],
         "title": {
          "text": "PCA Component 1"
         }
        },
        "yaxis": {
         "anchor": "x",
         "domain": [
          0,
          1
         ],
         "title": {
          "text": "PCA Component 2"
         }
        }
       }
      }
     },
     "metadata": {},
     "output_type": "display_data"
    }
   ],
   "source": [
    "kmeans_4 = KMeans(n_clusters=4, init='k-means++', random_state=42)\n",
    "kmeans_4.fit_predict(reduced_features)\n",
    "\n",
    "fig = px.scatter(x=reduced_features[:, 0], y=reduced_features[:, 1], color=kmeans_4.labels_, \n",
    "                 color_continuous_scale=px.colors.sequential.Viridis, \n",
    "                 title='K-Means, 4 Clusters')\n",
    "fig.update_traces(marker=dict(size=12, opacity=0.9, line=dict(width=2, color='Black')))\n",
    "\n",
    "centers_4 = kmeans_4.cluster_centers_\n",
    "\n",
    "for i, c in enumerate(centers_4):\n",
    "    fig.add_scatter(x=[c[0]], y=[c[1]], mode='markers+text', text=[f\"<b>{i}</b>\"], textposition='middle center', \n",
    "                    marker=dict(symbol='circle', size=24, color='white', line=dict(color='black', width=2)), showlegend=False)\n",
    "\n",
    "fig.update_layout(xaxis_title='PCA Component 1', yaxis_title='PCA Component 2', width=900, height=600)\n",
    "fig.show()"
   ]
  },
  {
   "cell_type": "markdown",
   "metadata": {},
   "source": [
    "### Mapping the 4 Clusters back to Customers"
   ]
  },
  {
   "cell_type": "code",
   "execution_count": 42,
   "metadata": {},
   "outputs": [
    {
     "data": {
      "text/html": [
       "<div>\n",
       "<style scoped>\n",
       "    .dataframe tbody tr th:only-of-type {\n",
       "        vertical-align: middle;\n",
       "    }\n",
       "\n",
       "    .dataframe tbody tr th {\n",
       "        vertical-align: top;\n",
       "    }\n",
       "\n",
       "    .dataframe thead th {\n",
       "        text-align: right;\n",
       "    }\n",
       "</style>\n",
       "<table border=\"1\" class=\"dataframe\">\n",
       "  <thead>\n",
       "    <tr style=\"text-align: right;\">\n",
       "      <th></th>\n",
       "      <th>CustomerID</th>\n",
       "      <th>CustomerName</th>\n",
       "      <th>Tenure</th>\n",
       "      <th>Recency</th>\n",
       "      <th>Frequency</th>\n",
       "      <th>Monetary</th>\n",
       "      <th>Region_Asia</th>\n",
       "      <th>Region_Europe</th>\n",
       "      <th>Region_North America</th>\n",
       "      <th>Region_South America</th>\n",
       "      <th>Cluster</th>\n",
       "      <th>PCA1</th>\n",
       "      <th>PCA2</th>\n",
       "    </tr>\n",
       "  </thead>\n",
       "  <tbody>\n",
       "    <tr>\n",
       "      <th>0</th>\n",
       "      <td>C0001</td>\n",
       "      <td>Lawrence Carroll</td>\n",
       "      <td>933</td>\n",
       "      <td>87.0</td>\n",
       "      <td>5.0</td>\n",
       "      <td>3354.52</td>\n",
       "      <td>False</td>\n",
       "      <td>False</td>\n",
       "      <td>False</td>\n",
       "      <td>True</td>\n",
       "      <td>3</td>\n",
       "      <td>0.613997</td>\n",
       "      <td>-1.694224</td>\n",
       "    </tr>\n",
       "    <tr>\n",
       "      <th>1</th>\n",
       "      <td>C0002</td>\n",
       "      <td>Elizabeth Lutz</td>\n",
       "      <td>1080</td>\n",
       "      <td>56.0</td>\n",
       "      <td>4.0</td>\n",
       "      <td>1862.74</td>\n",
       "      <td>True</td>\n",
       "      <td>False</td>\n",
       "      <td>False</td>\n",
       "      <td>False</td>\n",
       "      <td>1</td>\n",
       "      <td>-0.477287</td>\n",
       "      <td>-0.613687</td>\n",
       "    </tr>\n",
       "    <tr>\n",
       "      <th>2</th>\n",
       "      <td>C0003</td>\n",
       "      <td>Michael Rivera</td>\n",
       "      <td>327</td>\n",
       "      <td>157.0</td>\n",
       "      <td>4.0</td>\n",
       "      <td>2725.38</td>\n",
       "      <td>False</td>\n",
       "      <td>False</td>\n",
       "      <td>False</td>\n",
       "      <td>True</td>\n",
       "      <td>1</td>\n",
       "      <td>-0.483765</td>\n",
       "      <td>-1.032006</td>\n",
       "    </tr>\n",
       "    <tr>\n",
       "      <th>3</th>\n",
       "      <td>C0004</td>\n",
       "      <td>Kathleen Rodriguez</td>\n",
       "      <td>842</td>\n",
       "      <td>36.0</td>\n",
       "      <td>8.0</td>\n",
       "      <td>5354.88</td>\n",
       "      <td>False</td>\n",
       "      <td>False</td>\n",
       "      <td>False</td>\n",
       "      <td>True</td>\n",
       "      <td>3</td>\n",
       "      <td>2.391476</td>\n",
       "      <td>-1.219433</td>\n",
       "    </tr>\n",
       "    <tr>\n",
       "      <th>4</th>\n",
       "      <td>C0005</td>\n",
       "      <td>Laura Weber</td>\n",
       "      <td>897</td>\n",
       "      <td>85.0</td>\n",
       "      <td>3.0</td>\n",
       "      <td>2034.24</td>\n",
       "      <td>True</td>\n",
       "      <td>False</td>\n",
       "      <td>False</td>\n",
       "      <td>False</td>\n",
       "      <td>1</td>\n",
       "      <td>-0.933873</td>\n",
       "      <td>-0.448706</td>\n",
       "    </tr>\n",
       "  </tbody>\n",
       "</table>\n",
       "</div>"
      ],
      "text/plain": [
       "  CustomerID        CustomerName  Tenure  Recency  Frequency  Monetary  \\\n",
       "0      C0001    Lawrence Carroll     933     87.0        5.0   3354.52   \n",
       "1      C0002      Elizabeth Lutz    1080     56.0        4.0   1862.74   \n",
       "2      C0003      Michael Rivera     327    157.0        4.0   2725.38   \n",
       "3      C0004  Kathleen Rodriguez     842     36.0        8.0   5354.88   \n",
       "4      C0005         Laura Weber     897     85.0        3.0   2034.24   \n",
       "\n",
       "   Region_Asia  Region_Europe  Region_North America  Region_South America  \\\n",
       "0        False          False                 False                  True   \n",
       "1         True          False                 False                 False   \n",
       "2        False          False                 False                  True   \n",
       "3        False          False                 False                  True   \n",
       "4         True          False                 False                 False   \n",
       "\n",
       "   Cluster      PCA1      PCA2  \n",
       "0        3  0.613997 -1.694224  \n",
       "1        1 -0.477287 -0.613687  \n",
       "2        1 -0.483765 -1.032006  \n",
       "3        3  2.391476 -1.219433  \n",
       "4        1 -0.933873 -0.448706  "
      ]
     },
     "execution_count": 42,
     "metadata": {},
     "output_type": "execute_result"
    }
   ],
   "source": [
    "customer_data_4 = customer_data.copy()\n",
    "customer_data_4['Cluster'] = kmeans_4.labels_\n",
    "customer_data_4['PCA1'] = reduced_features[:, 0] \n",
    "customer_data_4['PCA2'] = reduced_features[:, 1]\n",
    "\n",
    "# Append back the customerID as the first column\n",
    "customer_data_4.insert(0, 'CustomerID', customers['CustomerID']) \n",
    "customer_data_4.insert(1, 'CustomerName', customers['CustomerName'])   \n",
    "\n",
    "customer_data_4.head()"
   ]
  },
  {
   "cell_type": "code",
   "execution_count": 43,
   "metadata": {},
   "outputs": [
    {
     "name": "stdout",
     "output_type": "stream",
     "text": [
      "Cluster\n",
      "0    27\n",
      "1    63\n",
      "2    55\n",
      "3    55\n",
      "Name: count, dtype: int64\n"
     ]
    }
   ],
   "source": [
    "cluster_counts_4 = customer_data_4['Cluster'].value_counts().sort_index()\n",
    "print(cluster_counts_4)"
   ]
  },
  {
   "cell_type": "code",
   "execution_count": 46,
   "metadata": {},
   "outputs": [
    {
     "data": {
      "application/vnd.plotly.v1+json": {
       "config": {
        "plotlyServerURL": "https://plot.ly"
       },
       "data": [
        {
         "customdata": [
          [
           "C0001",
           "Lawrence Carroll"
          ],
          [
           "C0002",
           "Elizabeth Lutz"
          ],
          [
           "C0003",
           "Michael Rivera"
          ],
          [
           "C0004",
           "Kathleen Rodriguez"
          ],
          [
           "C0005",
           "Laura Weber"
          ],
          [
           "C0006",
           "Brittany Palmer"
          ],
          [
           "C0007",
           "Paul Graves"
          ],
          [
           "C0008",
           "David Li"
          ],
          [
           "C0009",
           "Joy Clark"
          ],
          [
           "C0010",
           "Aaron Cox"
          ],
          [
           "C0011",
           "Bryan Mathews"
          ],
          [
           "C0012",
           "Kevin May"
          ],
          [
           "C0013",
           "Lauren Buchanan"
          ],
          [
           "C0014",
           "Deborah Wilcox"
          ],
          [
           "C0015",
           "Tina Duran"
          ],
          [
           "C0016",
           "Emily Woods"
          ],
          [
           "C0017",
           "Jennifer King"
          ],
          [
           "C0018",
           "Tyler Haynes"
          ],
          [
           "C0019",
           "Brandon Rodriguez"
          ],
          [
           "C0020",
           "Mr. Manuel Conway"
          ],
          [
           "C0021",
           "Robert Blanchard"
          ],
          [
           "C0022",
           "Teresa Esparza"
          ],
          [
           "C0023",
           "Nicholas Cain"
          ],
          [
           "C0024",
           "Michele Cooley"
          ],
          [
           "C0025",
           "Gregory Odom"
          ],
          [
           "C0026",
           "Sara Miller"
          ],
          [
           "C0027",
           "Justin Heath"
          ],
          [
           "C0028",
           "Jennifer Pena"
          ],
          [
           "C0029",
           "Erin Manning"
          ],
          [
           "C0030",
           "Mark Brock"
          ],
          [
           "C0031",
           "Tina Miller"
          ],
          [
           "C0032",
           "Dustin Campbell"
          ],
          [
           "C0033",
           "Tyler Holt"
          ],
          [
           "C0034",
           "Dalton Perez"
          ],
          [
           "C0035",
           "Brianna Richardson"
          ],
          [
           "C0036",
           "Brian Aguilar DDS"
          ],
          [
           "C0037",
           "Linda Smith"
          ],
          [
           "C0038",
           "Jeffrey Perkins"
          ],
          [
           "C0039",
           "Angela Harris"
          ],
          [
           "C0040",
           "Michael Harrell"
          ],
          [
           "C0041",
           "Lindsey Deleon"
          ],
          [
           "C0042",
           "Heather Riley"
          ],
          [
           "C0043",
           "Sandy Short MD"
          ],
          [
           "C0044",
           "Kenneth Alexander"
          ],
          [
           "C0045",
           "Michael Williams"
          ],
          [
           "C0046",
           "Beth Cardenas"
          ],
          [
           "C0047",
           "Samantha Frank"
          ],
          [
           "C0048",
           "Matthew Park"
          ],
          [
           "C0049",
           "Jason Yates"
          ],
          [
           "C0050",
           "Ryan Davis"
          ],
          [
           "C0051",
           "Nicholas Ellis"
          ],
          [
           "C0052",
           "Stanley Aguirre"
          ],
          [
           "C0053",
           "Albert Burke"
          ],
          [
           "C0054",
           "Bruce Rhodes"
          ],
          [
           "C0055",
           "Lauren Williams"
          ],
          [
           "C0056",
           "Erika Fernandez"
          ],
          [
           "C0057",
           "Elizabeth Nguyen"
          ],
          [
           "C0058",
           "Zachary Turner"
          ],
          [
           "C0059",
           "Mrs. Kimberly Wright"
          ],
          [
           "C0060",
           "James Murphy"
          ],
          [
           "C0061",
           "Brandon Escobar"
          ],
          [
           "C0062",
           "Jeffery Hartman"
          ],
          [
           "C0063",
           "Wayne Ferguson"
          ],
          [
           "C0064",
           "Martha Montgomery"
          ],
          [
           "C0065",
           "Gerald Hines"
          ],
          [
           "C0066",
           "Catherine White"
          ],
          [
           "C0067",
           "Carl Gonzalez"
          ],
          [
           "C0068",
           "Mark Cox"
          ],
          [
           "C0069",
           "Stacy Foster"
          ],
          [
           "C0070",
           "Timothy Perez"
          ],
          [
           "C0071",
           "Taylor Murphy"
          ],
          [
           "C0072",
           "Sarah Scott"
          ],
          [
           "C0073",
           "Heidi Johnson"
          ],
          [
           "C0074",
           "Jonathan Russo"
          ],
          [
           "C0075",
           "Misty Higgins"
          ],
          [
           "C0076",
           "Emily Roberts"
          ],
          [
           "C0077",
           "Scott Sims"
          ],
          [
           "C0078",
           "Julia Palmer"
          ],
          [
           "C0079",
           "Brian Murillo"
          ],
          [
           "C0080",
           "David Gonzalez"
          ],
          [
           "C0081",
           "Kimberly Turner"
          ],
          [
           "C0082",
           "Aimee Taylor"
          ],
          [
           "C0083",
           "Christina Stark"
          ],
          [
           "C0084",
           "Belinda Garner"
          ],
          [
           "C0085",
           "Richard Brown"
          ],
          [
           "C0086",
           "Stephanie Peterson"
          ],
          [
           "C0087",
           "Travis Campbell"
          ],
          [
           "C0088",
           "Carlos Murray"
          ],
          [
           "C0089",
           "Paul Carter"
          ],
          [
           "C0090",
           "Charles Hamilton"
          ],
          [
           "C0091",
           "Lisa Kirk"
          ],
          [
           "C0092",
           "Jacqueline Zamora"
          ],
          [
           "C0093",
           "Nancy Walker"
          ],
          [
           "C0094",
           "Emily Trevino"
          ],
          [
           "C0095",
           "William Walker"
          ],
          [
           "C0096",
           "Benjamin Mcclure"
          ],
          [
           "C0097",
           "Tina Ford"
          ],
          [
           "C0098",
           "Laura Gilbert"
          ],
          [
           "C0099",
           "Rodney Eaton"
          ],
          [
           "C0100",
           "Clinton Gomez"
          ],
          [
           "C0101",
           "Kelsey Roberts"
          ],
          [
           "C0102",
           "Michael Atkinson"
          ],
          [
           "C0103",
           "Jennifer Munoz"
          ],
          [
           "C0104",
           "Laura Bennett"
          ],
          [
           "C0105",
           "Ryan Hampton"
          ],
          [
           "C0106",
           "Amanda Mcguire"
          ],
          [
           "C0107",
           "Dana Cantrell"
          ],
          [
           "C0108",
           "David Davis"
          ],
          [
           "C0109",
           "Abigail Jones"
          ],
          [
           "C0110",
           "Elizabeth Wells"
          ],
          [
           "C0111",
           "Roger David"
          ],
          [
           "C0112",
           "Brian Adkins"
          ],
          [
           "C0113",
           "Joseph Ortiz Jr."
          ],
          [
           "C0114",
           "Benjamin Anderson"
          ],
          [
           "C0115",
           "Joshua Hamilton"
          ],
          [
           "C0116",
           "James Martinez"
          ],
          [
           "C0117",
           "Jeffrey Mcmahon"
          ],
          [
           "C0118",
           "Jacob Holt"
          ],
          [
           "C0119",
           "David Armstrong"
          ],
          [
           "C0120",
           "Francisco Diaz"
          ],
          [
           "C0121",
           "Mark Atkinson"
          ],
          [
           "C0122",
           "Corey Ruiz"
          ],
          [
           "C0123",
           "Jason Johnston"
          ],
          [
           "C0124",
           "Lindsay Perez"
          ],
          [
           "C0125",
           "Nicholas Taylor"
          ],
          [
           "C0126",
           "Caitlin Brown"
          ],
          [
           "C0127",
           "Kathryn Stevens"
          ],
          [
           "C0128",
           "Henry Leach"
          ],
          [
           "C0129",
           "Marcus Livingston"
          ],
          [
           "C0130",
           "Robert Jones"
          ],
          [
           "C0131",
           "Scott Wilson"
          ],
          [
           "C0132",
           "Lisa Jackson"
          ],
          [
           "C0133",
           "Gwendolyn Carter"
          ],
          [
           "C0134",
           "Theresa Gonzalez"
          ],
          [
           "C0135",
           "Toni Weaver"
          ],
          [
           "C0136",
           "Kristen Holder"
          ],
          [
           "C0137",
           "Robert Gardner"
          ],
          [
           "C0138",
           "Cynthia Clayton"
          ],
          [
           "C0139",
           "Ricky Gutierrez"
          ],
          [
           "C0140",
           "Gregory Estrada"
          ],
          [
           "C0141",
           "Paul Parsons"
          ],
          [
           "C0142",
           "Nicole Long DVM"
          ],
          [
           "C0143",
           "Brian Parker"
          ],
          [
           "C0144",
           "Andrea Hart"
          ],
          [
           "C0145",
           "Wayne Stone"
          ],
          [
           "C0146",
           "Brittany Harvey"
          ],
          [
           "C0147",
           "Hunter Fuller"
          ],
          [
           "C0148",
           "Matthew Rogers"
          ],
          [
           "C0149",
           "Tina Wilson"
          ],
          [
           "C0150",
           "Angela Williams"
          ],
          [
           "C0151",
           "Amber Gonzalez"
          ],
          [
           "C0152",
           "Justin Evans"
          ],
          [
           "C0153",
           "Justin Smith"
          ],
          [
           "C0154",
           "Robert Sharp"
          ],
          [
           "C0155",
           "Michelle Brown"
          ],
          [
           "C0156",
           "William Adams"
          ],
          [
           "C0157",
           "Miguel Wong"
          ],
          [
           "C0158",
           "Wendy Browning"
          ],
          [
           "C0159",
           "Austin Miller"
          ],
          [
           "C0160",
           "Jodi Cook"
          ],
          [
           "C0161",
           "Jessica Warren"
          ],
          [
           "C0162",
           "Edwin Watson"
          ],
          [
           "C0163",
           "Tiffany Cain"
          ],
          [
           "C0164",
           "Morgan Perez"
          ],
          [
           "C0165",
           "Juan Mcdaniel"
          ],
          [
           "C0166",
           "John Rogers"
          ],
          [
           "C0167",
           "Brandy Welch"
          ],
          [
           "C0168",
           "Karen Clements MD"
          ],
          [
           "C0169",
           "Jennifer Shaw"
          ],
          [
           "C0170",
           "Logan Harris"
          ],
          [
           "C0171",
           "Michael Cowan"
          ],
          [
           "C0172",
           "Jamie Webb"
          ],
          [
           "C0173",
           "Francisco Young"
          ],
          [
           "C0174",
           "Tracy Steele"
          ],
          [
           "C0175",
           "Matthew Johnson"
          ],
          [
           "C0176",
           "Nicole Booth"
          ],
          [
           "C0177",
           "Julia Kelly"
          ],
          [
           "C0178",
           "Carol Williams"
          ],
          [
           "C0179",
           "Donald Miller"
          ],
          [
           "C0180",
           "Amy Carpenter"
          ],
          [
           "C0181",
           "Alexander Barker"
          ],
          [
           "C0182",
           "Joshua Preston"
          ],
          [
           "C0183",
           "Kimberly Johnson"
          ],
          [
           "C0184",
           "Tina Jacobs"
          ],
          [
           "C0185",
           "Kathleen Logan"
          ],
          [
           "C0186",
           "Amber Alexander"
          ],
          [
           "C0187",
           "Kayla Kelly"
          ],
          [
           "C0188",
           "Anna Ball"
          ],
          [
           "C0189",
           "Sherri Dixon"
          ],
          [
           "C0190",
           "Alexander Lowe"
          ],
          [
           "C0191",
           "Samantha Gibson DVM"
          ],
          [
           "C0192",
           "Sarah Arias"
          ],
          [
           "C0193",
           "Douglas Torres"
          ],
          [
           "C0194",
           "Stacy Cook"
          ],
          [
           "C0195",
           "Jeremy Mclaughlin"
          ],
          [
           "C0196",
           "Laura Watts"
          ],
          [
           "C0197",
           "Christina Harvey"
          ],
          [
           "C0198",
           "Rebecca Ray"
          ],
          [
           "C0199",
           "Andrea Jenkins"
          ],
          [
           "C0200",
           "Kelly Cross"
          ]
         ],
         "hovertemplate": "PCA1=%{x}<br>PCA2=%{y}<br>CustomerID=%{customdata[0]}<br>CustomerName=%{customdata[1]}<br>Cluster=%{marker.color}<extra></extra>",
         "legendgroup": "",
         "marker": {
          "color": [
           3,
           1,
           1,
           3,
           1,
           3,
           1,
           0,
           1,
           1,
           3,
           3,
           3,
           1,
           2,
           2,
           0,
           2,
           1,
           2,
           0,
           2,
           3,
           2,
           1,
           2,
           1,
           0,
           2,
           2,
           1,
           1,
           2,
           2,
           2,
           2,
           1,
           2,
           3,
           1,
           0,
           2,
           1,
           1,
           3,
           0,
           2,
           3,
           2,
           2,
           0,
           1,
           3,
           0,
           2,
           2,
           0,
           2,
           0,
           1,
           1,
           1,
           1,
           3,
           0,
           1,
           2,
           0,
           1,
           1,
           1,
           2,
           1,
           1,
           0,
           3,
           1,
           1,
           2,
           1,
           2,
           3,
           1,
           0,
           1,
           3,
           3,
           2,
           1,
           2,
           3,
           2,
           0,
           2,
           1,
           3,
           1,
           0,
           3,
           3,
           0,
           3,
           1,
           3,
           2,
           3,
           3,
           3,
           0,
           1,
           2,
           1,
           3,
           2,
           2,
           2,
           2,
           3,
           1,
           1,
           1,
           0,
           1,
           2,
           2,
           3,
           2,
           1,
           1,
           1,
           2,
           1,
           3,
           3,
           1,
           2,
           3,
           0,
           0,
           1,
           0,
           2,
           0,
           2,
           0,
           2,
           3,
           3,
           1,
           1,
           1,
           3,
           3,
           2,
           3,
           0,
           2,
           3,
           1,
           2,
           3,
           3,
           3,
           1,
           3,
           1,
           1,
           3,
           3,
           1,
           3,
           2,
           0,
           3,
           0,
           2,
           2,
           2,
           3,
           1,
           3,
           2,
           2,
           3,
           2,
           1,
           3,
           3,
           2,
           3,
           3,
           1,
           1,
           2,
           3,
           3,
           1,
           1,
           1,
           3
          ],
          "coloraxis": "coloraxis",
          "line": {
           "color": "Black",
           "width": 2
          },
          "opacity": 0.9,
          "size": 12,
          "symbol": "circle"
         },
         "mode": "markers",
         "name": "",
         "orientation": "v",
         "showlegend": false,
         "type": "scatter",
         "x": [
          0.6139971453631647,
          -0.4772873632226593,
          -0.48376539076773317,
          2.39147559906458,
          -0.9338730268410474,
          0.2925228044134082,
          -1.1655590566785208,
          1.8735337724443408,
          -1.6901136297082346,
          -0.8538203017945915,
          1.0146919961088612,
          1.8745348608675887,
          1.8376329453435671,
          -4.161755013064277,
          -1.9020244723178974,
          0.11878185603805314,
          1.250660062443354,
          -0.2627836440990308,
          -0.19560596515815803,
          -3.7414306345870547,
          1.3648127683923943,
          0.34161217000282434,
          0.8940014560600245,
          0.30564172791023886,
          -0.7259139049330228,
          -0.4994138014345199,
          -0.6452980588619989,
          2.133450110447616,
          -0.3738673547386453,
          -0.11239374070921547,
          -0.17534775502755695,
          -0.8704604637932041,
          -3.063500607202267,
          0.0590304102218005,
          -0.9156272646791628,
          -1.202826722131204,
          -0.04185034984861699,
          0.12098356393064202,
          0.8919129556632496,
          -0.9015892798452217,
          1.5047341014445816,
          -0.8338367548587129,
          -1.5613388228234155,
          -0.968145932379628,
          1.1267738273777985,
          0.88602907805578,
          -0.14958405742021433,
          0.7112675916917854,
          -0.064235015496057,
          -0.6830144495365744,
          1.3591083568793727,
          -0.5082801321544428,
          0.8524105440959852,
          2.0280787465241614,
          -0.5529670928790968,
          0.12967477400392097,
          0.6411588769914388,
          -3.8597454943528917,
          1.877306872625397,
          -2.605082594096918,
          -0.8772349512853477,
          -1.9384045194381612,
          -1.952082959053932,
          0.21186950800780757,
          2.911058215619751,
          -1.1473278370229376,
          0.38200343520541946,
          1.9982777329809605,
          -0.1634553703169276,
          -0.5484804510825294,
          -1.0134746628169222,
          -0.2731508190851181,
          -2.440289726870727,
          -1.2974952812935636,
          2.0123942206217342,
          0.2798183517126482,
          -0.9169644822394525,
          -1.8799129330832112,
          -0.4365093848626123,
          -3.4303302260153967,
          0.12203232225786423,
          2.7447357063922446,
          -0.5353919272005075,
          1.5559719927479887,
          -0.5724419092028845,
          0.03556986507678714,
          1.7454850550898644,
          -0.17607988880909836,
          -1.1795559562262763,
          0.4260989011787959,
          0.25766337466998046,
          -0.2808770999250674,
          1.3070867068193186,
          -1.0453767086713022,
          -1.1797016108595448,
          1.699184264339524,
          -3.633108904410257,
          0.8954912099167693,
          2.802481891225271,
          0.3216743009320119,
          1.8208117427976953,
          1.9774696814974566,
          -0.5399354278319286,
          2.571750462302596,
          0.05704646880431022,
          0.05139577473103796,
          0.5699836439307618,
          1.4593311178079782,
          2.502131421773199,
          -3.944655494434638,
          -0.5495919890878329,
          -1.0978301408613222,
          2.0921945503061257,
          0.2134194597709067,
          -0.537441463382124,
          -0.1105484919415184,
          -0.791718785992559,
          1.2512917126864789,
          -0.6013129904272116,
          -0.8146387468218728,
          -1.4613059751417041,
          1.4850140169169084,
          -1.5071458374630655,
          0.3891148158189889,
          -0.8093762324268703,
          1.2651551260109763,
          -0.2875148573169451,
          -2.6946753297929926,
          -0.6192287456205824,
          -2.5313715342491294,
          -0.6607966218565441,
          -0.9851385433557046,
          0.302368898181028,
          0.11148354820993775,
          -0.6133181096896514,
          0.5136524260862201,
          0.7219866952669961,
          0.8135017944375763,
          0.8994377322381146,
          -1.4827759746555913,
          3.8525261146634833,
          -0.44658623666568514,
          1.5666992900227217,
          -2.832736878696444,
          1.7806830888000074,
          -0.4451000795421451,
          1.9414556943589298,
          1.0289426266250188,
          -0.18080283930089355,
          -2.4101573870859245,
          -1.490523739428971,
          0.5773367874924584,
          1.0713660179452165,
          -0.06269579155015613,
          1.813370842411298,
          3.2897258251264923,
          -0.38133693361635324,
          0.05815685296812051,
          -0.6832270243360435,
          -0.5122892235253117,
          0.3925141798110049,
          1.4990486232581934,
          1.4577182824913768,
          -0.26076217923856615,
          3.1906695122867506,
          -0.6845600235709736,
          -1.3481567969528134,
          0.7809746826156255,
          1.3820445438149702,
          0.009308864466993274,
          1.0909173357855975,
          -0.30030410600922497,
          1.3045349742270367,
          0.6677824335616566,
          2.5347044075510436,
          -1.5005025587930485,
          -0.7010704860275077,
          -0.2916437282662542,
          0.13734380810898567,
          -2.0655584123899398,
          1.0709801758518922,
          -0.8877061688714799,
          0.12274110967937735,
          0.8745790536847143,
          -1.0610413870460298,
          -1.226751633292995,
          0.6650251413715803,
          3.0300625930583065,
          -0.04305970739270949,
          0.5430416477309233,
          0.5405850022792349,
          -0.6809164856768463,
          -1.3585574170925063,
          0.5262742785480766,
          1.0023471987586676,
          0.4502781922688647,
          -0.8479802194092388,
          -1.8420481743249915,
          -0.8910705902173641,
          0.6504569574832099
         ],
         "xaxis": "x",
         "y": [
          -1.6942239562676111,
          -0.6136867315148722,
          -1.0320064832261755,
          -1.2194327406931713,
          -0.4487060001968559,
          -1.028143685024967,
          -0.47291706575796166,
          2.2856854717202286,
          -0.5510876067516515,
          -0.7326598870967002,
          -1.4879718410362952,
          -0.4651339197004241,
          -0.508211788284254,
          -0.29436815131564575,
          1.3802591267579565,
          1.8387347343774385,
          0.23056297240183413,
          2.2480073978817643,
          -0.49962328967494385,
          1.5953941471961222,
          0.4890532485839532,
          0.5257970070629613,
          -0.7197007346541132,
          2.0442593891870042,
          -1.8728540723158256,
          1.896094724648463,
          -0.2189151500352256,
          1.1117467836368375,
          0.8248896002724762,
          1.7853355589825484,
          -1.0522716153196983,
          -1.2093253583852122,
          1.5796474392465893,
          1.7545750933363877,
          2.031764261846994,
          1.7875276468819965,
          -0.4212734081271836,
          0.9665969094795092,
          -0.5098381222880111,
          -0.5114145599745453,
          0.25507086864250883,
          1.2104902612350406,
          -0.27178745719701036,
          0.005735066770974087,
          -0.07457378644715994,
          2.4945657270871933,
          2.064595621572425,
          -0.5943772956112477,
          2.3414557545425585,
          1.6958826871802637,
          0.2204718695843175,
          -1.0683673049755606,
          -0.5736647315997915,
          1.319861996132054,
          2.183468384623788,
          0.5431863765434727,
          0.3437869199722308,
          1.3924071982137525,
          2.4062943468041817,
          -1.3651009445153461,
          -0.6942465465263273,
          -0.7923983458046783,
          -0.3811277406774083,
          -0.12036140362208474,
          2.7165118819334673,
          0.21454343243933702,
          1.7118860068579158,
          1.8572017670940544,
          -0.13750134790012752,
          -0.987188738802064,
          -1.9738969146212666,
          2.044988816383341,
          -0.8879935091699341,
          -0.9664760654373975,
          0.10187504831665968,
          -1.0266537354710195,
          -1.423916170455291,
          0.35298456188030203,
          0.9147556018851025,
          0.06239793887039037,
          0.09845364195961438,
          -1.3535764666500072,
          -2.1540031110093887,
          1.1563302239656308,
          -0.8828199493007314,
          -0.7074025209272233,
          -0.5084971678455582,
          0.0599247970119179,
          -0.25388168379662046,
          0.5671109527913896,
          -1.289215583856363,
          0.5112070013086282,
          1.1451321855711043,
          1.4556664599605813,
          -1.7619977850309987,
          -1.3743649488704073,
          -0.05692631971225491,
          2.407014547179547,
          -0.9959764486381397,
          -0.2359614207279473,
          0.6892257754604886,
          -1.1758683605091245,
          -0.8644814025685931,
          -1.4398256689372817,
          0.5202224575107399,
          -0.18402394086907609,
          -1.4070184249602395,
          -1.3286947181682862,
          1.674110219108751,
          0.36226438899417274,
          0.24567928730341546,
          -1.9225527061418966,
          -1.390309877627064,
          0.4989699320959901,
          0.6434976974926561,
          2.177343441307935,
          2.1968201139940273,
          -1.8303325469073324,
          -0.26819811868347054,
          -1.6580583195096954,
          -0.48719711709247493,
          1.3008699012180882,
          -0.006542905322724821,
          0.4660355418819267,
          1.2365490261165861,
          -0.7966200148009348,
          0.1419480358162317,
          -0.20697476674314091,
          -1.1017702076419598,
          -1.7963956288904734,
          0.8154989065632374,
          -0.7523208567753202,
          -1.5049022105965357,
          -0.474931754692425,
          -0.7819858289489111,
          0.6676795387019291,
          -0.8983772152034849,
          0.9477110462152187,
          1.2522222508179515,
          -0.13136246937127438,
          0.39182852502116455,
          0.32194241395776474,
          0.9412923223792153,
          1.8219992291815856,
          0.3806049299375781,
          0.6081575563299697,
          -1.4653060517894678,
          -1.2062628805317073,
          -0.42244011577626295,
          -2.0760711865439623,
          -1.1325828440146997,
          -1.7934011814631583,
          -1.6567719703400667,
          2.3018121659151998,
          -1.083131715933003,
          2.385475226894247,
          1.746801042614959,
          -1.3949179387576653,
          -0.4668913103680792,
          0.9939261460009925,
          -0.13938794429484352,
          -0.04268834067797782,
          -1.0386119138630525,
          -0.3506507612349242,
          -1.286921177983644,
          -1.0718620125822387,
          -0.2540990123431479,
          -1.4762326698636927,
          -1.1961188620596592,
          -0.09671043055804139,
          -1.383129297443248,
          0.2657766757012766,
          0.27744537423255394,
          -1.584365516502103,
          0.2314991152840519,
          0.7831876618984353,
          0.4944263800640396,
          0.24846480918549607,
          -0.5163420643900041,
          -0.2897570115869592,
          -0.9979937892796709,
          0.5335541295687104,
          1.861914360788152,
          -1.5849293328563783,
          1.5644104005907622,
          0.07218312633458486,
          -0.6589872685792038,
          -1.2984289710215997,
          1.7794167757276378,
          -0.8516218431818423,
          -0.918183033159809,
          -1.7479504353852955,
          -0.051114758971865334,
          2.1649800856307118,
          -0.5614765870974394,
          -0.7854720182666349,
          -0.6917768989389282,
          -1.3059439468563152,
          -0.7272734846016885,
          0.2536377812474566
         ],
         "yaxis": "y"
        }
       ],
       "layout": {
        "annotations": [
         {
          "font": {
           "size": 10
          },
          "showarrow": false,
          "text": "C0001",
          "x": 0.6139971453631647,
          "y": -1.6942239562676111
         },
         {
          "font": {
           "size": 10
          },
          "showarrow": false,
          "text": "C0002",
          "x": -0.4772873632226593,
          "y": -0.6136867315148722
         },
         {
          "font": {
           "size": 10
          },
          "showarrow": false,
          "text": "C0003",
          "x": -0.48376539076773317,
          "y": -1.0320064832261755
         },
         {
          "font": {
           "size": 10
          },
          "showarrow": false,
          "text": "C0004",
          "x": 2.39147559906458,
          "y": -1.2194327406931713
         },
         {
          "font": {
           "size": 10
          },
          "showarrow": false,
          "text": "C0005",
          "x": -0.9338730268410474,
          "y": -0.4487060001968559
         },
         {
          "font": {
           "size": 10
          },
          "showarrow": false,
          "text": "C0006",
          "x": 0.2925228044134082,
          "y": -1.028143685024967
         },
         {
          "font": {
           "size": 10
          },
          "showarrow": false,
          "text": "C0007",
          "x": -1.1655590566785208,
          "y": -0.47291706575796166
         },
         {
          "font": {
           "size": 10
          },
          "showarrow": false,
          "text": "C0008",
          "x": 1.8735337724443408,
          "y": 2.2856854717202286
         },
         {
          "font": {
           "size": 10
          },
          "showarrow": false,
          "text": "C0009",
          "x": -1.6901136297082346,
          "y": -0.5510876067516515
         },
         {
          "font": {
           "size": 10
          },
          "showarrow": false,
          "text": "C0010",
          "x": -0.8538203017945915,
          "y": -0.7326598870967002
         },
         {
          "font": {
           "size": 10
          },
          "showarrow": false,
          "text": "C0011",
          "x": 1.0146919961088612,
          "y": -1.4879718410362952
         },
         {
          "font": {
           "size": 10
          },
          "showarrow": false,
          "text": "C0012",
          "x": 1.8745348608675887,
          "y": -0.4651339197004241
         },
         {
          "font": {
           "size": 10
          },
          "showarrow": false,
          "text": "C0013",
          "x": 1.8376329453435671,
          "y": -0.508211788284254
         },
         {
          "font": {
           "size": 10
          },
          "showarrow": false,
          "text": "C0014",
          "x": -4.161755013064277,
          "y": -0.29436815131564575
         },
         {
          "font": {
           "size": 10
          },
          "showarrow": false,
          "text": "C0015",
          "x": -1.9020244723178974,
          "y": 1.3802591267579565
         },
         {
          "font": {
           "size": 10
          },
          "showarrow": false,
          "text": "C0016",
          "x": 0.11878185603805314,
          "y": 1.8387347343774385
         },
         {
          "font": {
           "size": 10
          },
          "showarrow": false,
          "text": "C0017",
          "x": 1.250660062443354,
          "y": 0.23056297240183413
         },
         {
          "font": {
           "size": 10
          },
          "showarrow": false,
          "text": "C0018",
          "x": -0.2627836440990308,
          "y": 2.2480073978817643
         },
         {
          "font": {
           "size": 10
          },
          "showarrow": false,
          "text": "C0019",
          "x": -0.19560596515815803,
          "y": -0.49962328967494385
         },
         {
          "font": {
           "size": 10
          },
          "showarrow": false,
          "text": "C0020",
          "x": -3.7414306345870547,
          "y": 1.5953941471961222
         },
         {
          "font": {
           "size": 10
          },
          "showarrow": false,
          "text": "C0021",
          "x": 1.3648127683923943,
          "y": 0.4890532485839532
         },
         {
          "font": {
           "size": 10
          },
          "showarrow": false,
          "text": "C0022",
          "x": 0.34161217000282434,
          "y": 0.5257970070629613
         },
         {
          "font": {
           "size": 10
          },
          "showarrow": false,
          "text": "C0023",
          "x": 0.8940014560600245,
          "y": -0.7197007346541132
         },
         {
          "font": {
           "size": 10
          },
          "showarrow": false,
          "text": "C0024",
          "x": 0.30564172791023886,
          "y": 2.0442593891870042
         },
         {
          "font": {
           "size": 10
          },
          "showarrow": false,
          "text": "C0025",
          "x": -0.7259139049330228,
          "y": -1.8728540723158256
         },
         {
          "font": {
           "size": 10
          },
          "showarrow": false,
          "text": "C0026",
          "x": -0.4994138014345199,
          "y": 1.896094724648463
         },
         {
          "font": {
           "size": 10
          },
          "showarrow": false,
          "text": "C0027",
          "x": -0.6452980588619989,
          "y": -0.2189151500352256
         },
         {
          "font": {
           "size": 10
          },
          "showarrow": false,
          "text": "C0028",
          "x": 2.133450110447616,
          "y": 1.1117467836368375
         },
         {
          "font": {
           "size": 10
          },
          "showarrow": false,
          "text": "C0029",
          "x": -0.3738673547386453,
          "y": 0.8248896002724762
         },
         {
          "font": {
           "size": 10
          },
          "showarrow": false,
          "text": "C0030",
          "x": -0.11239374070921547,
          "y": 1.7853355589825484
         },
         {
          "font": {
           "size": 10
          },
          "showarrow": false,
          "text": "C0031",
          "x": -0.17534775502755695,
          "y": -1.0522716153196983
         },
         {
          "font": {
           "size": 10
          },
          "showarrow": false,
          "text": "C0032",
          "x": -0.8704604637932041,
          "y": -1.2093253583852122
         },
         {
          "font": {
           "size": 10
          },
          "showarrow": false,
          "text": "C0033",
          "x": -3.063500607202267,
          "y": 1.5796474392465893
         },
         {
          "font": {
           "size": 10
          },
          "showarrow": false,
          "text": "C0034",
          "x": 0.0590304102218005,
          "y": 1.7545750933363877
         },
         {
          "font": {
           "size": 10
          },
          "showarrow": false,
          "text": "C0035",
          "x": -0.9156272646791628,
          "y": 2.031764261846994
         },
         {
          "font": {
           "size": 10
          },
          "showarrow": false,
          "text": "C0036",
          "x": -1.202826722131204,
          "y": 1.7875276468819965
         },
         {
          "font": {
           "size": 10
          },
          "showarrow": false,
          "text": "C0037",
          "x": -0.04185034984861699,
          "y": -0.4212734081271836
         },
         {
          "font": {
           "size": 10
          },
          "showarrow": false,
          "text": "C0038",
          "x": 0.12098356393064202,
          "y": 0.9665969094795092
         },
         {
          "font": {
           "size": 10
          },
          "showarrow": false,
          "text": "C0039",
          "x": 0.8919129556632496,
          "y": -0.5098381222880111
         },
         {
          "font": {
           "size": 10
          },
          "showarrow": false,
          "text": "C0040",
          "x": -0.9015892798452217,
          "y": -0.5114145599745453
         },
         {
          "font": {
           "size": 10
          },
          "showarrow": false,
          "text": "C0041",
          "x": 1.5047341014445816,
          "y": 0.25507086864250883
         },
         {
          "font": {
           "size": 10
          },
          "showarrow": false,
          "text": "C0042",
          "x": -0.8338367548587129,
          "y": 1.2104902612350406
         },
         {
          "font": {
           "size": 10
          },
          "showarrow": false,
          "text": "C0043",
          "x": -1.5613388228234155,
          "y": -0.27178745719701036
         },
         {
          "font": {
           "size": 10
          },
          "showarrow": false,
          "text": "C0044",
          "x": -0.968145932379628,
          "y": 0.005735066770974087
         },
         {
          "font": {
           "size": 10
          },
          "showarrow": false,
          "text": "C0045",
          "x": 1.1267738273777985,
          "y": -0.07457378644715994
         },
         {
          "font": {
           "size": 10
          },
          "showarrow": false,
          "text": "C0046",
          "x": 0.88602907805578,
          "y": 2.4945657270871933
         },
         {
          "font": {
           "size": 10
          },
          "showarrow": false,
          "text": "C0047",
          "x": -0.14958405742021433,
          "y": 2.064595621572425
         },
         {
          "font": {
           "size": 10
          },
          "showarrow": false,
          "text": "C0048",
          "x": 0.7112675916917854,
          "y": -0.5943772956112477
         },
         {
          "font": {
           "size": 10
          },
          "showarrow": false,
          "text": "C0049",
          "x": -0.064235015496057,
          "y": 2.3414557545425585
         },
         {
          "font": {
           "size": 10
          },
          "showarrow": false,
          "text": "C0050",
          "x": -0.6830144495365744,
          "y": 1.6958826871802637
         },
         {
          "font": {
           "size": 10
          },
          "showarrow": false,
          "text": "C0051",
          "x": 1.3591083568793727,
          "y": 0.2204718695843175
         },
         {
          "font": {
           "size": 10
          },
          "showarrow": false,
          "text": "C0052",
          "x": -0.5082801321544428,
          "y": -1.0683673049755606
         },
         {
          "font": {
           "size": 10
          },
          "showarrow": false,
          "text": "C0053",
          "x": 0.8524105440959852,
          "y": -0.5736647315997915
         },
         {
          "font": {
           "size": 10
          },
          "showarrow": false,
          "text": "C0054",
          "x": 2.0280787465241614,
          "y": 1.319861996132054
         },
         {
          "font": {
           "size": 10
          },
          "showarrow": false,
          "text": "C0055",
          "x": -0.5529670928790968,
          "y": 2.183468384623788
         },
         {
          "font": {
           "size": 10
          },
          "showarrow": false,
          "text": "C0056",
          "x": 0.12967477400392097,
          "y": 0.5431863765434727
         },
         {
          "font": {
           "size": 10
          },
          "showarrow": false,
          "text": "C0057",
          "x": 0.6411588769914388,
          "y": 0.3437869199722308
         },
         {
          "font": {
           "size": 10
          },
          "showarrow": false,
          "text": "C0058",
          "x": -3.8597454943528917,
          "y": 1.3924071982137525
         },
         {
          "font": {
           "size": 10
          },
          "showarrow": false,
          "text": "C0059",
          "x": 1.877306872625397,
          "y": 2.4062943468041817
         },
         {
          "font": {
           "size": 10
          },
          "showarrow": false,
          "text": "C0060",
          "x": -2.605082594096918,
          "y": -1.3651009445153461
         },
         {
          "font": {
           "size": 10
          },
          "showarrow": false,
          "text": "C0061",
          "x": -0.8772349512853477,
          "y": -0.6942465465263273
         },
         {
          "font": {
           "size": 10
          },
          "showarrow": false,
          "text": "C0062",
          "x": -1.9384045194381612,
          "y": -0.7923983458046783
         },
         {
          "font": {
           "size": 10
          },
          "showarrow": false,
          "text": "C0063",
          "x": -1.952082959053932,
          "y": -0.3811277406774083
         },
         {
          "font": {
           "size": 10
          },
          "showarrow": false,
          "text": "C0064",
          "x": 0.21186950800780757,
          "y": -0.12036140362208474
         },
         {
          "font": {
           "size": 10
          },
          "showarrow": false,
          "text": "C0065",
          "x": 2.911058215619751,
          "y": 2.7165118819334673
         },
         {
          "font": {
           "size": 10
          },
          "showarrow": false,
          "text": "C0066",
          "x": -1.1473278370229376,
          "y": 0.21454343243933702
         },
         {
          "font": {
           "size": 10
          },
          "showarrow": false,
          "text": "C0067",
          "x": 0.38200343520541946,
          "y": 1.7118860068579158
         },
         {
          "font": {
           "size": 10
          },
          "showarrow": false,
          "text": "C0068",
          "x": 1.9982777329809605,
          "y": 1.8572017670940544
         },
         {
          "font": {
           "size": 10
          },
          "showarrow": false,
          "text": "C0069",
          "x": -0.1634553703169276,
          "y": -0.13750134790012752
         },
         {
          "font": {
           "size": 10
          },
          "showarrow": false,
          "text": "C0070",
          "x": -0.5484804510825294,
          "y": -0.987188738802064
         },
         {
          "font": {
           "size": 10
          },
          "showarrow": false,
          "text": "C0071",
          "x": -1.0134746628169222,
          "y": -1.9738969146212666
         },
         {
          "font": {
           "size": 10
          },
          "showarrow": false,
          "text": "C0072",
          "x": -0.2731508190851181,
          "y": 2.044988816383341
         },
         {
          "font": {
           "size": 10
          },
          "showarrow": false,
          "text": "C0073",
          "x": -2.440289726870727,
          "y": -0.8879935091699341
         },
         {
          "font": {
           "size": 10
          },
          "showarrow": false,
          "text": "C0074",
          "x": -1.2974952812935636,
          "y": -0.9664760654373975
         },
         {
          "font": {
           "size": 10
          },
          "showarrow": false,
          "text": "C0075",
          "x": 2.0123942206217342,
          "y": 0.10187504831665968
         },
         {
          "font": {
           "size": 10
          },
          "showarrow": false,
          "text": "C0076",
          "x": 0.2798183517126482,
          "y": -1.0266537354710195
         },
         {
          "font": {
           "size": 10
          },
          "showarrow": false,
          "text": "C0077",
          "x": -0.9169644822394525,
          "y": -1.423916170455291
         },
         {
          "font": {
           "size": 10
          },
          "showarrow": false,
          "text": "C0078",
          "x": -1.8799129330832112,
          "y": 0.35298456188030203
         },
         {
          "font": {
           "size": 10
          },
          "showarrow": false,
          "text": "C0079",
          "x": -0.4365093848626123,
          "y": 0.9147556018851025
         },
         {
          "font": {
           "size": 10
          },
          "showarrow": false,
          "text": "C0080",
          "x": -3.4303302260153967,
          "y": 0.06239793887039037
         },
         {
          "font": {
           "size": 10
          },
          "showarrow": false,
          "text": "C0081",
          "x": 0.12203232225786423,
          "y": 0.09845364195961438
         },
         {
          "font": {
           "size": 10
          },
          "showarrow": false,
          "text": "C0082",
          "x": 2.7447357063922446,
          "y": -1.3535764666500072
         },
         {
          "font": {
           "size": 10
          },
          "showarrow": false,
          "text": "C0083",
          "x": -0.5353919272005075,
          "y": -2.1540031110093887
         },
         {
          "font": {
           "size": 10
          },
          "showarrow": false,
          "text": "C0084",
          "x": 1.5559719927479887,
          "y": 1.1563302239656308
         },
         {
          "font": {
           "size": 10
          },
          "showarrow": false,
          "text": "C0085",
          "x": -0.5724419092028845,
          "y": -0.8828199493007314
         },
         {
          "font": {
           "size": 10
          },
          "showarrow": false,
          "text": "C0086",
          "x": 0.03556986507678714,
          "y": -0.7074025209272233
         },
         {
          "font": {
           "size": 10
          },
          "showarrow": false,
          "text": "C0087",
          "x": 1.7454850550898644,
          "y": -0.5084971678455582
         },
         {
          "font": {
           "size": 10
          },
          "showarrow": false,
          "text": "C0088",
          "x": -0.17607988880909836,
          "y": 0.0599247970119179
         },
         {
          "font": {
           "size": 10
          },
          "showarrow": false,
          "text": "C0089",
          "x": -1.1795559562262763,
          "y": -0.25388168379662046
         },
         {
          "font": {
           "size": 10
          },
          "showarrow": false,
          "text": "C0090",
          "x": 0.4260989011787959,
          "y": 0.5671109527913896
         },
         {
          "font": {
           "size": 10
          },
          "showarrow": false,
          "text": "C0091",
          "x": 0.25766337466998046,
          "y": -1.289215583856363
         },
         {
          "font": {
           "size": 10
          },
          "showarrow": false,
          "text": "C0092",
          "x": -0.2808770999250674,
          "y": 0.5112070013086282
         },
         {
          "font": {
           "size": 10
          },
          "showarrow": false,
          "text": "C0093",
          "x": 1.3070867068193186,
          "y": 1.1451321855711043
         },
         {
          "font": {
           "size": 10
          },
          "showarrow": false,
          "text": "C0094",
          "x": -1.0453767086713022,
          "y": 1.4556664599605813
         },
         {
          "font": {
           "size": 10
          },
          "showarrow": false,
          "text": "C0095",
          "x": -1.1797016108595448,
          "y": -1.7619977850309987
         },
         {
          "font": {
           "size": 10
          },
          "showarrow": false,
          "text": "C0096",
          "x": 1.699184264339524,
          "y": -1.3743649488704073
         },
         {
          "font": {
           "size": 10
          },
          "showarrow": false,
          "text": "C0097",
          "x": -3.633108904410257,
          "y": -0.05692631971225491
         },
         {
          "font": {
           "size": 10
          },
          "showarrow": false,
          "text": "C0098",
          "x": 0.8954912099167693,
          "y": 2.407014547179547
         },
         {
          "font": {
           "size": 10
          },
          "showarrow": false,
          "text": "C0099",
          "x": 2.802481891225271,
          "y": -0.9959764486381397
         },
         {
          "font": {
           "size": 10
          },
          "showarrow": false,
          "text": "C0100",
          "x": 0.3216743009320119,
          "y": -0.2359614207279473
         },
         {
          "font": {
           "size": 10
          },
          "showarrow": false,
          "text": "C0101",
          "x": 1.8208117427976953,
          "y": 0.6892257754604886
         },
         {
          "font": {
           "size": 10
          },
          "showarrow": false,
          "text": "C0102",
          "x": 1.9774696814974566,
          "y": -1.1758683605091245
         },
         {
          "font": {
           "size": 10
          },
          "showarrow": false,
          "text": "C0103",
          "x": -0.5399354278319286,
          "y": -0.8644814025685931
         },
         {
          "font": {
           "size": 10
          },
          "showarrow": false,
          "text": "C0104",
          "x": 2.571750462302596,
          "y": -1.4398256689372817
         },
         {
          "font": {
           "size": 10
          },
          "showarrow": false,
          "text": "C0105",
          "x": 0.05704646880431022,
          "y": 0.5202224575107399
         },
         {
          "font": {
           "size": 10
          },
          "showarrow": false,
          "text": "C0106",
          "x": 0.05139577473103796,
          "y": -0.18402394086907609
         },
         {
          "font": {
           "size": 10
          },
          "showarrow": false,
          "text": "C0107",
          "x": 0.5699836439307618,
          "y": -1.4070184249602395
         },
         {
          "font": {
           "size": 10
          },
          "showarrow": false,
          "text": "C0108",
          "x": 1.4593311178079782,
          "y": -1.3286947181682862
         },
         {
          "font": {
           "size": 10
          },
          "showarrow": false,
          "text": "C0109",
          "x": 2.502131421773199,
          "y": 1.674110219108751
         },
         {
          "font": {
           "size": 10
          },
          "showarrow": false,
          "text": "C0110",
          "x": -3.944655494434638,
          "y": 0.36226438899417274
         },
         {
          "font": {
           "size": 10
          },
          "showarrow": false,
          "text": "C0111",
          "x": -0.5495919890878329,
          "y": 0.24567928730341546
         },
         {
          "font": {
           "size": 10
          },
          "showarrow": false,
          "text": "C0112",
          "x": -1.0978301408613222,
          "y": -1.9225527061418966
         },
         {
          "font": {
           "size": 10
          },
          "showarrow": false,
          "text": "C0113",
          "x": 2.0921945503061257,
          "y": -1.390309877627064
         },
         {
          "font": {
           "size": 10
          },
          "showarrow": false,
          "text": "C0114",
          "x": 0.2134194597709067,
          "y": 0.4989699320959901
         },
         {
          "font": {
           "size": 10
          },
          "showarrow": false,
          "text": "C0115",
          "x": -0.537441463382124,
          "y": 0.6434976974926561
         },
         {
          "font": {
           "size": 10
          },
          "showarrow": false,
          "text": "C0116",
          "x": -0.1105484919415184,
          "y": 2.177343441307935
         },
         {
          "font": {
           "size": 10
          },
          "showarrow": false,
          "text": "C0117",
          "x": -0.791718785992559,
          "y": 2.1968201139940273
         },
         {
          "font": {
           "size": 10
          },
          "showarrow": false,
          "text": "C0118",
          "x": 1.2512917126864789,
          "y": -1.8303325469073324
         },
         {
          "font": {
           "size": 10
          },
          "showarrow": false,
          "text": "C0119",
          "x": -0.6013129904272116,
          "y": -0.26819811868347054
         },
         {
          "font": {
           "size": 10
          },
          "showarrow": false,
          "text": "C0120",
          "x": -0.8146387468218728,
          "y": -1.6580583195096954
         },
         {
          "font": {
           "size": 10
          },
          "showarrow": false,
          "text": "C0121",
          "x": -1.4613059751417041,
          "y": -0.48719711709247493
         },
         {
          "font": {
           "size": 10
          },
          "showarrow": false,
          "text": "C0122",
          "x": 1.4850140169169084,
          "y": 1.3008699012180882
         },
         {
          "font": {
           "size": 10
          },
          "showarrow": false,
          "text": "C0123",
          "x": -1.5071458374630655,
          "y": -0.006542905322724821
         },
         {
          "font": {
           "size": 10
          },
          "showarrow": false,
          "text": "C0124",
          "x": 0.3891148158189889,
          "y": 0.4660355418819267
         },
         {
          "font": {
           "size": 10
          },
          "showarrow": false,
          "text": "C0125",
          "x": -0.8093762324268703,
          "y": 1.2365490261165861
         },
         {
          "font": {
           "size": 10
          },
          "showarrow": false,
          "text": "C0126",
          "x": 1.2651551260109763,
          "y": -0.7966200148009348
         },
         {
          "font": {
           "size": 10
          },
          "showarrow": false,
          "text": "C0127",
          "x": -0.2875148573169451,
          "y": 0.1419480358162317
         },
         {
          "font": {
           "size": 10
          },
          "showarrow": false,
          "text": "C0128",
          "x": -2.6946753297929926,
          "y": -0.20697476674314091
         },
         {
          "font": {
           "size": 10
          },
          "showarrow": false,
          "text": "C0129",
          "x": -0.6192287456205824,
          "y": -1.1017702076419598
         },
         {
          "font": {
           "size": 10
          },
          "showarrow": false,
          "text": "C0130",
          "x": -2.5313715342491294,
          "y": -1.7963956288904734
         },
         {
          "font": {
           "size": 10
          },
          "showarrow": false,
          "text": "C0131",
          "x": -0.6607966218565441,
          "y": 0.8154989065632374
         },
         {
          "font": {
           "size": 10
          },
          "showarrow": false,
          "text": "C0132",
          "x": -0.9851385433557046,
          "y": -0.7523208567753202
         },
         {
          "font": {
           "size": 10
          },
          "showarrow": false,
          "text": "C0133",
          "x": 0.302368898181028,
          "y": -1.5049022105965357
         },
         {
          "font": {
           "size": 10
          },
          "showarrow": false,
          "text": "C0134",
          "x": 0.11148354820993775,
          "y": -0.474931754692425
         },
         {
          "font": {
           "size": 10
          },
          "showarrow": false,
          "text": "C0135",
          "x": -0.6133181096896514,
          "y": -0.7819858289489111
         },
         {
          "font": {
           "size": 10
          },
          "showarrow": false,
          "text": "C0136",
          "x": 0.5136524260862201,
          "y": 0.6676795387019291
         },
         {
          "font": {
           "size": 10
          },
          "showarrow": false,
          "text": "C0137",
          "x": 0.7219866952669961,
          "y": -0.8983772152034849
         },
         {
          "font": {
           "size": 10
          },
          "showarrow": false,
          "text": "C0138",
          "x": 0.8135017944375763,
          "y": 0.9477110462152187
         },
         {
          "font": {
           "size": 10
          },
          "showarrow": false,
          "text": "C0139",
          "x": 0.8994377322381146,
          "y": 1.2522222508179515
         },
         {
          "font": {
           "size": 10
          },
          "showarrow": false,
          "text": "C0140",
          "x": -1.4827759746555913,
          "y": -0.13136246937127438
         },
         {
          "font": {
           "size": 10
          },
          "showarrow": false,
          "text": "C0141",
          "x": 3.8525261146634833,
          "y": 0.39182852502116455
         },
         {
          "font": {
           "size": 10
          },
          "showarrow": false,
          "text": "C0142",
          "x": -0.44658623666568514,
          "y": 0.32194241395776474
         },
         {
          "font": {
           "size": 10
          },
          "showarrow": false,
          "text": "C0143",
          "x": 1.5666992900227217,
          "y": 0.9412923223792153
         },
         {
          "font": {
           "size": 10
          },
          "showarrow": false,
          "text": "C0144",
          "x": -2.832736878696444,
          "y": 1.8219992291815856
         },
         {
          "font": {
           "size": 10
          },
          "showarrow": false,
          "text": "C0145",
          "x": 1.7806830888000074,
          "y": 0.3806049299375781
         },
         {
          "font": {
           "size": 10
          },
          "showarrow": false,
          "text": "C0146",
          "x": -0.4451000795421451,
          "y": 0.6081575563299697
         },
         {
          "font": {
           "size": 10
          },
          "showarrow": false,
          "text": "C0147",
          "x": 1.9414556943589298,
          "y": -1.4653060517894678
         },
         {
          "font": {
           "size": 10
          },
          "showarrow": false,
          "text": "C0148",
          "x": 1.0289426266250188,
          "y": -1.2062628805317073
         },
         {
          "font": {
           "size": 10
          },
          "showarrow": false,
          "text": "C0149",
          "x": -0.18080283930089355,
          "y": -0.42244011577626295
         },
         {
          "font": {
           "size": 10
          },
          "showarrow": false,
          "text": "C0150",
          "x": -2.4101573870859245,
          "y": -2.0760711865439623
         },
         {
          "font": {
           "size": 10
          },
          "showarrow": false,
          "text": "C0151",
          "x": -1.490523739428971,
          "y": -1.1325828440146997
         },
         {
          "font": {
           "size": 10
          },
          "showarrow": false,
          "text": "C0152",
          "x": 0.5773367874924584,
          "y": -1.7934011814631583
         },
         {
          "font": {
           "size": 10
          },
          "showarrow": false,
          "text": "C0153",
          "x": 1.0713660179452165,
          "y": -1.6567719703400667
         },
         {
          "font": {
           "size": 10
          },
          "showarrow": false,
          "text": "C0154",
          "x": -0.06269579155015613,
          "y": 2.3018121659151998
         },
         {
          "font": {
           "size": 10
          },
          "showarrow": false,
          "text": "C0155",
          "x": 1.813370842411298,
          "y": -1.083131715933003
         },
         {
          "font": {
           "size": 10
          },
          "showarrow": false,
          "text": "C0156",
          "x": 3.2897258251264923,
          "y": 2.385475226894247
         },
         {
          "font": {
           "size": 10
          },
          "showarrow": false,
          "text": "C0157",
          "x": -0.38133693361635324,
          "y": 1.746801042614959
         },
         {
          "font": {
           "size": 10
          },
          "showarrow": false,
          "text": "C0158",
          "x": 0.05815685296812051,
          "y": -1.3949179387576653
         },
         {
          "font": {
           "size": 10
          },
          "showarrow": false,
          "text": "C0159",
          "x": -0.6832270243360435,
          "y": -0.4668913103680792
         },
         {
          "font": {
           "size": 10
          },
          "showarrow": false,
          "text": "C0160",
          "x": -0.5122892235253117,
          "y": 0.9939261460009925
         },
         {
          "font": {
           "size": 10
          },
          "showarrow": false,
          "text": "C0161",
          "x": 0.3925141798110049,
          "y": -0.13938794429484352
         },
         {
          "font": {
           "size": 10
          },
          "showarrow": false,
          "text": "C0162",
          "x": 1.4990486232581934,
          "y": -0.04268834067797782
         },
         {
          "font": {
           "size": 10
          },
          "showarrow": false,
          "text": "C0163",
          "x": 1.4577182824913768,
          "y": -1.0386119138630525
         },
         {
          "font": {
           "size": 10
          },
          "showarrow": false,
          "text": "C0164",
          "x": -0.26076217923856615,
          "y": -0.3506507612349242
         },
         {
          "font": {
           "size": 10
          },
          "showarrow": false,
          "text": "C0165",
          "x": 3.1906695122867506,
          "y": -1.286921177983644
         },
         {
          "font": {
           "size": 10
          },
          "showarrow": false,
          "text": "C0166",
          "x": -0.6845600235709736,
          "y": -1.0718620125822387
         },
         {
          "font": {
           "size": 10
          },
          "showarrow": false,
          "text": "C0167",
          "x": -1.3481567969528134,
          "y": -0.2540990123431479
         },
         {
          "font": {
           "size": 10
          },
          "showarrow": false,
          "text": "C0168",
          "x": 0.7809746826156255,
          "y": -1.4762326698636927
         },
         {
          "font": {
           "size": 10
          },
          "showarrow": false,
          "text": "C0169",
          "x": 1.3820445438149702,
          "y": -1.1961188620596592
         },
         {
          "font": {
           "size": 10
          },
          "showarrow": false,
          "text": "C0170",
          "x": 0.009308864466993274,
          "y": -0.09671043055804139
         },
         {
          "font": {
           "size": 10
          },
          "showarrow": false,
          "text": "C0171",
          "x": 1.0909173357855975,
          "y": -1.383129297443248
         },
         {
          "font": {
           "size": 10
          },
          "showarrow": false,
          "text": "C0172",
          "x": -0.30030410600922497,
          "y": 0.2657766757012766
         },
         {
          "font": {
           "size": 10
          },
          "showarrow": false,
          "text": "C0173",
          "x": 1.3045349742270367,
          "y": 0.27744537423255394
         },
         {
          "font": {
           "size": 10
          },
          "showarrow": false,
          "text": "C0174",
          "x": 0.6677824335616566,
          "y": -1.584365516502103
         },
         {
          "font": {
           "size": 10
          },
          "showarrow": false,
          "text": "C0175",
          "x": 2.5347044075510436,
          "y": 0.2314991152840519
         },
         {
          "font": {
           "size": 10
          },
          "showarrow": false,
          "text": "C0176",
          "x": -1.5005025587930485,
          "y": 0.7831876618984353
         },
         {
          "font": {
           "size": 10
          },
          "showarrow": false,
          "text": "C0177",
          "x": -0.7010704860275077,
          "y": 0.4944263800640396
         },
         {
          "font": {
           "size": 10
          },
          "showarrow": false,
          "text": "C0178",
          "x": -0.2916437282662542,
          "y": 0.24846480918549607
         },
         {
          "font": {
           "size": 10
          },
          "showarrow": false,
          "text": "C0179",
          "x": 0.13734380810898567,
          "y": -0.5163420643900041
         },
         {
          "font": {
           "size": 10
          },
          "showarrow": false,
          "text": "C0180",
          "x": -2.0655584123899398,
          "y": -0.2897570115869592
         },
         {
          "font": {
           "size": 10
          },
          "showarrow": false,
          "text": "C0181",
          "x": 1.0709801758518922,
          "y": -0.9979937892796709
         },
         {
          "font": {
           "size": 10
          },
          "showarrow": false,
          "text": "C0182",
          "x": -0.8877061688714799,
          "y": 0.5335541295687104
         },
         {
          "font": {
           "size": 10
          },
          "showarrow": false,
          "text": "C0183",
          "x": 0.12274110967937735,
          "y": 1.861914360788152
         },
         {
          "font": {
           "size": 10
          },
          "showarrow": false,
          "text": "C0184",
          "x": 0.8745790536847143,
          "y": -1.5849293328563783
         },
         {
          "font": {
           "size": 10
          },
          "showarrow": false,
          "text": "C0185",
          "x": -1.0610413870460298,
          "y": 1.5644104005907622
         },
         {
          "font": {
           "size": 10
          },
          "showarrow": false,
          "text": "C0186",
          "x": -1.226751633292995,
          "y": 0.07218312633458486
         },
         {
          "font": {
           "size": 10
          },
          "showarrow": false,
          "text": "C0187",
          "x": 0.6650251413715803,
          "y": -0.6589872685792038
         },
         {
          "font": {
           "size": 10
          },
          "showarrow": false,
          "text": "C0188",
          "x": 3.0300625930583065,
          "y": -1.2984289710215997
         },
         {
          "font": {
           "size": 10
          },
          "showarrow": false,
          "text": "C0189",
          "x": -0.04305970739270949,
          "y": 1.7794167757276378
         },
         {
          "font": {
           "size": 10
          },
          "showarrow": false,
          "text": "C0190",
          "x": 0.5430416477309233,
          "y": -0.8516218431818423
         },
         {
          "font": {
           "size": 10
          },
          "showarrow": false,
          "text": "C0191",
          "x": 0.5405850022792349,
          "y": -0.918183033159809
         },
         {
          "font": {
           "size": 10
          },
          "showarrow": false,
          "text": "C0192",
          "x": -0.6809164856768463,
          "y": -1.7479504353852955
         },
         {
          "font": {
           "size": 10
          },
          "showarrow": false,
          "text": "C0193",
          "x": -1.3585574170925063,
          "y": -0.051114758971865334
         },
         {
          "font": {
           "size": 10
          },
          "showarrow": false,
          "text": "C0194",
          "x": 0.5262742785480766,
          "y": 2.1649800856307118
         },
         {
          "font": {
           "size": 10
          },
          "showarrow": false,
          "text": "C0195",
          "x": 1.0023471987586676,
          "y": -0.5614765870974394
         },
         {
          "font": {
           "size": 10
          },
          "showarrow": false,
          "text": "C0196",
          "x": 0.4502781922688647,
          "y": -0.7854720182666349
         },
         {
          "font": {
           "size": 10
          },
          "showarrow": false,
          "text": "C0197",
          "x": -0.8479802194092388,
          "y": -0.6917768989389282
         },
         {
          "font": {
           "size": 10
          },
          "showarrow": false,
          "text": "C0198",
          "x": -1.8420481743249915,
          "y": -1.3059439468563152
         },
         {
          "font": {
           "size": 10
          },
          "showarrow": false,
          "text": "C0199",
          "x": -0.8910705902173641,
          "y": -0.7272734846016885
         },
         {
          "font": {
           "size": 10
          },
          "showarrow": false,
          "text": "C0200",
          "x": 0.6504569574832099,
          "y": 0.2536377812474566
         }
        ],
        "coloraxis": {
         "colorbar": {
          "title": {
           "text": "Cluster"
          }
         },
         "colorscale": [
          [
           0,
           "#0d0887"
          ],
          [
           0.1111111111111111,
           "#46039f"
          ],
          [
           0.2222222222222222,
           "#7201a8"
          ],
          [
           0.3333333333333333,
           "#9c179e"
          ],
          [
           0.4444444444444444,
           "#bd3786"
          ],
          [
           0.5555555555555556,
           "#d8576b"
          ],
          [
           0.6666666666666666,
           "#ed7953"
          ],
          [
           0.7777777777777778,
           "#fb9f3a"
          ],
          [
           0.8888888888888888,
           "#fdca26"
          ],
          [
           1,
           "#f0f921"
          ]
         ]
        },
        "height": 600,
        "legend": {
         "tracegroupgap": 0
        },
        "template": {
         "data": {
          "bar": [
           {
            "error_x": {
             "color": "#2a3f5f"
            },
            "error_y": {
             "color": "#2a3f5f"
            },
            "marker": {
             "line": {
              "color": "#E5ECF6",
              "width": 0.5
             },
             "pattern": {
              "fillmode": "overlay",
              "size": 10,
              "solidity": 0.2
             }
            },
            "type": "bar"
           }
          ],
          "barpolar": [
           {
            "marker": {
             "line": {
              "color": "#E5ECF6",
              "width": 0.5
             },
             "pattern": {
              "fillmode": "overlay",
              "size": 10,
              "solidity": 0.2
             }
            },
            "type": "barpolar"
           }
          ],
          "carpet": [
           {
            "aaxis": {
             "endlinecolor": "#2a3f5f",
             "gridcolor": "white",
             "linecolor": "white",
             "minorgridcolor": "white",
             "startlinecolor": "#2a3f5f"
            },
            "baxis": {
             "endlinecolor": "#2a3f5f",
             "gridcolor": "white",
             "linecolor": "white",
             "minorgridcolor": "white",
             "startlinecolor": "#2a3f5f"
            },
            "type": "carpet"
           }
          ],
          "choropleth": [
           {
            "colorbar": {
             "outlinewidth": 0,
             "ticks": ""
            },
            "type": "choropleth"
           }
          ],
          "contour": [
           {
            "colorbar": {
             "outlinewidth": 0,
             "ticks": ""
            },
            "colorscale": [
             [
              0,
              "#0d0887"
             ],
             [
              0.1111111111111111,
              "#46039f"
             ],
             [
              0.2222222222222222,
              "#7201a8"
             ],
             [
              0.3333333333333333,
              "#9c179e"
             ],
             [
              0.4444444444444444,
              "#bd3786"
             ],
             [
              0.5555555555555556,
              "#d8576b"
             ],
             [
              0.6666666666666666,
              "#ed7953"
             ],
             [
              0.7777777777777778,
              "#fb9f3a"
             ],
             [
              0.8888888888888888,
              "#fdca26"
             ],
             [
              1,
              "#f0f921"
             ]
            ],
            "type": "contour"
           }
          ],
          "contourcarpet": [
           {
            "colorbar": {
             "outlinewidth": 0,
             "ticks": ""
            },
            "type": "contourcarpet"
           }
          ],
          "heatmap": [
           {
            "colorbar": {
             "outlinewidth": 0,
             "ticks": ""
            },
            "colorscale": [
             [
              0,
              "#0d0887"
             ],
             [
              0.1111111111111111,
              "#46039f"
             ],
             [
              0.2222222222222222,
              "#7201a8"
             ],
             [
              0.3333333333333333,
              "#9c179e"
             ],
             [
              0.4444444444444444,
              "#bd3786"
             ],
             [
              0.5555555555555556,
              "#d8576b"
             ],
             [
              0.6666666666666666,
              "#ed7953"
             ],
             [
              0.7777777777777778,
              "#fb9f3a"
             ],
             [
              0.8888888888888888,
              "#fdca26"
             ],
             [
              1,
              "#f0f921"
             ]
            ],
            "type": "heatmap"
           }
          ],
          "heatmapgl": [
           {
            "colorbar": {
             "outlinewidth": 0,
             "ticks": ""
            },
            "colorscale": [
             [
              0,
              "#0d0887"
             ],
             [
              0.1111111111111111,
              "#46039f"
             ],
             [
              0.2222222222222222,
              "#7201a8"
             ],
             [
              0.3333333333333333,
              "#9c179e"
             ],
             [
              0.4444444444444444,
              "#bd3786"
             ],
             [
              0.5555555555555556,
              "#d8576b"
             ],
             [
              0.6666666666666666,
              "#ed7953"
             ],
             [
              0.7777777777777778,
              "#fb9f3a"
             ],
             [
              0.8888888888888888,
              "#fdca26"
             ],
             [
              1,
              "#f0f921"
             ]
            ],
            "type": "heatmapgl"
           }
          ],
          "histogram": [
           {
            "marker": {
             "pattern": {
              "fillmode": "overlay",
              "size": 10,
              "solidity": 0.2
             }
            },
            "type": "histogram"
           }
          ],
          "histogram2d": [
           {
            "colorbar": {
             "outlinewidth": 0,
             "ticks": ""
            },
            "colorscale": [
             [
              0,
              "#0d0887"
             ],
             [
              0.1111111111111111,
              "#46039f"
             ],
             [
              0.2222222222222222,
              "#7201a8"
             ],
             [
              0.3333333333333333,
              "#9c179e"
             ],
             [
              0.4444444444444444,
              "#bd3786"
             ],
             [
              0.5555555555555556,
              "#d8576b"
             ],
             [
              0.6666666666666666,
              "#ed7953"
             ],
             [
              0.7777777777777778,
              "#fb9f3a"
             ],
             [
              0.8888888888888888,
              "#fdca26"
             ],
             [
              1,
              "#f0f921"
             ]
            ],
            "type": "histogram2d"
           }
          ],
          "histogram2dcontour": [
           {
            "colorbar": {
             "outlinewidth": 0,
             "ticks": ""
            },
            "colorscale": [
             [
              0,
              "#0d0887"
             ],
             [
              0.1111111111111111,
              "#46039f"
             ],
             [
              0.2222222222222222,
              "#7201a8"
             ],
             [
              0.3333333333333333,
              "#9c179e"
             ],
             [
              0.4444444444444444,
              "#bd3786"
             ],
             [
              0.5555555555555556,
              "#d8576b"
             ],
             [
              0.6666666666666666,
              "#ed7953"
             ],
             [
              0.7777777777777778,
              "#fb9f3a"
             ],
             [
              0.8888888888888888,
              "#fdca26"
             ],
             [
              1,
              "#f0f921"
             ]
            ],
            "type": "histogram2dcontour"
           }
          ],
          "mesh3d": [
           {
            "colorbar": {
             "outlinewidth": 0,
             "ticks": ""
            },
            "type": "mesh3d"
           }
          ],
          "parcoords": [
           {
            "line": {
             "colorbar": {
              "outlinewidth": 0,
              "ticks": ""
             }
            },
            "type": "parcoords"
           }
          ],
          "pie": [
           {
            "automargin": true,
            "type": "pie"
           }
          ],
          "scatter": [
           {
            "fillpattern": {
             "fillmode": "overlay",
             "size": 10,
             "solidity": 0.2
            },
            "type": "scatter"
           }
          ],
          "scatter3d": [
           {
            "line": {
             "colorbar": {
              "outlinewidth": 0,
              "ticks": ""
             }
            },
            "marker": {
             "colorbar": {
              "outlinewidth": 0,
              "ticks": ""
             }
            },
            "type": "scatter3d"
           }
          ],
          "scattercarpet": [
           {
            "marker": {
             "colorbar": {
              "outlinewidth": 0,
              "ticks": ""
             }
            },
            "type": "scattercarpet"
           }
          ],
          "scattergeo": [
           {
            "marker": {
             "colorbar": {
              "outlinewidth": 0,
              "ticks": ""
             }
            },
            "type": "scattergeo"
           }
          ],
          "scattergl": [
           {
            "marker": {
             "colorbar": {
              "outlinewidth": 0,
              "ticks": ""
             }
            },
            "type": "scattergl"
           }
          ],
          "scattermapbox": [
           {
            "marker": {
             "colorbar": {
              "outlinewidth": 0,
              "ticks": ""
             }
            },
            "type": "scattermapbox"
           }
          ],
          "scatterpolar": [
           {
            "marker": {
             "colorbar": {
              "outlinewidth": 0,
              "ticks": ""
             }
            },
            "type": "scatterpolar"
           }
          ],
          "scatterpolargl": [
           {
            "marker": {
             "colorbar": {
              "outlinewidth": 0,
              "ticks": ""
             }
            },
            "type": "scatterpolargl"
           }
          ],
          "scatterternary": [
           {
            "marker": {
             "colorbar": {
              "outlinewidth": 0,
              "ticks": ""
             }
            },
            "type": "scatterternary"
           }
          ],
          "surface": [
           {
            "colorbar": {
             "outlinewidth": 0,
             "ticks": ""
            },
            "colorscale": [
             [
              0,
              "#0d0887"
             ],
             [
              0.1111111111111111,
              "#46039f"
             ],
             [
              0.2222222222222222,
              "#7201a8"
             ],
             [
              0.3333333333333333,
              "#9c179e"
             ],
             [
              0.4444444444444444,
              "#bd3786"
             ],
             [
              0.5555555555555556,
              "#d8576b"
             ],
             [
              0.6666666666666666,
              "#ed7953"
             ],
             [
              0.7777777777777778,
              "#fb9f3a"
             ],
             [
              0.8888888888888888,
              "#fdca26"
             ],
             [
              1,
              "#f0f921"
             ]
            ],
            "type": "surface"
           }
          ],
          "table": [
           {
            "cells": {
             "fill": {
              "color": "#EBF0F8"
             },
             "line": {
              "color": "white"
             }
            },
            "header": {
             "fill": {
              "color": "#C8D4E3"
             },
             "line": {
              "color": "white"
             }
            },
            "type": "table"
           }
          ]
         },
         "layout": {
          "annotationdefaults": {
           "arrowcolor": "#2a3f5f",
           "arrowhead": 0,
           "arrowwidth": 1
          },
          "autotypenumbers": "strict",
          "coloraxis": {
           "colorbar": {
            "outlinewidth": 0,
            "ticks": ""
           }
          },
          "colorscale": {
           "diverging": [
            [
             0,
             "#8e0152"
            ],
            [
             0.1,
             "#c51b7d"
            ],
            [
             0.2,
             "#de77ae"
            ],
            [
             0.3,
             "#f1b6da"
            ],
            [
             0.4,
             "#fde0ef"
            ],
            [
             0.5,
             "#f7f7f7"
            ],
            [
             0.6,
             "#e6f5d0"
            ],
            [
             0.7,
             "#b8e186"
            ],
            [
             0.8,
             "#7fbc41"
            ],
            [
             0.9,
             "#4d9221"
            ],
            [
             1,
             "#276419"
            ]
           ],
           "sequential": [
            [
             0,
             "#0d0887"
            ],
            [
             0.1111111111111111,
             "#46039f"
            ],
            [
             0.2222222222222222,
             "#7201a8"
            ],
            [
             0.3333333333333333,
             "#9c179e"
            ],
            [
             0.4444444444444444,
             "#bd3786"
            ],
            [
             0.5555555555555556,
             "#d8576b"
            ],
            [
             0.6666666666666666,
             "#ed7953"
            ],
            [
             0.7777777777777778,
             "#fb9f3a"
            ],
            [
             0.8888888888888888,
             "#fdca26"
            ],
            [
             1,
             "#f0f921"
            ]
           ],
           "sequentialminus": [
            [
             0,
             "#0d0887"
            ],
            [
             0.1111111111111111,
             "#46039f"
            ],
            [
             0.2222222222222222,
             "#7201a8"
            ],
            [
             0.3333333333333333,
             "#9c179e"
            ],
            [
             0.4444444444444444,
             "#bd3786"
            ],
            [
             0.5555555555555556,
             "#d8576b"
            ],
            [
             0.6666666666666666,
             "#ed7953"
            ],
            [
             0.7777777777777778,
             "#fb9f3a"
            ],
            [
             0.8888888888888888,
             "#fdca26"
            ],
            [
             1,
             "#f0f921"
            ]
           ]
          },
          "colorway": [
           "#636efa",
           "#EF553B",
           "#00cc96",
           "#ab63fa",
           "#FFA15A",
           "#19d3f3",
           "#FF6692",
           "#B6E880",
           "#FF97FF",
           "#FECB52"
          ],
          "font": {
           "color": "#2a3f5f"
          },
          "geo": {
           "bgcolor": "white",
           "lakecolor": "white",
           "landcolor": "#E5ECF6",
           "showlakes": true,
           "showland": true,
           "subunitcolor": "white"
          },
          "hoverlabel": {
           "align": "left"
          },
          "hovermode": "closest",
          "mapbox": {
           "style": "light"
          },
          "paper_bgcolor": "white",
          "plot_bgcolor": "#E5ECF6",
          "polar": {
           "angularaxis": {
            "gridcolor": "white",
            "linecolor": "white",
            "ticks": ""
           },
           "bgcolor": "#E5ECF6",
           "radialaxis": {
            "gridcolor": "white",
            "linecolor": "white",
            "ticks": ""
           }
          },
          "scene": {
           "xaxis": {
            "backgroundcolor": "#E5ECF6",
            "gridcolor": "white",
            "gridwidth": 2,
            "linecolor": "white",
            "showbackground": true,
            "ticks": "",
            "zerolinecolor": "white"
           },
           "yaxis": {
            "backgroundcolor": "#E5ECF6",
            "gridcolor": "white",
            "gridwidth": 2,
            "linecolor": "white",
            "showbackground": true,
            "ticks": "",
            "zerolinecolor": "white"
           },
           "zaxis": {
            "backgroundcolor": "#E5ECF6",
            "gridcolor": "white",
            "gridwidth": 2,
            "linecolor": "white",
            "showbackground": true,
            "ticks": "",
            "zerolinecolor": "white"
           }
          },
          "shapedefaults": {
           "line": {
            "color": "#2a3f5f"
           }
          },
          "ternary": {
           "aaxis": {
            "gridcolor": "white",
            "linecolor": "white",
            "ticks": ""
           },
           "baxis": {
            "gridcolor": "white",
            "linecolor": "white",
            "ticks": ""
           },
           "bgcolor": "#E5ECF6",
           "caxis": {
            "gridcolor": "white",
            "linecolor": "white",
            "ticks": ""
           }
          },
          "title": {
           "x": 0.05
          },
          "xaxis": {
           "automargin": true,
           "gridcolor": "white",
           "linecolor": "white",
           "ticks": "",
           "title": {
            "standoff": 15
           },
           "zerolinecolor": "white",
           "zerolinewidth": 2
          },
          "yaxis": {
           "automargin": true,
           "gridcolor": "white",
           "linecolor": "white",
           "ticks": "",
           "title": {
            "standoff": 15
           },
           "zerolinecolor": "white",
           "zerolinewidth": 2
          }
         }
        },
        "title": {
         "text": "Customer Segments (K-Means, 4 Clusters)"
        },
        "width": 900,
        "xaxis": {
         "anchor": "y",
         "domain": [
          0,
          1
         ],
         "title": {
          "text": "PCA Component 1"
         }
        },
        "yaxis": {
         "anchor": "x",
         "domain": [
          0,
          1
         ],
         "title": {
          "text": "PCA Component 2"
         }
        }
       }
      }
     },
     "metadata": {},
     "output_type": "display_data"
    }
   ],
   "source": [
    "# Create a scatter plot with customer names annotated\n",
    "fig = px.scatter(customer_data_4, x='PCA1', y='PCA2', color='Cluster', \n",
    "                 hover_data=['CustomerID', 'CustomerName'], title='Customer Segments (K-Means, 4 Clusters)')\n",
    "\n",
    "# Add customer ID as text annotations\n",
    "for i, row in customer_data_4.iterrows():\n",
    "    fig.add_annotation(x=row['PCA1'], y=row['PCA2'], text=row['CustomerID'], showarrow=False, font=dict(size=10))\n",
    "\n",
    "fig.update_traces(marker=dict(size=12, opacity=0.9, line=dict(width=2, color='Black')))\n",
    "fig.update_layout(xaxis_title='PCA Component 1', yaxis_title='PCA Component 2', width=900, height=600)\n",
    "fig.show()"
   ]
  }
 ],
 "metadata": {
  "kernelspec": {
   "display_name": "zt",
   "language": "python",
   "name": "python3"
  },
  "language_info": {
   "codemirror_mode": {
    "name": "ipython",
    "version": 3
   },
   "file_extension": ".py",
   "mimetype": "text/x-python",
   "name": "python",
   "nbconvert_exporter": "python",
   "pygments_lexer": "ipython3",
   "version": "3.11.3"
  }
 },
 "nbformat": 4,
 "nbformat_minor": 2
}
