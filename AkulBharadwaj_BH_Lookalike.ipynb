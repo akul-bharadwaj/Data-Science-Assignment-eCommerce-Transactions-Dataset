{
 "cells": [
  {
   "cell_type": "markdown",
   "metadata": {},
   "source": [
    "# <b>Task 2</b>: Lookalike Model\n",
    "\n",
    "Build a <b>Lookalike Model</b> that takes a user's information as input and recommends <b>3 similar\n",
    "customers</b> based on their profile and transaction history. The model should:\n",
    "- Use both <b>customer</b> and product information.\n",
    "- Assign a <b>similarity</b> score to each recommended customer"
   ]
  },
  {
   "cell_type": "markdown",
   "metadata": {},
   "source": [
    "## Loading the Dataset"
   ]
  },
  {
   "cell_type": "code",
   "execution_count": 1,
   "metadata": {},
   "outputs": [],
   "source": [
    "import pandas as pd\n",
    "\n",
    "customers = pd.read_csv(\"Customers.csv\")\n",
    "products = pd.read_csv(\"Products.csv\")\n",
    "transactions = pd.read_csv(\"Transactions.csv\")"
   ]
  },
  {
   "cell_type": "markdown",
   "metadata": {},
   "source": [
    "## Merging the files"
   ]
  },
  {
   "cell_type": "code",
   "execution_count": 2,
   "metadata": {},
   "outputs": [],
   "source": [
    "merged = transactions.merge(customers, on=\"CustomerID\", how=\"left\").merge(products, on=\"ProductID\", how=\"left\")"
   ]
  },
  {
   "cell_type": "markdown",
   "metadata": {},
   "source": [
    "## Aggregating the data\n",
    "\n",
    "1. <b>Profile Information</b>:\n",
    "   - Region\n",
    "   - Signup Date\n",
    "2. <b>Transaction Behavior</b>:\n",
    "   - Total spending (TotalValue).\n",
    "   - Total quantity purchased (Quantity).\n",
    "3. <b>Product Preferences</b>:\n",
    "   - Product category preferences."
   ]
  },
  {
   "cell_type": "code",
   "execution_count": 3,
   "metadata": {},
   "outputs": [],
   "source": [
    "import numpy as np\n",
    "\n",
    "# Aggregate transaction data for customers\n",
    "customer_features = merged.groupby('CustomerID').agg({\n",
    "    'TotalValue': 'sum',\n",
    "    'Quantity': 'sum',\n",
    "    'Category': lambda x: x.value_counts().index[0],  # Most purchased product category\n",
    "    'Region': 'first', \n",
    "    'SignupDate': 'first',  \n",
    "}).reset_index()\n",
    "\n",
    "# Convert 'SignupDate' to years since signup\n",
    "customer_features['SignupDate'] = pd.to_datetime(customer_features['SignupDate'])\n",
    "customer_features['YearsSinceSignup'] = (pd.Timestamp.now() - customer_features['SignupDate']).dt.days / 365\n",
    "\n",
    "# One-hot encode region and category\n",
    "customer_features = pd.get_dummies(customer_features, columns=['Region', 'Category'], drop_first=True)"
   ]
  },
  {
   "cell_type": "markdown",
   "metadata": {},
   "source": [
    "## Defining Similarity\n",
    "\n",
    "- <b>Demographic features</b>: Region, YearsSinceSignup.\n",
    "- <b>Behavioral features</b>: Total spending, total quantity purchased, category preferences."
   ]
  },
  {
   "cell_type": "code",
   "execution_count": 4,
   "metadata": {},
   "outputs": [],
   "source": [
    "# Standardize features\n",
    "from sklearn.preprocessing import StandardScaler\n",
    "\n",
    "scaler = StandardScaler()\n",
    "scaled_features = scaler.fit_transform(customer_features.drop(['CustomerID', 'SignupDate'], axis=1))"
   ]
  },
  {
   "cell_type": "markdown",
   "metadata": {},
   "source": [
    "## Building the Similarity (Lookalike) Model\n",
    "\n",
    "Similarity Score used - <b>Cosine Similarity</b>"
   ]
  },
  {
   "cell_type": "code",
   "execution_count": 5,
   "metadata": {},
   "outputs": [],
   "source": [
    "from sklearn.metrics.pairwise import cosine_similarity\n",
    "\n",
    "# Compute cosine similarity\n",
    "similarity_matrix = cosine_similarity(scaled_features)\n",
    "\n",
    "# Convert to DataFrame for easier lookup\n",
    "similarity_df = pd.DataFrame(similarity_matrix, index=customer_features['CustomerID'], columns=customer_features['CustomerID'])"
   ]
  },
  {
   "cell_type": "markdown",
   "metadata": {},
   "source": [
    "## Recommeding Similar Customers / Lookalikes"
   ]
  },
  {
   "cell_type": "code",
   "execution_count": 6,
   "metadata": {},
   "outputs": [
    {
     "name": "stdout",
     "output_type": "stream",
     "text": [
      "CustomerID\n",
      "C0184    0.996783\n",
      "C0118    0.982304\n",
      "C0107    0.971308\n",
      "Name: C0001, dtype: float64\n"
     ]
    }
   ],
   "source": [
    "def recommend_similar_customers(customer_id, n=3):\n",
    "    # Get similarity scores for the target customer\n",
    "    scores = similarity_df.loc[customer_id].sort_values(ascending=False)\n",
    "    \n",
    "    # Exclude the target customer and get the top N similar customers\n",
    "    top_customers = scores.iloc[1:n+1]\n",
    "    \n",
    "    return top_customers\n",
    "\n",
    "# Recommend for the first customer in the customer_features DataFrame\n",
    "example_customer_id = customer_features['CustomerID'].iloc[0]\n",
    "recommendations = recommend_similar_customers(customer_id=example_customer_id, n=3)\n",
    "print(recommendations)"
   ]
  },
  {
   "cell_type": "markdown",
   "metadata": {},
   "source": [
    "### Generating \"Lookalike.csv\" for the first 20 customers containing top 3 lookalikes with there similarity scores for each"
   ]
  },
  {
   "cell_type": "code",
   "execution_count": 7,
   "metadata": {},
   "outputs": [
    {
     "name": "stdout",
     "output_type": "stream",
     "text": [
      "Lookalike.csv has been created successfully!\n"
     ]
    }
   ],
   "source": [
    "lookalike_map = {}\n",
    "\n",
    "for customer_id in customers['CustomerID'][:20]:  # First 20 customers\n",
    "    # Get similarity scores for the target customer\n",
    "    scores = similarity_df.loc[customer_id].sort_values(ascending=False)\n",
    "    \n",
    "    # Exclude the target customer and get the top 3 similar customers\n",
    "    top_similar = scores.iloc[1:4]  # Top 3 excluding self\n",
    "    \n",
    "    # Add to lookalike map\n",
    "    lookalike_map[customer_id] = [(similar_id, round(score, 4)) for similar_id, score in top_similar.items()]\n",
    "\n",
    "# Prepare Lookalike Map as a CSV\n",
    "lookalike_rows = [\n",
    "    {\"cust_id\": cust_id, \"lookalikes\": str(lookalikes)}\n",
    "    for cust_id, lookalikes in lookalike_map.items()\n",
    "]\n",
    "\n",
    "lookalike_df = pd.DataFrame(lookalike_rows)\n",
    "\n",
    "# Save to CSV\n",
    "lookalike_df.to_csv(\"AkulBharadwaj_BH_Lookalike.csv\", index=False)\n",
    "print(\"Lookalike.csv has been created successfully!\")"
   ]
  }
 ],
 "metadata": {
  "kernelspec": {
   "display_name": "zt",
   "language": "python",
   "name": "python3"
  },
  "language_info": {
   "codemirror_mode": {
    "name": "ipython",
    "version": 3
   },
   "file_extension": ".py",
   "mimetype": "text/x-python",
   "name": "python",
   "nbconvert_exporter": "python",
   "pygments_lexer": "ipython3",
   "version": "3.11.3"
  }
 },
 "nbformat": 4,
 "nbformat_minor": 2
}
